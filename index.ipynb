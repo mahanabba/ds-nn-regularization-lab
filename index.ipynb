{
 "cells": [
  {
   "cell_type": "markdown",
   "metadata": {},
   "source": [
    "# Regularization and Optimization Lab\n",
    "\n",
    "## Objective\n",
    "\n",
    "In this lab, we'll gain experience detecting and dealing with a ANN model that is overfitting using various regularization and hyperparameter tuning techniques!"
   ]
  },
  {
   "cell_type": "markdown",
   "metadata": {},
   "source": [
    "## Getting Started\n",
    "\n",
    "In this lab, we'll work with a large dataset of customer complaints to a bank, with the goal of predicting what product the customer is complaining about based on the text of their complaint.  There are 7 different possible products that we can predict, making this a multi-class classification task. \n",
    "\n",
    "\n",
    "#### Preprocessing our Data Set\n",
    "We'll start by preprocessing our dataset by tokenizing the complaints and limiting the number of words we consider to reduce dimensionality. \n",
    "\n",
    "#### Building our Tuning our Model\n",
    "Once we have preprocessed our data set, we'll build a model and explore the various ways that we can reduce overfitting using the following strategies:\n",
    "- Early stopping to minimize the discrepancy between train and test accuracy.\n",
    "- L1 and L2 regularization.\n",
    "- Dropout regularization.\n",
    "- Using more data.\n",
    "\n",
    "\n",
    "**_Let's Get Started!_**"
   ]
  },
  {
   "cell_type": "markdown",
   "metadata": {},
   "source": [
    "## 2. Preprocessing the Bank Complaints Data Set"
   ]
  },
  {
   "cell_type": "markdown",
   "metadata": {},
   "source": [
    "### 2.1 Import the libraries and take a sample\n",
    "\n",
    "Run the cell below to import everything we'll need for this lab. "
   ]
  },
  {
   "cell_type": "code",
   "execution_count": 2,
   "metadata": {},
   "outputs": [],
   "source": [
    "import matplotlib.pyplot as plt\n",
    "import pandas as pd\n",
    "import numpy as np\n",
    "from sklearn.model_selection import train_test_split\n",
    "from keras.utils.np_utils import to_categorical\n",
    "from sklearn import preprocessing\n",
    "from keras.preprocessing.text import Tokenizer\n",
    "import random\n",
    "random.seed(0)"
   ]
  },
  {
   "cell_type": "markdown",
   "metadata": {},
   "source": [
    "Now, in the cell below, import our data into a DataFrame.  The data is currently stored in `Bank_complaints.csv`.\n",
    "Then, `.describe()` the dataset to get a feel for what we're working with. "
   ]
  },
  {
   "cell_type": "code",
   "execution_count": 3,
   "metadata": {},
   "outputs": [
    {
     "data": {
      "text/html": [
       "<div>\n",
       "<style scoped>\n",
       "    .dataframe tbody tr th:only-of-type {\n",
       "        vertical-align: middle;\n",
       "    }\n",
       "\n",
       "    .dataframe tbody tr th {\n",
       "        vertical-align: top;\n",
       "    }\n",
       "\n",
       "    .dataframe thead th {\n",
       "        text-align: right;\n",
       "    }\n",
       "</style>\n",
       "<table border=\"1\" class=\"dataframe\">\n",
       "  <thead>\n",
       "    <tr style=\"text-align: right;\">\n",
       "      <th></th>\n",
       "      <th>Product</th>\n",
       "      <th>Consumer complaint narrative</th>\n",
       "    </tr>\n",
       "  </thead>\n",
       "  <tbody>\n",
       "    <tr>\n",
       "      <th>count</th>\n",
       "      <td>60000</td>\n",
       "      <td>60000</td>\n",
       "    </tr>\n",
       "    <tr>\n",
       "      <th>unique</th>\n",
       "      <td>7</td>\n",
       "      <td>59724</td>\n",
       "    </tr>\n",
       "    <tr>\n",
       "      <th>top</th>\n",
       "      <td>Student loan</td>\n",
       "      <td>I am filing this complaint because Experian ha...</td>\n",
       "    </tr>\n",
       "    <tr>\n",
       "      <th>freq</th>\n",
       "      <td>11404</td>\n",
       "      <td>26</td>\n",
       "    </tr>\n",
       "  </tbody>\n",
       "</table>\n",
       "</div>"
      ],
      "text/plain": [
       "             Product                       Consumer complaint narrative\n",
       "count          60000                                              60000\n",
       "unique             7                                              59724\n",
       "top     Student loan  I am filing this complaint because Experian ha...\n",
       "freq           11404                                                 26"
      ]
     },
     "execution_count": 3,
     "metadata": {},
     "output_type": "execute_result"
    }
   ],
   "source": [
    "df =  pd.read_csv(\"Bank_complaints.csv\")\n",
    "df.describe()\n"
   ]
  },
  {
   "cell_type": "markdown",
   "metadata": {},
   "source": [
    "In order to speed things up during the development process (and also to give us the ability to see how adding more data affects our model performance), we're going to work with a sample of our dataset rather than the whole thing.  The entire dataset consists of 60,000 rows--we're going to build a model using only 10,000 items randomly sampled from this.\n",
    "\n",
    "In the cell below:\n",
    "\n",
    "* Get a random sample of `10000` items from our dataset (HINT: use the `df` object's `.sample()` method to make this easy)\n",
    "* Reset the indexes on these samples to `range(10000)`, so that the indices for our rows are sequential and make sense.\n",
    "* Store our labels, which are found in `\"Product\"`, in a different variable.\n",
    "* Store the data, found in `\"Consumer complaint narrative`, in the variable `complaints`."
   ]
  },
  {
   "cell_type": "code",
   "execution_count": 5,
   "metadata": {},
   "outputs": [],
   "source": [
    "df = df.sample(10000)\n",
    "df.index = df.reset_index()\n",
    "product = df[\"Product\"]\n",
    "complaints = df[\"Consumer complaint narrative\"]"
   ]
  },
  {
   "cell_type": "markdown",
   "metadata": {},
   "source": [
    "### 2.2 Tokenizing the Complaints"
   ]
  },
  {
   "cell_type": "markdown",
   "metadata": {},
   "source": [
    "We'll only keep 2,000 most common words and use one-hot encoding to quickly vectorize our dataset from text into a format that a neural network can work with. \n",
    "\n",
    "In the cell below:\n",
    "\n",
    "* Create a `Tokenizer()` object, and set the `num_words` parameter to `2000`.\n",
    "* Call the tokenizer object's `fit_on_texts()` method and pass in our `complaints` variable we created above. \n"
   ]
  },
  {
   "cell_type": "code",
   "execution_count": 6,
   "metadata": {},
   "outputs": [],
   "source": [
    "tokenizer = Tokenizer(num_words=2000)\n",
    "tokenizer.fit_on_texts(complaints)"
   ]
  },
  {
   "cell_type": "markdown",
   "metadata": {},
   "source": [
    "Now, we'll create some text sequences by calling the `tokenizer` object's `.texts_to_sequences()` method and feeding in our `complaints` object."
   ]
  },
  {
   "cell_type": "code",
   "execution_count": 7,
   "metadata": {},
   "outputs": [],
   "source": [
    "sequences = tokenizer.texts_to_sequences(complaints)"
   ]
  },
  {
   "cell_type": "markdown",
   "metadata": {},
   "source": [
    "Finally, we'll convert our text data from text to a vectorized matrix.  \n",
    "\n",
    "In the cell below:\n",
    "\n",
    "* Call the `tokenizer` object's `.texts_to_matrix` method, passing in our `complaints` variable, as well as setting the `mode` parameter equal to `'binary'`.\n",
    "* Store the tokenizer's `.word_index` in the appropriate variable.\n",
    "* Check the `np.shape()` of our `one_hot_results`."
   ]
  },
  {
   "cell_type": "code",
   "execution_count": 8,
   "metadata": {},
   "outputs": [
    {
     "data": {
      "text/plain": [
       "(10000, 2000)"
      ]
     },
     "execution_count": 8,
     "metadata": {},
     "output_type": "execute_result"
    }
   ],
   "source": [
    "one_hot_results= tokenizer.texts_to_matrix(complaints)\n",
    "word_index = tokenizer.word_index\n",
    "np.shape(one_hot_results) # Expected Results (10000, 2000)"
   ]
  },
  {
   "cell_type": "markdown",
   "metadata": {},
   "source": [
    "### 2.3 One-hot Encoding of the Products Column"
   ]
  },
  {
   "cell_type": "markdown",
   "metadata": {},
   "source": [
    "Now that we've tokenized and encoded our text data, we still need to one-hot encode our label data.  \n",
    "\n",
    "In the cell below:\n",
    "\n",
    "\n",
    "* Create a `LabelEncoder` object, which can found inside the `preprocessing` module.\n",
    "* `fit` the label encoder we just created to `product`."
   ]
  },
  {
   "cell_type": "code",
   "execution_count": 13,
   "metadata": {},
   "outputs": [
    {
     "data": {
      "text/html": [
       "<style>#sk-container-id-1 {color: black;background-color: white;}#sk-container-id-1 pre{padding: 0;}#sk-container-id-1 div.sk-toggleable {background-color: white;}#sk-container-id-1 label.sk-toggleable__label {cursor: pointer;display: block;width: 100%;margin-bottom: 0;padding: 0.3em;box-sizing: border-box;text-align: center;}#sk-container-id-1 label.sk-toggleable__label-arrow:before {content: \"▸\";float: left;margin-right: 0.25em;color: #696969;}#sk-container-id-1 label.sk-toggleable__label-arrow:hover:before {color: black;}#sk-container-id-1 div.sk-estimator:hover label.sk-toggleable__label-arrow:before {color: black;}#sk-container-id-1 div.sk-toggleable__content {max-height: 0;max-width: 0;overflow: hidden;text-align: left;background-color: #f0f8ff;}#sk-container-id-1 div.sk-toggleable__content pre {margin: 0.2em;color: black;border-radius: 0.25em;background-color: #f0f8ff;}#sk-container-id-1 input.sk-toggleable__control:checked~div.sk-toggleable__content {max-height: 200px;max-width: 100%;overflow: auto;}#sk-container-id-1 input.sk-toggleable__control:checked~label.sk-toggleable__label-arrow:before {content: \"▾\";}#sk-container-id-1 div.sk-estimator input.sk-toggleable__control:checked~label.sk-toggleable__label {background-color: #d4ebff;}#sk-container-id-1 div.sk-label input.sk-toggleable__control:checked~label.sk-toggleable__label {background-color: #d4ebff;}#sk-container-id-1 input.sk-hidden--visually {border: 0;clip: rect(1px 1px 1px 1px);clip: rect(1px, 1px, 1px, 1px);height: 1px;margin: -1px;overflow: hidden;padding: 0;position: absolute;width: 1px;}#sk-container-id-1 div.sk-estimator {font-family: monospace;background-color: #f0f8ff;border: 1px dotted black;border-radius: 0.25em;box-sizing: border-box;margin-bottom: 0.5em;}#sk-container-id-1 div.sk-estimator:hover {background-color: #d4ebff;}#sk-container-id-1 div.sk-parallel-item::after {content: \"\";width: 100%;border-bottom: 1px solid gray;flex-grow: 1;}#sk-container-id-1 div.sk-label:hover label.sk-toggleable__label {background-color: #d4ebff;}#sk-container-id-1 div.sk-serial::before {content: \"\";position: absolute;border-left: 1px solid gray;box-sizing: border-box;top: 0;bottom: 0;left: 50%;z-index: 0;}#sk-container-id-1 div.sk-serial {display: flex;flex-direction: column;align-items: center;background-color: white;padding-right: 0.2em;padding-left: 0.2em;position: relative;}#sk-container-id-1 div.sk-item {position: relative;z-index: 1;}#sk-container-id-1 div.sk-parallel {display: flex;align-items: stretch;justify-content: center;background-color: white;position: relative;}#sk-container-id-1 div.sk-item::before, #sk-container-id-1 div.sk-parallel-item::before {content: \"\";position: absolute;border-left: 1px solid gray;box-sizing: border-box;top: 0;bottom: 0;left: 50%;z-index: -1;}#sk-container-id-1 div.sk-parallel-item {display: flex;flex-direction: column;z-index: 1;position: relative;background-color: white;}#sk-container-id-1 div.sk-parallel-item:first-child::after {align-self: flex-end;width: 50%;}#sk-container-id-1 div.sk-parallel-item:last-child::after {align-self: flex-start;width: 50%;}#sk-container-id-1 div.sk-parallel-item:only-child::after {width: 0;}#sk-container-id-1 div.sk-dashed-wrapped {border: 1px dashed gray;margin: 0 0.4em 0.5em 0.4em;box-sizing: border-box;padding-bottom: 0.4em;background-color: white;}#sk-container-id-1 div.sk-label label {font-family: monospace;font-weight: bold;display: inline-block;line-height: 1.2em;}#sk-container-id-1 div.sk-label-container {text-align: center;}#sk-container-id-1 div.sk-container {/* jupyter's `normalize.less` sets `[hidden] { display: none; }` but bootstrap.min.css set `[hidden] { display: none !important; }` so we also need the `!important` here to be able to override the default hidden behavior on the sphinx rendered scikit-learn.org. See: https://github.com/scikit-learn/scikit-learn/issues/21755 */display: inline-block !important;position: relative;}#sk-container-id-1 div.sk-text-repr-fallback {display: none;}</style><div id=\"sk-container-id-1\" class=\"sk-top-container\"><div class=\"sk-text-repr-fallback\"><pre>LabelEncoder()</pre><b>In a Jupyter environment, please rerun this cell to show the HTML representation or trust the notebook. <br />On GitHub, the HTML representation is unable to render, please try loading this page with nbviewer.org.</b></div><div class=\"sk-container\" hidden><div class=\"sk-item\"><div class=\"sk-estimator sk-toggleable\"><input class=\"sk-toggleable__control sk-hidden--visually\" id=\"sk-estimator-id-1\" type=\"checkbox\" checked><label for=\"sk-estimator-id-1\" class=\"sk-toggleable__label sk-toggleable__label-arrow\">LabelEncoder</label><div class=\"sk-toggleable__content\"><pre>LabelEncoder()</pre></div></div></div></div></div>"
      ],
      "text/plain": [
       "LabelEncoder()"
      ]
     },
     "execution_count": 13,
     "metadata": {},
     "output_type": "execute_result"
    }
   ],
   "source": [
    "from sklearn.preprocessing import LabelEncoder\n",
    "\n",
    "le = LabelEncoder()\n",
    "le.fit(product)"
   ]
  },
  {
   "cell_type": "markdown",
   "metadata": {},
   "source": [
    "Let's check what classes our label encoder found.  Run the cell below to examine a list of classes that `product` contains."
   ]
  },
  {
   "cell_type": "code",
   "execution_count": 14,
   "metadata": {},
   "outputs": [
    {
     "data": {
      "text/plain": [
       "['Bank account or service',\n",
       " 'Checking or savings account',\n",
       " 'Consumer Loan',\n",
       " 'Credit card',\n",
       " 'Credit reporting',\n",
       " 'Mortgage',\n",
       " 'Student loan']"
      ]
     },
     "execution_count": 14,
     "metadata": {},
     "output_type": "execute_result"
    }
   ],
   "source": [
    " list(le.classes_)"
   ]
  },
  {
   "cell_type": "markdown",
   "metadata": {},
   "source": [
    "Now, we'll need to transform `product` into a numeric vector.  \n",
    "\n",
    "In the cell below, use the label encoder's `.transform` method on `product` to create an integer encoded version of our labels. \n",
    "\n",
    "Then, access `product_cat` to see an example of how the labels are now encoded. "
   ]
  },
  {
   "cell_type": "code",
   "execution_count": 15,
   "metadata": {},
   "outputs": [
    {
     "data": {
      "text/plain": [
       "array([5, 3, 2, ..., 0, 1, 6])"
      ]
     },
     "execution_count": 15,
     "metadata": {},
     "output_type": "execute_result"
    }
   ],
   "source": [
    "product_cat = le.transform(product)\n",
    "product_cat"
   ]
  },
  {
   "cell_type": "markdown",
   "metadata": {},
   "source": [
    "Now, we need to go from integer encoding to one-hot encoding.  Use the `to_categorical` method from keras to do this easily in the cell below."
   ]
  },
  {
   "cell_type": "code",
   "execution_count": 18,
   "metadata": {},
   "outputs": [],
   "source": [
    "product_onehot = to_categorical(product_cat)"
   ]
  },
  {
   "cell_type": "code",
   "execution_count": 19,
   "metadata": {},
   "outputs": [
    {
     "data": {
      "text/plain": [
       "array([[0., 0., 0., ..., 0., 1., 0.],\n",
       "       [0., 0., 0., ..., 0., 0., 0.],\n",
       "       [0., 0., 1., ..., 0., 0., 0.],\n",
       "       ...,\n",
       "       [1., 0., 0., ..., 0., 0., 0.],\n",
       "       [0., 1., 0., ..., 0., 0., 0.],\n",
       "       [0., 0., 0., ..., 0., 0., 1.]], dtype=float32)"
      ]
     },
     "execution_count": 19,
     "metadata": {},
     "output_type": "execute_result"
    }
   ],
   "source": [
    "product_onehot"
   ]
  },
  {
   "cell_type": "markdown",
   "metadata": {},
   "source": [
    "Finally, let's check the shape of our one-hot encoded labels to make sure everything worked correctly."
   ]
  },
  {
   "cell_type": "code",
   "execution_count": 20,
   "metadata": {},
   "outputs": [
    {
     "data": {
      "text/plain": [
       "(10000, 7)"
      ]
     },
     "execution_count": 20,
     "metadata": {},
     "output_type": "execute_result"
    }
   ],
   "source": [
    "np.shape(product_onehot) # Expected Output: (10000, 7)"
   ]
  },
  {
   "cell_type": "markdown",
   "metadata": {},
   "source": [
    "### 2.4 Train - test split\n",
    "\n",
    "Now, we'll split our data into training and testing sets.  \n",
    "\n",
    "\n",
    "We'll accomplish this by generating a random list of 1500 different indices between 1 and 10000.  Then, we'll slice these rows and store them as our test set, and delete them from the training set (it's very important to remember to remove them from the training set!)\n",
    "\n",
    "Run the cell below to create a set of random indices for our test set. "
   ]
  },
  {
   "cell_type": "code",
   "execution_count": 21,
   "metadata": {},
   "outputs": [],
   "source": [
    "test_index = random.sample(range(1,10000), 1500)"
   ]
  },
  {
   "cell_type": "markdown",
   "metadata": {},
   "source": [
    "Now:\n",
    "\n",
    "* Slice the `test_index` rows from `one_hot_results` and store them in `test`."
   ]
  },
  {
   "cell_type": "code",
   "execution_count": 23,
   "metadata": {},
   "outputs": [],
   "source": [
    "test = one_hot_results[test_index]\n",
    "\n",
    "# This line returns a version of our one_hot_results that has every item with an index in test_index removed\n",
    "train = np.delete(one_hot_results, test_index, 0)"
   ]
  },
  {
   "cell_type": "markdown",
   "metadata": {},
   "source": [
    "Now, we'll need to repeat the splitting process on our labels, making sure that we use the same indices we used to split our data. \n",
    "\n",
    "In the cell below:\n",
    "\n",
    "* Slice `test_index` from `product_onehot`\n",
    "* Use `np.delete` to remove `test_index` items from `product_onehot` (the syntax is exactly the same above)"
   ]
  },
  {
   "cell_type": "code",
   "execution_count": 24,
   "metadata": {},
   "outputs": [],
   "source": [
    "label_test = product_onehot[test_index]\n",
    "label_train = np.delete(product_onehot, test_index, 0)"
   ]
  },
  {
   "cell_type": "markdown",
   "metadata": {},
   "source": [
    "Now, let's examine the shape everything we just did to make sure that the dimensions match up.  \n",
    "\n",
    "In the cell below, use `np.shape` to check the shape of:\n",
    "\n",
    "* `label_test`\n",
    "* `label_train`\n",
    "* `test`\n",
    "* `train`"
   ]
  },
  {
   "cell_type": "code",
   "execution_count": 25,
   "metadata": {},
   "outputs": [
    {
     "name": "stdout",
     "output_type": "stream",
     "text": [
      "[[0. 0. 0. ... 0. 0. 1.]\n",
      " [1. 0. 0. ... 0. 0. 0.]\n",
      " [0. 0. 0. ... 0. 0. 0.]\n",
      " ...\n",
      " [0. 0. 1. ... 0. 0. 0.]\n",
      " [0. 0. 1. ... 0. 0. 0.]\n",
      " [0. 0. 0. ... 0. 1. 0.]]\n",
      "[[0. 0. 0. ... 0. 1. 0.]\n",
      " [0. 0. 0. ... 0. 0. 0.]\n",
      " [0. 1. 0. ... 0. 0. 0.]\n",
      " ...\n",
      " [1. 0. 0. ... 0. 0. 0.]\n",
      " [0. 1. 0. ... 0. 0. 0.]\n",
      " [0. 0. 0. ... 0. 0. 1.]]\n",
      "[[0. 1. 1. ... 0. 0. 0.]\n",
      " [0. 1. 1. ... 0. 0. 0.]\n",
      " [0. 1. 1. ... 0. 0. 0.]\n",
      " ...\n",
      " [0. 1. 1. ... 0. 0. 0.]\n",
      " [0. 1. 1. ... 0. 0. 0.]\n",
      " [0. 1. 1. ... 0. 0. 0.]]\n",
      "[[0. 1. 1. ... 0. 0. 0.]\n",
      " [0. 1. 1. ... 0. 0. 0.]\n",
      " [0. 0. 0. ... 0. 0. 0.]\n",
      " ...\n",
      " [0. 1. 1. ... 0. 0. 0.]\n",
      " [0. 1. 1. ... 0. 0. 0.]\n",
      " [0. 1. 1. ... 0. 0. 0.]]\n"
     ]
    }
   ],
   "source": [
    "print(label_test) # Expected Output: (1500, 7)\n",
    "print(label_train) # Expected Output: (8500, 7)\n",
    "print(test) # Expected Output: (1500, 2000)\n",
    "print(train) # Expected Output: (8500, 2000)"
   ]
  },
  {
   "cell_type": "markdown",
   "metadata": {},
   "source": [
    "## 3. Running the model using a validation set."
   ]
  },
  {
   "cell_type": "markdown",
   "metadata": {},
   "source": [
    "### 3.1 Creating the validation set"
   ]
  },
  {
   "cell_type": "markdown",
   "metadata": {},
   "source": [
    "In the lecture we mentioned that in deep learning, we generally keep aside a validation set, which is used during hyperparameter tuning. Then when we have made the final model decision, the test set is used to define the final model perforance. \n",
    "\n",
    "In this example, let's take the first 1000 cases out of the training set to become the validation set. You should do this for both `train` and `label_train`.\n",
    "\n",
    "Run the cell below to create our validation set. "
   ]
  },
  {
   "cell_type": "code",
   "execution_count": 26,
   "metadata": {},
   "outputs": [],
   "source": [
    "random.seed(123)\n",
    "val = train[:1000]\n",
    "train_final = train[1000:]\n",
    "label_val = label_train[:1000]\n",
    "label_train_final = label_train[1000:]"
   ]
  },
  {
   "cell_type": "markdown",
   "metadata": {},
   "source": [
    "### 3.2 Creating, compiling and running the model"
   ]
  },
  {
   "cell_type": "markdown",
   "metadata": {},
   "source": [
    "Let's rebuild a fully connected (Dense) layer network with relu activations in Keras."
   ]
  },
  {
   "cell_type": "markdown",
   "metadata": {},
   "source": [
    "Recall that we used 2 hidden with 50 units in the first layer and 25 in the second, both with a `relu` activation function. Because we are dealing with a multiclass problem (classifying the complaints into 7 classes), we use a use a softmax classifyer in order to output 7 class probabilities per case.\n",
    "\n",
    "In the cell below:\n",
    "\n",
    "* Import `Sequential` from the appropriate module in keras.\n",
    "* Import `Dense` from the appropriate module in keras."
   ]
  },
  {
   "cell_type": "code",
   "execution_count": 29,
   "metadata": {},
   "outputs": [],
   "source": [
    "import tensorflow as tf\n",
    "import keras \n",
    "from keras import models\n",
    "from keras.layers import Dense\n",
    "from keras.models import Sequential\n",
    "from keras.losses import binary_crossentropy\n",
    "from keras.wrappers.scikit_learn import KerasClassifier\n",
    "\n",
    "\n",
    "model = Sequential()\n",
    "model.add(Dense(50, activation='relu', input_dim=2000))\n",
    "model.add(Dense(25, activation='relu'))\n",
    "model.add(Dense(7, activation='softmax'))\n",
    "model.compile(optimizer='SGD', loss='categorical_crossentropy', metrics=['accuracy'])"
   ]
  },
  {
   "cell_type": "markdown",
   "metadata": {},
   "source": [
    "Now, build a model with the following specifications in the cell below:\n",
    "\n",
    "* An input layer of shape `(2000,)`\n",
    "* Hidden layer 1: Dense, 50 neurons, relu activation \n",
    "* Hidden layer 2: Dense, 25 neurons, relu activation\n",
    "* Output layer: Dense, 7 neurons, softmax activation"
   ]
  },
  {
   "cell_type": "code",
   "execution_count": null,
   "metadata": {},
   "outputs": [],
   "source": []
  },
  {
   "cell_type": "markdown",
   "metadata": {},
   "source": [
    "In the cell below, `compile` the model with the following settings:\n",
    "\n",
    "* Optimizer is `\"SGD\"`\n",
    "* Loss is `'categorical_crossentropy'`\n",
    "* metrics is `['accuracy']`"
   ]
  },
  {
   "cell_type": "code",
   "execution_count": null,
   "metadata": {},
   "outputs": [],
   "source": [
    "# model.compile(optimizer=None,\n",
    "#               loss=None,\n",
    "#               metrics=None)"
   ]
  },
  {
   "cell_type": "markdown",
   "metadata": {},
   "source": [
    "Now, Train the model for 120 epochs in mini-batches of 256 samples. Also pass in `(val, label_val)` to the `validation_data` parameter, so that we see how our model does on the test set after every epoch. "
   ]
  },
  {
   "cell_type": "code",
   "execution_count": 31,
   "metadata": {},
   "outputs": [
    {
     "name": "stdout",
     "output_type": "stream",
     "text": [
      "Epoch 1/120\n",
      "30/30 [==============================] - 2s 36ms/step - loss: 1.9576 - accuracy: 0.1527 - val_loss: 1.9464 - val_accuracy: 0.1710\n",
      "Epoch 2/120\n",
      "30/30 [==============================] - 0s 11ms/step - loss: 1.9251 - accuracy: 0.1908 - val_loss: 1.9249 - val_accuracy: 0.1810\n",
      "Epoch 3/120\n",
      "30/30 [==============================] - 0s 10ms/step - loss: 1.9051 - accuracy: 0.2213 - val_loss: 1.9077 - val_accuracy: 0.2040\n",
      "Epoch 4/120\n",
      "30/30 [==============================] - 0s 12ms/step - loss: 1.8868 - accuracy: 0.2331 - val_loss: 1.8914 - val_accuracy: 0.2170\n",
      "Epoch 5/120\n",
      "30/30 [==============================] - 0s 11ms/step - loss: 1.8677 - accuracy: 0.2487 - val_loss: 1.8728 - val_accuracy: 0.2350\n",
      "Epoch 6/120\n",
      "30/30 [==============================] - 0s 11ms/step - loss: 1.8460 - accuracy: 0.2647 - val_loss: 1.8525 - val_accuracy: 0.2520\n",
      "Epoch 7/120\n",
      "30/30 [==============================] - 0s 10ms/step - loss: 1.8215 - accuracy: 0.2809 - val_loss: 1.8275 - val_accuracy: 0.2730\n",
      "Epoch 8/120\n",
      "30/30 [==============================] - 0s 9ms/step - loss: 1.7929 - accuracy: 0.3023 - val_loss: 1.7976 - val_accuracy: 0.3010\n",
      "Epoch 9/120\n",
      "30/30 [==============================] - 0s 9ms/step - loss: 1.7602 - accuracy: 0.3271 - val_loss: 1.7638 - val_accuracy: 0.3300\n",
      "Epoch 10/120\n",
      "30/30 [==============================] - 0s 10ms/step - loss: 1.7234 - accuracy: 0.3589 - val_loss: 1.7256 - val_accuracy: 0.3530\n",
      "Epoch 11/120\n",
      "30/30 [==============================] - 0s 9ms/step - loss: 1.6822 - accuracy: 0.3811 - val_loss: 1.6824 - val_accuracy: 0.3920\n",
      "Epoch 12/120\n",
      "30/30 [==============================] - 0s 12ms/step - loss: 1.6372 - accuracy: 0.4225 - val_loss: 1.6378 - val_accuracy: 0.4080\n",
      "Epoch 13/120\n",
      "30/30 [==============================] - 0s 13ms/step - loss: 1.5885 - accuracy: 0.4539 - val_loss: 1.5913 - val_accuracy: 0.4270\n",
      "Epoch 14/120\n",
      "30/30 [==============================] - 0s 11ms/step - loss: 1.5373 - accuracy: 0.4764 - val_loss: 1.5375 - val_accuracy: 0.4510\n",
      "Epoch 15/120\n",
      "30/30 [==============================] - 0s 12ms/step - loss: 1.4829 - accuracy: 0.5037 - val_loss: 1.4829 - val_accuracy: 0.4860\n",
      "Epoch 16/120\n",
      "30/30 [==============================] - 0s 8ms/step - loss: 1.4273 - accuracy: 0.5316 - val_loss: 1.4292 - val_accuracy: 0.5120\n",
      "Epoch 17/120\n",
      "30/30 [==============================] - 1s 18ms/step - loss: 1.3718 - accuracy: 0.5567 - val_loss: 1.3769 - val_accuracy: 0.5250\n",
      "Epoch 18/120\n",
      "30/30 [==============================] - 1s 17ms/step - loss: 1.3177 - accuracy: 0.5783 - val_loss: 1.3242 - val_accuracy: 0.5520\n",
      "Epoch 19/120\n",
      "30/30 [==============================] - 1s 17ms/step - loss: 1.2655 - accuracy: 0.5984 - val_loss: 1.2761 - val_accuracy: 0.5670\n",
      "Epoch 20/120\n",
      "30/30 [==============================] - 1s 18ms/step - loss: 1.2160 - accuracy: 0.6221 - val_loss: 1.2272 - val_accuracy: 0.5860\n",
      "Epoch 21/120\n",
      "30/30 [==============================] - 0s 12ms/step - loss: 1.1692 - accuracy: 0.6419 - val_loss: 1.1851 - val_accuracy: 0.5910\n",
      "Epoch 22/120\n",
      "30/30 [==============================] - 0s 10ms/step - loss: 1.1257 - accuracy: 0.6600 - val_loss: 1.1476 - val_accuracy: 0.6150\n",
      "Epoch 23/120\n",
      "30/30 [==============================] - 0s 11ms/step - loss: 1.0849 - accuracy: 0.6715 - val_loss: 1.1114 - val_accuracy: 0.6250\n",
      "Epoch 24/120\n",
      "30/30 [==============================] - 0s 12ms/step - loss: 1.0467 - accuracy: 0.6827 - val_loss: 1.0771 - val_accuracy: 0.6290\n",
      "Epoch 25/120\n",
      "30/30 [==============================] - 0s 12ms/step - loss: 1.0117 - accuracy: 0.6900 - val_loss: 1.0424 - val_accuracy: 0.6340\n",
      "Epoch 26/120\n",
      "30/30 [==============================] - 0s 12ms/step - loss: 0.9788 - accuracy: 0.6991 - val_loss: 1.0168 - val_accuracy: 0.6410\n",
      "Epoch 27/120\n",
      "30/30 [==============================] - 0s 13ms/step - loss: 0.9493 - accuracy: 0.7063 - val_loss: 0.9903 - val_accuracy: 0.6430\n",
      "Epoch 28/120\n",
      "30/30 [==============================] - 0s 12ms/step - loss: 0.9218 - accuracy: 0.7145 - val_loss: 0.9657 - val_accuracy: 0.6510\n",
      "Epoch 29/120\n",
      "30/30 [==============================] - 0s 11ms/step - loss: 0.8964 - accuracy: 0.7200 - val_loss: 0.9437 - val_accuracy: 0.6560\n",
      "Epoch 30/120\n",
      "30/30 [==============================] - 0s 15ms/step - loss: 0.8726 - accuracy: 0.7263 - val_loss: 0.9247 - val_accuracy: 0.6650\n",
      "Epoch 31/120\n",
      "30/30 [==============================] - 1s 20ms/step - loss: 0.8505 - accuracy: 0.7317 - val_loss: 0.9081 - val_accuracy: 0.6680\n",
      "Epoch 32/120\n",
      "30/30 [==============================] - 0s 11ms/step - loss: 0.8301 - accuracy: 0.7380 - val_loss: 0.8908 - val_accuracy: 0.6800\n",
      "Epoch 33/120\n",
      "30/30 [==============================] - 0s 15ms/step - loss: 0.8117 - accuracy: 0.7447 - val_loss: 0.8760 - val_accuracy: 0.6750\n",
      "Epoch 34/120\n",
      "30/30 [==============================] - 0s 12ms/step - loss: 0.7937 - accuracy: 0.7455 - val_loss: 0.8622 - val_accuracy: 0.6820\n",
      "Epoch 35/120\n",
      "30/30 [==============================] - 0s 12ms/step - loss: 0.7778 - accuracy: 0.7509 - val_loss: 0.8507 - val_accuracy: 0.6850\n",
      "Epoch 36/120\n",
      "30/30 [==============================] - 0s 12ms/step - loss: 0.7623 - accuracy: 0.7552 - val_loss: 0.8381 - val_accuracy: 0.6840\n",
      "Epoch 37/120\n",
      "30/30 [==============================] - 0s 10ms/step - loss: 0.7477 - accuracy: 0.7585 - val_loss: 0.8259 - val_accuracy: 0.6930\n",
      "Epoch 38/120\n",
      "30/30 [==============================] - 0s 11ms/step - loss: 0.7344 - accuracy: 0.7617 - val_loss: 0.8162 - val_accuracy: 0.6890\n",
      "Epoch 39/120\n",
      "30/30 [==============================] - 0s 12ms/step - loss: 0.7219 - accuracy: 0.7683 - val_loss: 0.8090 - val_accuracy: 0.6930\n",
      "Epoch 40/120\n",
      "30/30 [==============================] - 0s 12ms/step - loss: 0.7098 - accuracy: 0.7696 - val_loss: 0.7988 - val_accuracy: 0.6920\n",
      "Epoch 41/120\n",
      "30/30 [==============================] - 0s 12ms/step - loss: 0.6985 - accuracy: 0.7724 - val_loss: 0.7913 - val_accuracy: 0.7060\n",
      "Epoch 42/120\n",
      "30/30 [==============================] - 0s 12ms/step - loss: 0.6881 - accuracy: 0.7765 - val_loss: 0.7820 - val_accuracy: 0.7120\n",
      "Epoch 43/120\n",
      "30/30 [==============================] - 0s 15ms/step - loss: 0.6778 - accuracy: 0.7779 - val_loss: 0.7756 - val_accuracy: 0.7070\n",
      "Epoch 44/120\n",
      "30/30 [==============================] - 1s 25ms/step - loss: 0.6683 - accuracy: 0.7819 - val_loss: 0.7724 - val_accuracy: 0.7060\n",
      "Epoch 45/120\n",
      "30/30 [==============================] - 0s 12ms/step - loss: 0.6590 - accuracy: 0.7825 - val_loss: 0.7631 - val_accuracy: 0.7090\n",
      "Epoch 46/120\n",
      "30/30 [==============================] - 0s 12ms/step - loss: 0.6501 - accuracy: 0.7844 - val_loss: 0.7596 - val_accuracy: 0.7060\n",
      "Epoch 47/120\n",
      "30/30 [==============================] - 0s 12ms/step - loss: 0.6415 - accuracy: 0.7859 - val_loss: 0.7561 - val_accuracy: 0.7050\n",
      "Epoch 48/120\n",
      "30/30 [==============================] - 0s 12ms/step - loss: 0.6332 - accuracy: 0.7888 - val_loss: 0.7483 - val_accuracy: 0.7120\n",
      "Epoch 49/120\n",
      "30/30 [==============================] - 0s 12ms/step - loss: 0.6256 - accuracy: 0.7933 - val_loss: 0.7437 - val_accuracy: 0.7020\n",
      "Epoch 50/120\n",
      "30/30 [==============================] - 1s 23ms/step - loss: 0.6180 - accuracy: 0.7952 - val_loss: 0.7388 - val_accuracy: 0.7160\n",
      "Epoch 51/120\n",
      "30/30 [==============================] - 1s 29ms/step - loss: 0.6109 - accuracy: 0.7981 - val_loss: 0.7345 - val_accuracy: 0.7150\n",
      "Epoch 52/120\n",
      "30/30 [==============================] - 1s 27ms/step - loss: 0.6037 - accuracy: 0.7992 - val_loss: 0.7307 - val_accuracy: 0.7150\n",
      "Epoch 53/120\n",
      "30/30 [==============================] - 1s 26ms/step - loss: 0.5971 - accuracy: 0.8021 - val_loss: 0.7273 - val_accuracy: 0.7230\n",
      "Epoch 54/120\n",
      "30/30 [==============================] - 0s 12ms/step - loss: 0.5902 - accuracy: 0.8031 - val_loss: 0.7229 - val_accuracy: 0.7140\n",
      "Epoch 55/120\n",
      "30/30 [==============================] - 0s 12ms/step - loss: 0.5842 - accuracy: 0.8065 - val_loss: 0.7236 - val_accuracy: 0.7160\n",
      "Epoch 56/120\n",
      "30/30 [==============================] - 0s 13ms/step - loss: 0.5780 - accuracy: 0.8069 - val_loss: 0.7242 - val_accuracy: 0.7190\n",
      "Epoch 57/120\n",
      "30/30 [==============================] - 0s 11ms/step - loss: 0.5723 - accuracy: 0.8103 - val_loss: 0.7183 - val_accuracy: 0.7150\n",
      "Epoch 58/120\n",
      "30/30 [==============================] - 0s 12ms/step - loss: 0.5665 - accuracy: 0.8116 - val_loss: 0.7120 - val_accuracy: 0.7210\n",
      "Epoch 59/120\n",
      "30/30 [==============================] - 0s 11ms/step - loss: 0.5604 - accuracy: 0.8132 - val_loss: 0.7162 - val_accuracy: 0.7110\n",
      "Epoch 60/120\n",
      "30/30 [==============================] - 0s 12ms/step - loss: 0.5556 - accuracy: 0.8121 - val_loss: 0.7088 - val_accuracy: 0.7180\n",
      "Epoch 61/120\n",
      "30/30 [==============================] - 0s 12ms/step - loss: 0.5499 - accuracy: 0.8148 - val_loss: 0.7045 - val_accuracy: 0.7260\n",
      "Epoch 62/120\n",
      "30/30 [==============================] - 0s 11ms/step - loss: 0.5448 - accuracy: 0.8209 - val_loss: 0.7019 - val_accuracy: 0.7240\n",
      "Epoch 63/120\n",
      "30/30 [==============================] - 0s 14ms/step - loss: 0.5396 - accuracy: 0.8201 - val_loss: 0.7042 - val_accuracy: 0.7200\n",
      "Epoch 64/120\n",
      "30/30 [==============================] - 1s 23ms/step - loss: 0.5352 - accuracy: 0.8220 - val_loss: 0.6967 - val_accuracy: 0.7260\n",
      "Epoch 65/120\n",
      "30/30 [==============================] - 1s 22ms/step - loss: 0.5304 - accuracy: 0.8249 - val_loss: 0.6976 - val_accuracy: 0.7220\n",
      "Epoch 66/120\n",
      "30/30 [==============================] - 0s 12ms/step - loss: 0.5254 - accuracy: 0.8241 - val_loss: 0.6952 - val_accuracy: 0.7240\n",
      "Epoch 67/120\n",
      "30/30 [==============================] - 0s 11ms/step - loss: 0.5205 - accuracy: 0.8279 - val_loss: 0.6961 - val_accuracy: 0.7210\n",
      "Epoch 68/120\n",
      "30/30 [==============================] - 0s 10ms/step - loss: 0.5165 - accuracy: 0.8275 - val_loss: 0.6936 - val_accuracy: 0.7340\n",
      "Epoch 69/120\n",
      "30/30 [==============================] - 0s 11ms/step - loss: 0.5120 - accuracy: 0.8301 - val_loss: 0.6915 - val_accuracy: 0.7270\n",
      "Epoch 70/120\n",
      "30/30 [==============================] - 1s 28ms/step - loss: 0.5073 - accuracy: 0.8312 - val_loss: 0.6883 - val_accuracy: 0.7280\n",
      "Epoch 71/120\n",
      "30/30 [==============================] - 1s 28ms/step - loss: 0.5034 - accuracy: 0.8316 - val_loss: 0.6891 - val_accuracy: 0.7340\n",
      "Epoch 72/120\n",
      "30/30 [==============================] - 1s 20ms/step - loss: 0.4991 - accuracy: 0.8349 - val_loss: 0.6853 - val_accuracy: 0.7260\n",
      "Epoch 73/120\n",
      "30/30 [==============================] - 1s 18ms/step - loss: 0.4947 - accuracy: 0.8327 - val_loss: 0.6886 - val_accuracy: 0.7270\n",
      "Epoch 74/120\n",
      "30/30 [==============================] - 0s 10ms/step - loss: 0.4910 - accuracy: 0.8369 - val_loss: 0.6835 - val_accuracy: 0.7280\n",
      "Epoch 75/120\n",
      "30/30 [==============================] - 0s 15ms/step - loss: 0.4866 - accuracy: 0.8368 - val_loss: 0.6859 - val_accuracy: 0.7340\n",
      "Epoch 76/120\n",
      "30/30 [==============================] - 0s 11ms/step - loss: 0.4830 - accuracy: 0.8392 - val_loss: 0.6833 - val_accuracy: 0.7290\n",
      "Epoch 77/120\n",
      "30/30 [==============================] - 1s 19ms/step - loss: 0.4792 - accuracy: 0.8408 - val_loss: 0.6799 - val_accuracy: 0.7330\n",
      "Epoch 78/120\n",
      "30/30 [==============================] - 0s 12ms/step - loss: 0.4748 - accuracy: 0.8427 - val_loss: 0.6812 - val_accuracy: 0.7290\n",
      "Epoch 79/120\n",
      "30/30 [==============================] - 0s 13ms/step - loss: 0.4719 - accuracy: 0.8421 - val_loss: 0.6788 - val_accuracy: 0.7260\n",
      "Epoch 80/120\n",
      "30/30 [==============================] - 0s 12ms/step - loss: 0.4676 - accuracy: 0.8435 - val_loss: 0.6778 - val_accuracy: 0.7340\n",
      "Epoch 81/120\n",
      "30/30 [==============================] - 0s 12ms/step - loss: 0.4642 - accuracy: 0.8437 - val_loss: 0.6800 - val_accuracy: 0.7260\n",
      "Epoch 82/120\n",
      "30/30 [==============================] - 0s 12ms/step - loss: 0.4606 - accuracy: 0.8468 - val_loss: 0.6754 - val_accuracy: 0.7390\n",
      "Epoch 83/120\n",
      "30/30 [==============================] - 0s 12ms/step - loss: 0.4571 - accuracy: 0.8488 - val_loss: 0.6767 - val_accuracy: 0.7290\n",
      "Epoch 84/120\n",
      "30/30 [==============================] - 0s 11ms/step - loss: 0.4535 - accuracy: 0.8495 - val_loss: 0.6740 - val_accuracy: 0.7370\n",
      "Epoch 85/120\n",
      "30/30 [==============================] - 0s 12ms/step - loss: 0.4504 - accuracy: 0.8504 - val_loss: 0.6731 - val_accuracy: 0.7380\n",
      "Epoch 86/120\n",
      "30/30 [==============================] - 0s 14ms/step - loss: 0.4469 - accuracy: 0.8521 - val_loss: 0.6713 - val_accuracy: 0.7340\n",
      "Epoch 87/120\n",
      "30/30 [==============================] - 0s 13ms/step - loss: 0.4436 - accuracy: 0.8516 - val_loss: 0.6725 - val_accuracy: 0.7380\n",
      "Epoch 88/120\n",
      "30/30 [==============================] - 0s 15ms/step - loss: 0.4406 - accuracy: 0.8529 - val_loss: 0.6725 - val_accuracy: 0.7410\n",
      "Epoch 89/120\n",
      "30/30 [==============================] - 1s 19ms/step - loss: 0.4367 - accuracy: 0.8552 - val_loss: 0.6747 - val_accuracy: 0.7320\n",
      "Epoch 90/120\n",
      "30/30 [==============================] - 0s 11ms/step - loss: 0.4337 - accuracy: 0.8560 - val_loss: 0.6695 - val_accuracy: 0.7390\n",
      "Epoch 91/120\n",
      "30/30 [==============================] - 0s 13ms/step - loss: 0.4297 - accuracy: 0.8608 - val_loss: 0.6780 - val_accuracy: 0.7430\n",
      "Epoch 92/120\n",
      "30/30 [==============================] - 0s 9ms/step - loss: 0.4280 - accuracy: 0.8579 - val_loss: 0.6774 - val_accuracy: 0.7440\n",
      "Epoch 93/120\n",
      "30/30 [==============================] - 0s 16ms/step - loss: 0.4246 - accuracy: 0.8612 - val_loss: 0.6699 - val_accuracy: 0.7480\n",
      "Epoch 94/120\n",
      "30/30 [==============================] - 0s 13ms/step - loss: 0.4212 - accuracy: 0.8611 - val_loss: 0.6725 - val_accuracy: 0.7510\n",
      "Epoch 95/120\n",
      "30/30 [==============================] - 0s 12ms/step - loss: 0.4180 - accuracy: 0.8609 - val_loss: 0.6720 - val_accuracy: 0.7380\n",
      "Epoch 96/120\n",
      "30/30 [==============================] - 0s 13ms/step - loss: 0.4151 - accuracy: 0.8653 - val_loss: 0.6671 - val_accuracy: 0.7460\n",
      "Epoch 97/120\n",
      "30/30 [==============================] - 0s 13ms/step - loss: 0.4120 - accuracy: 0.8636 - val_loss: 0.6682 - val_accuracy: 0.7430\n",
      "Epoch 98/120\n",
      "30/30 [==============================] - 0s 11ms/step - loss: 0.4092 - accuracy: 0.8661 - val_loss: 0.6677 - val_accuracy: 0.7410\n",
      "Epoch 99/120\n",
      "30/30 [==============================] - 0s 11ms/step - loss: 0.4065 - accuracy: 0.8672 - val_loss: 0.6711 - val_accuracy: 0.7400\n",
      "Epoch 100/120\n",
      "30/30 [==============================] - 0s 9ms/step - loss: 0.4031 - accuracy: 0.8696 - val_loss: 0.6672 - val_accuracy: 0.7480\n",
      "Epoch 101/120\n",
      "30/30 [==============================] - 0s 11ms/step - loss: 0.4005 - accuracy: 0.8703 - val_loss: 0.6695 - val_accuracy: 0.7400\n",
      "Epoch 102/120\n",
      "30/30 [==============================] - 0s 12ms/step - loss: 0.3975 - accuracy: 0.8704 - val_loss: 0.6681 - val_accuracy: 0.7480\n",
      "Epoch 103/120\n",
      "30/30 [==============================] - 0s 12ms/step - loss: 0.3946 - accuracy: 0.8712 - val_loss: 0.6714 - val_accuracy: 0.7380\n",
      "Epoch 104/120\n",
      "30/30 [==============================] - 0s 12ms/step - loss: 0.3918 - accuracy: 0.8736 - val_loss: 0.6661 - val_accuracy: 0.7390\n",
      "Epoch 105/120\n",
      "30/30 [==============================] - 0s 10ms/step - loss: 0.3892 - accuracy: 0.8735 - val_loss: 0.6676 - val_accuracy: 0.7500\n",
      "Epoch 106/120\n",
      "30/30 [==============================] - 0s 10ms/step - loss: 0.3864 - accuracy: 0.8752 - val_loss: 0.6703 - val_accuracy: 0.7360\n",
      "Epoch 107/120\n",
      "30/30 [==============================] - 0s 11ms/step - loss: 0.3842 - accuracy: 0.8763 - val_loss: 0.6682 - val_accuracy: 0.7470\n",
      "Epoch 108/120\n",
      "30/30 [==============================] - 0s 10ms/step - loss: 0.3815 - accuracy: 0.8768 - val_loss: 0.6683 - val_accuracy: 0.7390\n",
      "Epoch 109/120\n",
      "30/30 [==============================] - 0s 15ms/step - loss: 0.3781 - accuracy: 0.8780 - val_loss: 0.6693 - val_accuracy: 0.7450\n",
      "Epoch 110/120\n",
      "30/30 [==============================] - 1s 26ms/step - loss: 0.3758 - accuracy: 0.8789 - val_loss: 0.6673 - val_accuracy: 0.7350\n",
      "Epoch 111/120\n",
      "30/30 [==============================] - 0s 11ms/step - loss: 0.3733 - accuracy: 0.8817 - val_loss: 0.6662 - val_accuracy: 0.7490\n",
      "Epoch 112/120\n",
      "30/30 [==============================] - 0s 13ms/step - loss: 0.3710 - accuracy: 0.8811 - val_loss: 0.6672 - val_accuracy: 0.7440\n",
      "Epoch 113/120\n",
      "30/30 [==============================] - 0s 10ms/step - loss: 0.3683 - accuracy: 0.8823 - val_loss: 0.6766 - val_accuracy: 0.7310\n",
      "Epoch 114/120\n",
      "30/30 [==============================] - 0s 12ms/step - loss: 0.3660 - accuracy: 0.8833 - val_loss: 0.6705 - val_accuracy: 0.7350\n",
      "Epoch 115/120\n",
      "30/30 [==============================] - 0s 11ms/step - loss: 0.3631 - accuracy: 0.8867 - val_loss: 0.6688 - val_accuracy: 0.7360\n",
      "Epoch 116/120\n",
      "30/30 [==============================] - 0s 11ms/step - loss: 0.3606 - accuracy: 0.8859 - val_loss: 0.6730 - val_accuracy: 0.7380\n",
      "Epoch 117/120\n",
      "30/30 [==============================] - 0s 11ms/step - loss: 0.3583 - accuracy: 0.8864 - val_loss: 0.6686 - val_accuracy: 0.7440\n",
      "Epoch 118/120\n",
      "30/30 [==============================] - 0s 11ms/step - loss: 0.3561 - accuracy: 0.8893 - val_loss: 0.6698 - val_accuracy: 0.7320\n",
      "Epoch 119/120\n",
      "30/30 [==============================] - 0s 11ms/step - loss: 0.3530 - accuracy: 0.8887 - val_loss: 0.6742 - val_accuracy: 0.7480\n",
      "Epoch 120/120\n",
      "30/30 [==============================] - 0s 11ms/step - loss: 0.3512 - accuracy: 0.8897 - val_loss: 0.6764 - val_accuracy: 0.7390\n"
     ]
    }
   ],
   "source": [
    "model_val = model.fit(train_final,\n",
    "                    label_train_final,\n",
    "                    epochs=120,\n",
    "                    batch_size=256,\n",
    "                    validation_data=(val, label_val))"
   ]
  },
  {
   "cell_type": "markdown",
   "metadata": {},
   "source": [
    "The dictionary `history` contains four entries this time: one per metric that was being monitored during training and during validation.\n",
    "\n",
    "In the cell below:\n",
    "\n",
    "* Store the model's `.history` inside of `model_val_dict`\n",
    "* Check what `keys()` this dictionary contains"
   ]
  },
  {
   "cell_type": "code",
   "execution_count": 32,
   "metadata": {},
   "outputs": [
    {
     "data": {
      "text/plain": [
       "dict_keys(['loss', 'accuracy', 'val_loss', 'val_accuracy'])"
      ]
     },
     "execution_count": 32,
     "metadata": {},
     "output_type": "execute_result"
    }
   ],
   "source": [
    "model_val_dict = model_val.history\n",
    "model_val_dict.keys()"
   ]
  },
  {
   "cell_type": "markdown",
   "metadata": {},
   "source": [
    "Now, let's get the final results on the training and testing sets using `model.evaluate()` on `train_final` and `label_train_final`."
   ]
  },
  {
   "cell_type": "code",
   "execution_count": 34,
   "metadata": {},
   "outputs": [
    {
     "name": "stdout",
     "output_type": "stream",
     "text": [
      "235/235 [==============================] - 0s 2ms/step - loss: 0.3485 - accuracy: 0.8903\n"
     ]
    }
   ],
   "source": [
    "\n",
    "results_train = model.evaluate(train_final, label_train_final)"
   ]
  },
  {
   "cell_type": "markdown",
   "metadata": {},
   "source": [
    "Let's also use this function to get the results on our testing set.  Call the function again, but this time on `test` and `label_test`. "
   ]
  },
  {
   "cell_type": "code",
   "execution_count": 35,
   "metadata": {},
   "outputs": [
    {
     "name": "stdout",
     "output_type": "stream",
     "text": [
      "47/47 [==============================] - 0s 2ms/step - loss: 0.6396 - accuracy: 0.7547\n"
     ]
    }
   ],
   "source": [
    "results_test = model.evaluate(test, label_test)"
   ]
  },
  {
   "cell_type": "markdown",
   "metadata": {},
   "source": [
    "Now, check the contents of each. "
   ]
  },
  {
   "cell_type": "code",
   "execution_count": 36,
   "metadata": {},
   "outputs": [
    {
     "data": {
      "text/plain": [
       "[0.3485262095928192, 0.8902666568756104]"
      ]
     },
     "execution_count": 36,
     "metadata": {},
     "output_type": "execute_result"
    }
   ],
   "source": [
    "results_train # Expected Results: [0.33576024494171142, 0.89600000000000002]"
   ]
  },
  {
   "cell_type": "code",
   "execution_count": 37,
   "metadata": {},
   "outputs": [
    {
     "data": {
      "text/plain": [
       "[0.6395717263221741, 0.7546666860580444]"
      ]
     },
     "execution_count": 37,
     "metadata": {},
     "output_type": "execute_result"
    }
   ],
   "source": [
    "results_test # Expected Results: [0.72006658554077152, 0.74333333365122478]"
   ]
  },
  {
   "cell_type": "markdown",
   "metadata": {},
   "source": [
    "### Plotting the results"
   ]
  },
  {
   "cell_type": "markdown",
   "metadata": {},
   "source": [
    "Let's plot the results. Let's include the training and the validation loss in the same plot. We'll do the same thing for the training and validation accuracy.\n",
    "\n",
    "Run the cell below to visualize a plot of our training and validation loss."
   ]
  },
  {
   "cell_type": "code",
   "execution_count": 38,
   "metadata": {},
   "outputs": [
    {
     "data": {
      "image/png": "[encoded data removed]",
      "text/plain": [
       "<Figure size 432x288 with 1 Axes>"
      ]
     },
     "metadata": {
      "needs_background": "light"
     },
     "output_type": "display_data"
    }
   ],
   "source": [
    "plt.clf()\n",
    "\n",
    "import matplotlib.pyplot as plt\n",
    "loss_values = model_val_dict['loss']\n",
    "val_loss_values = model_val_dict['val_loss']\n",
    "\n",
    "epochs = range(1, len(loss_values) + 1)\n",
    "plt.plot(epochs, loss_values, 'g', label='Training loss')\n",
    "plt.plot(epochs, val_loss_values, 'g.', label='Validation loss')\n",
    "\n",
    "plt.title('Training & validation loss')\n",
    "plt.xlabel('Epochs')\n",
    "plt.ylabel('Loss')\n",
    "plt.legend()\n",
    "plt.show()"
   ]
  },
  {
   "cell_type": "markdown",
   "metadata": {},
   "source": [
    "Interesting! \n",
    "\n",
    "Run the cell below to visualize a plot of our training and validation accuracy>"
   ]
  },
  {
   "cell_type": "code",
   "execution_count": 41,
   "metadata": {},
   "outputs": [
    {
     "data": {
      "image/png": "[encoded data removed]",
      "text/plain": [
       "<Figure size 432x288 with 1 Axes>"
      ]
     },
     "metadata": {
      "needs_background": "light"
     },
     "output_type": "display_data"
    }
   ],
   "source": [
    "plt.clf()\n",
    "\n",
    "acc_values = model_val_dict['accuracy'] \n",
    "val_acc_values = model_val_dict['val_accuracy']\n",
    "\n",
    "plt.plot(epochs, acc_values, 'r', label='Training acc')\n",
    "plt.plot(epochs, val_acc_values, 'r.', label='Validation acc')\n",
    "plt.title('Training & validation accuracy')\n",
    "plt.xlabel('Epochs')\n",
    "plt.ylabel('Loss')\n",
    "plt.legend()\n",
    "plt.show()"
   ]
  },
  {
   "cell_type": "markdown",
   "metadata": {},
   "source": [
    "We observe an interesting pattern here: although the training accuracy keeps increasing when going through more epochs, and the training loss keeps decreasing, the validation accuracy and loss seem to be reaching a status quo around the 60th epoch. This means that we're actually **overfitting** to the train data when we do as many epochs as we were doing. Luckily, you learned how to tackle overfitting in the previous lecture! For starters, it does seem clear that we are training too long. So let's stop training at the 60th epoch first (so-called \"early stopping\") before we move to more advanced regularization techniques!"
   ]
  },
  {
   "cell_type": "markdown",
   "metadata": {},
   "source": [
    "## 3. Early stopping\n",
    "\n",
    "Now that we know that the model starts to overfit around epoch 60, we can just retrain the model from scratch, but this time only up to 60 epochs! This will help us with our overfitting problem.  This method is called **_Early Stopping_**.\n",
    "\n",
    "In the cell below: \n",
    "\n",
    "* Recreate the exact model we did above. \n",
    "* Compile the model with the exact same hyperparameters.\n",
    "* Fit the model with the exact same hyperparameters, with the exception of `epochs`.  This time, set epochs to `60` instead of `120`."
   ]
  },
  {
   "cell_type": "code",
   "execution_count": 42,
   "metadata": {},
   "outputs": [
    {
     "name": "stdout",
     "output_type": "stream",
     "text": [
      "Epoch 1/60\n",
      "30/30 [==============================] - 1s 18ms/step - loss: 1.9477 - accuracy: 0.1500 - val_loss: 1.9454 - val_accuracy: 0.1540\n",
      "Epoch 2/60\n",
      "30/30 [==============================] - 0s 9ms/step - loss: 1.9233 - accuracy: 0.1895 - val_loss: 1.9275 - val_accuracy: 0.1880\n",
      "Epoch 3/60\n",
      "30/30 [==============================] - 0s 9ms/step - loss: 1.9032 - accuracy: 0.2251 - val_loss: 1.9108 - val_accuracy: 0.2060\n",
      "Epoch 4/60\n",
      "30/30 [==============================] - 0s 11ms/step - loss: 1.8826 - accuracy: 0.2521 - val_loss: 1.8919 - val_accuracy: 0.2290\n",
      "Epoch 5/60\n",
      "30/30 [==============================] - 0s 9ms/step - loss: 1.8589 - accuracy: 0.2747 - val_loss: 1.8698 - val_accuracy: 0.2560\n",
      "Epoch 6/60\n",
      "30/30 [==============================] - 0s 12ms/step - loss: 1.8310 - accuracy: 0.2988 - val_loss: 1.8433 - val_accuracy: 0.2710\n",
      "Epoch 7/60\n",
      "30/30 [==============================] - 0s 11ms/step - loss: 1.7992 - accuracy: 0.3251 - val_loss: 1.8122 - val_accuracy: 0.2950\n",
      "Epoch 8/60\n",
      "30/30 [==============================] - 0s 13ms/step - loss: 1.7624 - accuracy: 0.3429 - val_loss: 1.7748 - val_accuracy: 0.3200\n",
      "Epoch 9/60\n",
      "30/30 [==============================] - 1s 30ms/step - loss: 1.7202 - accuracy: 0.3605 - val_loss: 1.7310 - val_accuracy: 0.3500\n",
      "Epoch 10/60\n",
      "30/30 [==============================] - 1s 31ms/step - loss: 1.6731 - accuracy: 0.3847 - val_loss: 1.6828 - val_accuracy: 0.3760\n",
      "Epoch 11/60\n",
      "30/30 [==============================] - 0s 11ms/step - loss: 1.6232 - accuracy: 0.4041 - val_loss: 1.6329 - val_accuracy: 0.4000\n",
      "Epoch 12/60\n",
      "30/30 [==============================] - 0s 7ms/step - loss: 1.5713 - accuracy: 0.4328 - val_loss: 1.5812 - val_accuracy: 0.4220\n",
      "Epoch 13/60\n",
      "30/30 [==============================] - 0s 6ms/step - loss: 1.5172 - accuracy: 0.4677 - val_loss: 1.5287 - val_accuracy: 0.4470\n",
      "Epoch 14/60\n",
      "30/30 [==============================] - 0s 7ms/step - loss: 1.4628 - accuracy: 0.4945 - val_loss: 1.4741 - val_accuracy: 0.4920\n",
      "Epoch 15/60\n",
      "30/30 [==============================] - 0s 10ms/step - loss: 1.4080 - accuracy: 0.5279 - val_loss: 1.4205 - val_accuracy: 0.5190\n",
      "Epoch 16/60\n",
      "30/30 [==============================] - 1s 19ms/step - loss: 1.3542 - accuracy: 0.5624 - val_loss: 1.3688 - val_accuracy: 0.5500\n",
      "Epoch 17/60\n",
      "30/30 [==============================] - 0s 13ms/step - loss: 1.3019 - accuracy: 0.5869 - val_loss: 1.3208 - val_accuracy: 0.5560\n",
      "Epoch 18/60\n",
      "30/30 [==============================] - 1s 24ms/step - loss: 1.2520 - accuracy: 0.6041 - val_loss: 1.2730 - val_accuracy: 0.5740\n",
      "Epoch 19/60\n",
      "30/30 [==============================] - 1s 27ms/step - loss: 1.2046 - accuracy: 0.6249 - val_loss: 1.2291 - val_accuracy: 0.5940\n",
      "Epoch 20/60\n",
      "30/30 [==============================] - 0s 10ms/step - loss: 1.1591 - accuracy: 0.6429 - val_loss: 1.1880 - val_accuracy: 0.6150\n",
      "Epoch 21/60\n",
      "30/30 [==============================] - 0s 10ms/step - loss: 1.1166 - accuracy: 0.6507 - val_loss: 1.1491 - val_accuracy: 0.6200\n",
      "Epoch 22/60\n",
      "30/30 [==============================] - 0s 12ms/step - loss: 1.0763 - accuracy: 0.6652 - val_loss: 1.1125 - val_accuracy: 0.6330\n",
      "Epoch 23/60\n",
      "30/30 [==============================] - 0s 10ms/step - loss: 1.0392 - accuracy: 0.6764 - val_loss: 1.0788 - val_accuracy: 0.6420\n",
      "Epoch 24/60\n",
      "30/30 [==============================] - 0s 8ms/step - loss: 1.0041 - accuracy: 0.6844 - val_loss: 1.0485 - val_accuracy: 0.6420\n",
      "Epoch 25/60\n",
      "30/30 [==============================] - 0s 8ms/step - loss: 0.9718 - accuracy: 0.6949 - val_loss: 1.0189 - val_accuracy: 0.6590\n",
      "Epoch 26/60\n",
      "30/30 [==============================] - 0s 7ms/step - loss: 0.9422 - accuracy: 0.7012 - val_loss: 0.9943 - val_accuracy: 0.6570\n",
      "Epoch 27/60\n",
      "30/30 [==============================] - 0s 9ms/step - loss: 0.9143 - accuracy: 0.7108 - val_loss: 0.9718 - val_accuracy: 0.6680\n",
      "Epoch 28/60\n",
      "30/30 [==============================] - 0s 10ms/step - loss: 0.8890 - accuracy: 0.7163 - val_loss: 0.9483 - val_accuracy: 0.6740\n",
      "Epoch 29/60\n",
      "30/30 [==============================] - 0s 9ms/step - loss: 0.8653 - accuracy: 0.7233 - val_loss: 0.9285 - val_accuracy: 0.6770\n",
      "Epoch 30/60\n",
      "30/30 [==============================] - 0s 8ms/step - loss: 0.8436 - accuracy: 0.7295 - val_loss: 0.9101 - val_accuracy: 0.6820\n",
      "Epoch 31/60\n",
      "30/30 [==============================] - 0s 12ms/step - loss: 0.8234 - accuracy: 0.7356 - val_loss: 0.8924 - val_accuracy: 0.6920\n",
      "Epoch 32/60\n",
      "30/30 [==============================] - 0s 10ms/step - loss: 0.8047 - accuracy: 0.7399 - val_loss: 0.8791 - val_accuracy: 0.6880\n",
      "Epoch 33/60\n",
      "30/30 [==============================] - 0s 6ms/step - loss: 0.7877 - accuracy: 0.7463 - val_loss: 0.8635 - val_accuracy: 0.6930\n",
      "Epoch 34/60\n",
      "30/30 [==============================] - 0s 9ms/step - loss: 0.7713 - accuracy: 0.7471 - val_loss: 0.8493 - val_accuracy: 0.6940\n",
      "Epoch 35/60\n",
      "30/30 [==============================] - 0s 6ms/step - loss: 0.7562 - accuracy: 0.7536 - val_loss: 0.8380 - val_accuracy: 0.6950\n",
      "Epoch 36/60\n",
      "30/30 [==============================] - 0s 8ms/step - loss: 0.7419 - accuracy: 0.7552 - val_loss: 0.8291 - val_accuracy: 0.7050\n",
      "Epoch 37/60\n",
      "30/30 [==============================] - 0s 7ms/step - loss: 0.7288 - accuracy: 0.7592 - val_loss: 0.8170 - val_accuracy: 0.7020\n",
      "Epoch 38/60\n",
      "30/30 [==============================] - 0s 9ms/step - loss: 0.7167 - accuracy: 0.7612 - val_loss: 0.8099 - val_accuracy: 0.7000\n",
      "Epoch 39/60\n",
      "30/30 [==============================] - 0s 7ms/step - loss: 0.7049 - accuracy: 0.7664 - val_loss: 0.8002 - val_accuracy: 0.7060\n",
      "Epoch 40/60\n",
      "30/30 [==============================] - 0s 6ms/step - loss: 0.6935 - accuracy: 0.7688 - val_loss: 0.7960 - val_accuracy: 0.7120\n",
      "Epoch 41/60\n",
      "30/30 [==============================] - 0s 6ms/step - loss: 0.6835 - accuracy: 0.7704 - val_loss: 0.7882 - val_accuracy: 0.7160\n",
      "Epoch 42/60\n",
      "30/30 [==============================] - 0s 6ms/step - loss: 0.6736 - accuracy: 0.7743 - val_loss: 0.7744 - val_accuracy: 0.7080\n",
      "Epoch 43/60\n",
      "30/30 [==============================] - 0s 9ms/step - loss: 0.6639 - accuracy: 0.7765 - val_loss: 0.7695 - val_accuracy: 0.7130\n",
      "Epoch 44/60\n",
      "30/30 [==============================] - 1s 21ms/step - loss: 0.6550 - accuracy: 0.7784 - val_loss: 0.7648 - val_accuracy: 0.7130\n",
      "Epoch 45/60\n",
      "30/30 [==============================] - 1s 29ms/step - loss: 0.6461 - accuracy: 0.7803 - val_loss: 0.7611 - val_accuracy: 0.7070\n",
      "Epoch 46/60\n",
      "30/30 [==============================] - 1s 30ms/step - loss: 0.6379 - accuracy: 0.7836 - val_loss: 0.7526 - val_accuracy: 0.7150\n",
      "Epoch 47/60\n",
      "30/30 [==============================] - 1s 22ms/step - loss: 0.6300 - accuracy: 0.7855 - val_loss: 0.7569 - val_accuracy: 0.7220\n",
      "Epoch 48/60\n",
      "30/30 [==============================] - 0s 8ms/step - loss: 0.6227 - accuracy: 0.7892 - val_loss: 0.7443 - val_accuracy: 0.7220\n",
      "Epoch 49/60\n",
      "30/30 [==============================] - 1s 17ms/step - loss: 0.6150 - accuracy: 0.7904 - val_loss: 0.7421 - val_accuracy: 0.7260\n",
      "Epoch 50/60\n",
      "30/30 [==============================] - 1s 24ms/step - loss: 0.6083 - accuracy: 0.7933 - val_loss: 0.7421 - val_accuracy: 0.7170\n",
      "Epoch 51/60\n",
      "30/30 [==============================] - 1s 19ms/step - loss: 0.6017 - accuracy: 0.7985 - val_loss: 0.7336 - val_accuracy: 0.7280\n",
      "Epoch 52/60\n",
      "30/30 [==============================] - 0s 12ms/step - loss: 0.5947 - accuracy: 0.7992 - val_loss: 0.7257 - val_accuracy: 0.7250\n",
      "Epoch 53/60\n",
      "30/30 [==============================] - 0s 12ms/step - loss: 0.5885 - accuracy: 0.7985 - val_loss: 0.7241 - val_accuracy: 0.7310\n",
      "Epoch 54/60\n",
      "30/30 [==============================] - 0s 12ms/step - loss: 0.5817 - accuracy: 0.8027 - val_loss: 0.7221 - val_accuracy: 0.7340\n",
      "Epoch 55/60\n",
      "30/30 [==============================] - 0s 12ms/step - loss: 0.5760 - accuracy: 0.8039 - val_loss: 0.7250 - val_accuracy: 0.7310\n",
      "Epoch 56/60\n",
      "30/30 [==============================] - 0s 12ms/step - loss: 0.5700 - accuracy: 0.8048 - val_loss: 0.7150 - val_accuracy: 0.7260\n",
      "Epoch 57/60\n",
      "30/30 [==============================] - 0s 13ms/step - loss: 0.5646 - accuracy: 0.8077 - val_loss: 0.7149 - val_accuracy: 0.7280\n",
      "Epoch 58/60\n",
      "30/30 [==============================] - 0s 11ms/step - loss: 0.5588 - accuracy: 0.8085 - val_loss: 0.7092 - val_accuracy: 0.7300\n",
      "Epoch 59/60\n",
      "30/30 [==============================] - 0s 12ms/step - loss: 0.5534 - accuracy: 0.8119 - val_loss: 0.7105 - val_accuracy: 0.7280\n",
      "Epoch 60/60\n",
      "30/30 [==============================] - 0s 17ms/step - loss: 0.5482 - accuracy: 0.8123 - val_loss: 0.7096 - val_accuracy: 0.7340\n"
     ]
    }
   ],
   "source": [
    "model = Sequential()\n",
    "model.add(Dense(50, activation='relu', input_dim=2000))\n",
    "model.add(Dense(25, activation='relu'))\n",
    "model.add(Dense(7, activation='softmax'))\n",
    "model.compile(optimizer='SGD', loss='categorical_crossentropy', metrics=['accuracy'])\n",
    "\n",
    "\n",
    "model_val = model.fit(train_final,\n",
    "                    label_train_final,\n",
    "                    epochs=60,\n",
    "                    batch_size=256,\n",
    "                    validation_data=(val, label_val))"
   ]
  },
  {
   "cell_type": "markdown",
   "metadata": {},
   "source": [
    "Now, as we did before, get our results using `model.evaluate()` on the appropriate variables. "
   ]
  },
  {
   "cell_type": "code",
   "execution_count": 43,
   "metadata": {},
   "outputs": [
    {
     "name": "stdout",
     "output_type": "stream",
     "text": [
      "235/235 [==============================] - 0s 2ms/step - loss: 0.5438 - accuracy: 0.8115\n"
     ]
    }
   ],
   "source": [
    "results_train = model.evaluate(train_final, label_train_final)"
   ]
  },
  {
   "cell_type": "code",
   "execution_count": 44,
   "metadata": {},
   "outputs": [
    {
     "name": "stdout",
     "output_type": "stream",
     "text": [
      "47/47 [==============================] - 0s 3ms/step - loss: 0.6946 - accuracy: 0.7500\n"
     ]
    }
   ],
   "source": [
    "results_test = model.evaluate(test, label_test)"
   ]
  },
  {
   "cell_type": "code",
   "execution_count": 45,
   "metadata": {},
   "outputs": [
    {
     "data": {
      "text/plain": [
       "[0.5437793731689453, 0.8114666938781738]"
      ]
     },
     "execution_count": 45,
     "metadata": {},
     "output_type": "execute_result"
    }
   ],
   "source": [
    "results_train  # Expected Output: [0.58606486314137773, 0.79826666669845581]"
   ]
  },
  {
   "cell_type": "code",
   "execution_count": 46,
   "metadata": {},
   "outputs": [
    {
     "data": {
      "text/plain": [
       "[0.6945784687995911, 0.75]"
      ]
     },
     "execution_count": 46,
     "metadata": {},
     "output_type": "execute_result"
    }
   ],
   "source": [
    "results_test # [0.74768974288304646, 0.71333333365122475]"
   ]
  },
  {
   "cell_type": "markdown",
   "metadata": {},
   "source": [
    "We've significantly reduced the variance, so this is already pretty good! Our test set accuracy is slightly worse, but this model will definitely be more robust than the 120 epochs one we fitted before.\n",
    "\n",
    "Now, let's see what else we can do to improve the result!"
   ]
  },
  {
   "cell_type": "markdown",
   "metadata": {},
   "source": [
    "## 4. L2 regularization"
   ]
  },
  {
   "cell_type": "markdown",
   "metadata": {},
   "source": [
    "Let's include L2 regularization. You can easily do this in keras adding the argument `kernel_regulizers.l2` and adding a value for the regularization parameter lambda between parentheses.\n",
    "\n",
    "In the cell below: \n",
    "\n",
    "* Recreate the same model we did before.\n",
    "* In our two hidden layers (but not our output layer), add in the parameter `kernel_regularizer=regularizers.l2(0.005)` to add L2 regularization to each hidden layer.  \n",
    "* Compile the model with the same hyperparameters as we did before. \n",
    "* Fit the model with the same hyperparameters as we did before, but this time for `120` epochs.\n",
    "* Store the fitted model that the `.fit` call returns inside a variable called `L2_model`."
   ]
  },
  {
   "cell_type": "code",
   "execution_count": 51,
   "metadata": {},
   "outputs": [
    {
     "name": "stdout",
     "output_type": "stream",
     "text": [
      "Epoch 1/120\n",
      "30/30 [==============================] - 2s 29ms/step - loss: 2.6276 - accuracy: 0.1252 - val_loss: 2.5967 - val_accuracy: 0.1440\n",
      "Epoch 2/120\n",
      "30/30 [==============================] - 0s 10ms/step - loss: 2.5875 - accuracy: 0.1680 - val_loss: 2.5766 - val_accuracy: 0.1880\n",
      "Epoch 3/120\n",
      "30/30 [==============================] - 0s 9ms/step - loss: 2.5647 - accuracy: 0.2047 - val_loss: 2.5589 - val_accuracy: 0.2140\n",
      "Epoch 4/120\n",
      "30/30 [==============================] - 0s 10ms/step - loss: 2.5427 - accuracy: 0.2325 - val_loss: 2.5389 - val_accuracy: 0.2320\n",
      "Epoch 5/120\n",
      "30/30 [==============================] - 0s 6ms/step - loss: 2.5182 - accuracy: 0.2480 - val_loss: 2.5144 - val_accuracy: 0.2440\n",
      "Epoch 6/120\n",
      "30/30 [==============================] - 0s 6ms/step - loss: 2.4883 - accuracy: 0.2697 - val_loss: 2.4829 - val_accuracy: 0.2790\n",
      "Epoch 7/120\n",
      "30/30 [==============================] - 0s 7ms/step - loss: 2.4519 - accuracy: 0.3045 - val_loss: 2.4447 - val_accuracy: 0.3110\n",
      "Epoch 8/120\n",
      "30/30 [==============================] - 0s 6ms/step - loss: 2.4078 - accuracy: 0.3383 - val_loss: 2.3972 - val_accuracy: 0.3640\n",
      "Epoch 9/120\n",
      "30/30 [==============================] - 0s 7ms/step - loss: 2.3549 - accuracy: 0.3835 - val_loss: 2.3414 - val_accuracy: 0.3980\n",
      "Epoch 10/120\n",
      "30/30 [==============================] - 0s 7ms/step - loss: 2.2931 - accuracy: 0.4241 - val_loss: 2.2784 - val_accuracy: 0.4160\n",
      "Epoch 11/120\n",
      "30/30 [==============================] - 0s 6ms/step - loss: 2.2267 - accuracy: 0.4661 - val_loss: 2.2132 - val_accuracy: 0.4670\n",
      "Epoch 12/120\n",
      "30/30 [==============================] - 0s 7ms/step - loss: 2.1591 - accuracy: 0.4969 - val_loss: 2.1491 - val_accuracy: 0.4980\n",
      "Epoch 13/120\n",
      "30/30 [==============================] - 0s 8ms/step - loss: 2.0921 - accuracy: 0.5300 - val_loss: 2.0825 - val_accuracy: 0.5350\n",
      "Epoch 14/120\n",
      "30/30 [==============================] - 0s 6ms/step - loss: 2.0266 - accuracy: 0.5625 - val_loss: 2.0201 - val_accuracy: 0.5540\n",
      "Epoch 15/120\n",
      "30/30 [==============================] - 0s 7ms/step - loss: 1.9649 - accuracy: 0.5903 - val_loss: 1.9639 - val_accuracy: 0.5640\n",
      "Epoch 16/120\n",
      "30/30 [==============================] - 0s 7ms/step - loss: 1.9073 - accuracy: 0.6052 - val_loss: 1.9098 - val_accuracy: 0.5790\n",
      "Epoch 17/120\n",
      "30/30 [==============================] - 0s 11ms/step - loss: 1.8538 - accuracy: 0.6213 - val_loss: 1.8603 - val_accuracy: 0.6050\n",
      "Epoch 18/120\n",
      "30/30 [==============================] - 0s 10ms/step - loss: 1.8041 - accuracy: 0.6421 - val_loss: 1.8141 - val_accuracy: 0.6180\n",
      "Epoch 19/120\n",
      "30/30 [==============================] - 0s 10ms/step - loss: 1.7582 - accuracy: 0.6527 - val_loss: 1.7733 - val_accuracy: 0.6320\n",
      "Epoch 20/120\n",
      "30/30 [==============================] - 0s 10ms/step - loss: 1.7160 - accuracy: 0.6651 - val_loss: 1.7372 - val_accuracy: 0.6360\n",
      "Epoch 21/120\n",
      "30/30 [==============================] - 0s 10ms/step - loss: 1.6770 - accuracy: 0.6771 - val_loss: 1.6997 - val_accuracy: 0.6450\n",
      "Epoch 22/120\n",
      "30/30 [==============================] - 0s 7ms/step - loss: 1.6415 - accuracy: 0.6873 - val_loss: 1.6656 - val_accuracy: 0.6600\n",
      "Epoch 23/120\n",
      "30/30 [==============================] - 0s 7ms/step - loss: 1.6080 - accuracy: 0.6953 - val_loss: 1.6372 - val_accuracy: 0.6610\n",
      "Epoch 24/120\n",
      "30/30 [==============================] - 0s 7ms/step - loss: 1.5774 - accuracy: 0.7041 - val_loss: 1.6117 - val_accuracy: 0.6740\n",
      "Epoch 25/120\n",
      "30/30 [==============================] - 0s 10ms/step - loss: 1.5490 - accuracy: 0.7109 - val_loss: 1.5868 - val_accuracy: 0.6720\n",
      "Epoch 26/120\n",
      "30/30 [==============================] - 0s 9ms/step - loss: 1.5224 - accuracy: 0.7175 - val_loss: 1.5614 - val_accuracy: 0.6730\n",
      "Epoch 27/120\n",
      "30/30 [==============================] - 0s 10ms/step - loss: 1.4978 - accuracy: 0.7231 - val_loss: 1.5414 - val_accuracy: 0.6820\n",
      "Epoch 28/120\n",
      "30/30 [==============================] - 0s 6ms/step - loss: 1.4748 - accuracy: 0.7279 - val_loss: 1.5240 - val_accuracy: 0.6840\n",
      "Epoch 29/120\n",
      "30/30 [==============================] - 0s 7ms/step - loss: 1.4532 - accuracy: 0.7361 - val_loss: 1.5044 - val_accuracy: 0.6900\n",
      "Epoch 30/120\n",
      "30/30 [==============================] - 0s 8ms/step - loss: 1.4330 - accuracy: 0.7365 - val_loss: 1.4885 - val_accuracy: 0.6930\n",
      "Epoch 31/120\n",
      "30/30 [==============================] - 0s 8ms/step - loss: 1.4139 - accuracy: 0.7428 - val_loss: 1.4711 - val_accuracy: 0.6910\n",
      "Epoch 32/120\n",
      "30/30 [==============================] - 0s 6ms/step - loss: 1.3963 - accuracy: 0.7444 - val_loss: 1.4564 - val_accuracy: 0.7020\n",
      "Epoch 33/120\n",
      "30/30 [==============================] - 0s 6ms/step - loss: 1.3793 - accuracy: 0.7496 - val_loss: 1.4409 - val_accuracy: 0.6980\n",
      "Epoch 34/120\n",
      "30/30 [==============================] - 0s 8ms/step - loss: 1.3632 - accuracy: 0.7543 - val_loss: 1.4299 - val_accuracy: 0.7040\n",
      "Epoch 35/120\n",
      "30/30 [==============================] - 0s 6ms/step - loss: 1.3484 - accuracy: 0.7573 - val_loss: 1.4176 - val_accuracy: 0.7020\n",
      "Epoch 36/120\n",
      "30/30 [==============================] - 0s 7ms/step - loss: 1.3335 - accuracy: 0.7581 - val_loss: 1.4054 - val_accuracy: 0.7030\n",
      "Epoch 37/120\n",
      "30/30 [==============================] - 0s 7ms/step - loss: 1.3199 - accuracy: 0.7612 - val_loss: 1.3928 - val_accuracy: 0.7040\n",
      "Epoch 38/120\n",
      "30/30 [==============================] - 0s 6ms/step - loss: 1.3069 - accuracy: 0.7643 - val_loss: 1.3832 - val_accuracy: 0.7060\n",
      "Epoch 39/120\n",
      "30/30 [==============================] - 0s 7ms/step - loss: 1.2943 - accuracy: 0.7645 - val_loss: 1.3748 - val_accuracy: 0.7120\n",
      "Epoch 40/120\n",
      "30/30 [==============================] - 0s 7ms/step - loss: 1.2818 - accuracy: 0.7695 - val_loss: 1.3633 - val_accuracy: 0.7110\n",
      "Epoch 41/120\n",
      "30/30 [==============================] - 0s 6ms/step - loss: 1.2707 - accuracy: 0.7687 - val_loss: 1.3569 - val_accuracy: 0.7140\n",
      "Epoch 42/120\n",
      "30/30 [==============================] - 0s 6ms/step - loss: 1.2594 - accuracy: 0.7725 - val_loss: 1.3478 - val_accuracy: 0.7140\n",
      "Epoch 43/120\n",
      "30/30 [==============================] - 0s 7ms/step - loss: 1.2491 - accuracy: 0.7740 - val_loss: 1.3372 - val_accuracy: 0.7230\n",
      "Epoch 44/120\n",
      "30/30 [==============================] - 0s 6ms/step - loss: 1.2386 - accuracy: 0.7792 - val_loss: 1.3302 - val_accuracy: 0.7230\n",
      "Epoch 45/120\n",
      "30/30 [==============================] - 0s 6ms/step - loss: 1.2288 - accuracy: 0.7816 - val_loss: 1.3219 - val_accuracy: 0.7220\n",
      "Epoch 46/120\n",
      "30/30 [==============================] - 0s 7ms/step - loss: 1.2191 - accuracy: 0.7816 - val_loss: 1.3173 - val_accuracy: 0.7200\n",
      "Epoch 47/120\n",
      "30/30 [==============================] - 0s 6ms/step - loss: 1.2100 - accuracy: 0.7840 - val_loss: 1.3105 - val_accuracy: 0.7190\n",
      "Epoch 48/120\n",
      "30/30 [==============================] - 0s 7ms/step - loss: 1.2009 - accuracy: 0.7868 - val_loss: 1.3044 - val_accuracy: 0.7240\n",
      "Epoch 49/120\n",
      "30/30 [==============================] - 0s 10ms/step - loss: 1.1923 - accuracy: 0.7887 - val_loss: 1.2964 - val_accuracy: 0.7300\n",
      "Epoch 50/120\n",
      "30/30 [==============================] - 0s 9ms/step - loss: 1.1838 - accuracy: 0.7919 - val_loss: 1.2908 - val_accuracy: 0.7310\n",
      "Epoch 51/120\n",
      "30/30 [==============================] - 0s 11ms/step - loss: 1.1756 - accuracy: 0.7948 - val_loss: 1.2864 - val_accuracy: 0.7310\n",
      "Epoch 52/120\n",
      "30/30 [==============================] - 0s 11ms/step - loss: 1.1676 - accuracy: 0.7961 - val_loss: 1.2774 - val_accuracy: 0.7400\n",
      "Epoch 53/120\n",
      "30/30 [==============================] - 0s 11ms/step - loss: 1.1596 - accuracy: 0.7999 - val_loss: 1.2722 - val_accuracy: 0.7390\n",
      "Epoch 54/120\n",
      "30/30 [==============================] - 0s 7ms/step - loss: 1.1518 - accuracy: 0.8012 - val_loss: 1.2675 - val_accuracy: 0.7420\n",
      "Epoch 55/120\n",
      "30/30 [==============================] - 0s 9ms/step - loss: 1.1445 - accuracy: 0.8016 - val_loss: 1.2646 - val_accuracy: 0.7370\n",
      "Epoch 56/120\n",
      "30/30 [==============================] - 0s 10ms/step - loss: 1.1378 - accuracy: 0.8033 - val_loss: 1.2583 - val_accuracy: 0.7410\n",
      "Epoch 57/120\n",
      "30/30 [==============================] - 0s 6ms/step - loss: 1.1295 - accuracy: 0.8071 - val_loss: 1.2590 - val_accuracy: 0.7350\n",
      "Epoch 58/120\n",
      "30/30 [==============================] - 0s 6ms/step - loss: 1.1235 - accuracy: 0.8064 - val_loss: 1.2476 - val_accuracy: 0.7400\n",
      "Epoch 59/120\n",
      "30/30 [==============================] - 0s 6ms/step - loss: 1.1164 - accuracy: 0.8104 - val_loss: 1.2457 - val_accuracy: 0.7430\n",
      "Epoch 60/120\n",
      "30/30 [==============================] - 0s 6ms/step - loss: 1.1096 - accuracy: 0.8084 - val_loss: 1.2388 - val_accuracy: 0.7440\n",
      "Epoch 61/120\n",
      "30/30 [==============================] - 0s 7ms/step - loss: 1.1031 - accuracy: 0.8124 - val_loss: 1.2399 - val_accuracy: 0.7420\n",
      "Epoch 62/120\n",
      "30/30 [==============================] - 0s 8ms/step - loss: 1.0968 - accuracy: 0.8116 - val_loss: 1.2280 - val_accuracy: 0.7500\n",
      "Epoch 63/120\n",
      "30/30 [==============================] - 0s 7ms/step - loss: 1.0903 - accuracy: 0.8143 - val_loss: 1.2257 - val_accuracy: 0.7460\n",
      "Epoch 64/120\n",
      "30/30 [==============================] - 0s 7ms/step - loss: 1.0840 - accuracy: 0.8149 - val_loss: 1.2223 - val_accuracy: 0.7420\n",
      "Epoch 65/120\n",
      "30/30 [==============================] - 0s 6ms/step - loss: 1.0782 - accuracy: 0.8167 - val_loss: 1.2201 - val_accuracy: 0.7510\n",
      "Epoch 66/120\n",
      "30/30 [==============================] - 0s 9ms/step - loss: 1.0718 - accuracy: 0.8215 - val_loss: 1.2158 - val_accuracy: 0.7490\n",
      "Epoch 67/120\n",
      "30/30 [==============================] - 0s 6ms/step - loss: 1.0663 - accuracy: 0.8231 - val_loss: 1.2078 - val_accuracy: 0.7520\n",
      "Epoch 68/120\n",
      "30/30 [==============================] - 0s 8ms/step - loss: 1.0604 - accuracy: 0.8233 - val_loss: 1.2058 - val_accuracy: 0.7510\n",
      "Epoch 69/120\n",
      "30/30 [==============================] - 0s 8ms/step - loss: 1.0544 - accuracy: 0.8255 - val_loss: 1.2014 - val_accuracy: 0.7480\n",
      "Epoch 70/120\n",
      "30/30 [==============================] - 0s 6ms/step - loss: 1.0490 - accuracy: 0.8256 - val_loss: 1.1981 - val_accuracy: 0.7490\n",
      "Epoch 71/120\n",
      "30/30 [==============================] - 0s 8ms/step - loss: 1.0435 - accuracy: 0.8299 - val_loss: 1.1982 - val_accuracy: 0.7510\n",
      "Epoch 72/120\n",
      "30/30 [==============================] - 0s 11ms/step - loss: 1.0380 - accuracy: 0.8281 - val_loss: 1.1915 - val_accuracy: 0.7520\n",
      "Epoch 73/120\n",
      "30/30 [==============================] - 0s 6ms/step - loss: 1.0328 - accuracy: 0.8307 - val_loss: 1.1891 - val_accuracy: 0.7540\n",
      "Epoch 74/120\n",
      "30/30 [==============================] - 0s 7ms/step - loss: 1.0272 - accuracy: 0.8309 - val_loss: 1.1898 - val_accuracy: 0.7530\n",
      "Epoch 75/120\n",
      "30/30 [==============================] - 0s 6ms/step - loss: 1.0220 - accuracy: 0.8351 - val_loss: 1.1811 - val_accuracy: 0.7520\n",
      "Epoch 76/120\n",
      "30/30 [==============================] - 0s 6ms/step - loss: 1.0171 - accuracy: 0.8349 - val_loss: 1.1784 - val_accuracy: 0.7600\n",
      "Epoch 77/120\n",
      "30/30 [==============================] - 0s 7ms/step - loss: 1.0124 - accuracy: 0.8359 - val_loss: 1.1756 - val_accuracy: 0.7630\n",
      "Epoch 78/120\n",
      "30/30 [==============================] - 1s 22ms/step - loss: 1.0070 - accuracy: 0.8372 - val_loss: 1.1768 - val_accuracy: 0.7520\n",
      "Epoch 79/120\n",
      "30/30 [==============================] - 0s 11ms/step - loss: 1.0019 - accuracy: 0.8389 - val_loss: 1.1714 - val_accuracy: 0.7620\n",
      "Epoch 80/120\n",
      "30/30 [==============================] - 0s 8ms/step - loss: 0.9971 - accuracy: 0.8400 - val_loss: 1.1679 - val_accuracy: 0.7590\n",
      "Epoch 81/120\n",
      "30/30 [==============================] - 0s 9ms/step - loss: 0.9923 - accuracy: 0.8404 - val_loss: 1.1645 - val_accuracy: 0.7640\n",
      "Epoch 82/120\n",
      "30/30 [==============================] - 0s 7ms/step - loss: 0.9877 - accuracy: 0.8427 - val_loss: 1.1632 - val_accuracy: 0.7580\n",
      "Epoch 83/120\n",
      "30/30 [==============================] - 0s 6ms/step - loss: 0.9830 - accuracy: 0.8417 - val_loss: 1.1605 - val_accuracy: 0.7560\n",
      "Epoch 84/120\n",
      "30/30 [==============================] - 0s 6ms/step - loss: 0.9784 - accuracy: 0.8445 - val_loss: 1.1601 - val_accuracy: 0.7560\n",
      "Epoch 85/120\n",
      "30/30 [==============================] - 0s 6ms/step - loss: 0.9737 - accuracy: 0.8475 - val_loss: 1.1529 - val_accuracy: 0.7670\n",
      "Epoch 86/120\n",
      "30/30 [==============================] - 0s 6ms/step - loss: 0.9694 - accuracy: 0.8479 - val_loss: 1.1542 - val_accuracy: 0.7590\n",
      "Epoch 87/120\n",
      "30/30 [==============================] - 0s 6ms/step - loss: 0.9649 - accuracy: 0.8481 - val_loss: 1.1480 - val_accuracy: 0.7630\n",
      "Epoch 88/120\n",
      "30/30 [==============================] - 0s 6ms/step - loss: 0.9601 - accuracy: 0.8504 - val_loss: 1.1488 - val_accuracy: 0.7610\n",
      "Epoch 89/120\n",
      "30/30 [==============================] - 0s 7ms/step - loss: 0.9558 - accuracy: 0.8520 - val_loss: 1.1414 - val_accuracy: 0.7650\n",
      "Epoch 90/120\n",
      "30/30 [==============================] - 1s 32ms/step - loss: 0.9517 - accuracy: 0.8520 - val_loss: 1.1426 - val_accuracy: 0.7640\n",
      "Epoch 91/120\n",
      "30/30 [==============================] - 1s 26ms/step - loss: 0.9471 - accuracy: 0.8531 - val_loss: 1.1424 - val_accuracy: 0.7610\n",
      "Epoch 92/120\n",
      "30/30 [==============================] - 1s 27ms/step - loss: 0.9431 - accuracy: 0.8544 - val_loss: 1.1389 - val_accuracy: 0.7640\n",
      "Epoch 93/120\n",
      "30/30 [==============================] - 0s 13ms/step - loss: 0.9387 - accuracy: 0.8563 - val_loss: 1.1359 - val_accuracy: 0.7570\n",
      "Epoch 94/120\n",
      "30/30 [==============================] - 0s 13ms/step - loss: 0.9354 - accuracy: 0.8563 - val_loss: 1.1313 - val_accuracy: 0.7680\n",
      "Epoch 95/120\n",
      "30/30 [==============================] - 0s 12ms/step - loss: 0.9304 - accuracy: 0.8557 - val_loss: 1.1264 - val_accuracy: 0.7680\n",
      "Epoch 96/120\n",
      "30/30 [==============================] - 0s 7ms/step - loss: 0.9265 - accuracy: 0.8569 - val_loss: 1.1277 - val_accuracy: 0.7650\n",
      "Epoch 97/120\n",
      "30/30 [==============================] - 0s 7ms/step - loss: 0.9225 - accuracy: 0.8580 - val_loss: 1.1262 - val_accuracy: 0.7610\n",
      "Epoch 98/120\n",
      "30/30 [==============================] - 0s 7ms/step - loss: 0.9184 - accuracy: 0.8591 - val_loss: 1.1230 - val_accuracy: 0.7640\n",
      "Epoch 99/120\n",
      "30/30 [==============================] - 0s 7ms/step - loss: 0.9144 - accuracy: 0.8599 - val_loss: 1.1225 - val_accuracy: 0.7660\n",
      "Epoch 100/120\n",
      "30/30 [==============================] - 0s 7ms/step - loss: 0.9110 - accuracy: 0.8623 - val_loss: 1.1245 - val_accuracy: 0.7590\n",
      "Epoch 101/120\n",
      "30/30 [==============================] - 0s 7ms/step - loss: 0.9066 - accuracy: 0.8607 - val_loss: 1.1209 - val_accuracy: 0.7630\n",
      "Epoch 102/120\n",
      "30/30 [==============================] - 0s 8ms/step - loss: 0.9027 - accuracy: 0.8635 - val_loss: 1.1172 - val_accuracy: 0.7610\n",
      "Epoch 103/120\n",
      "30/30 [==============================] - 0s 8ms/step - loss: 0.8988 - accuracy: 0.8641 - val_loss: 1.1116 - val_accuracy: 0.7680\n",
      "Epoch 104/120\n",
      "30/30 [==============================] - 0s 8ms/step - loss: 0.8952 - accuracy: 0.8656 - val_loss: 1.1110 - val_accuracy: 0.7650\n",
      "Epoch 105/120\n",
      "30/30 [==============================] - 0s 8ms/step - loss: 0.8915 - accuracy: 0.8660 - val_loss: 1.1104 - val_accuracy: 0.7670\n",
      "Epoch 106/120\n",
      "30/30 [==============================] - 0s 9ms/step - loss: 0.8875 - accuracy: 0.8675 - val_loss: 1.1101 - val_accuracy: 0.7640\n",
      "Epoch 107/120\n",
      "30/30 [==============================] - 0s 8ms/step - loss: 0.8840 - accuracy: 0.8709 - val_loss: 1.1068 - val_accuracy: 0.7670\n",
      "Epoch 108/120\n",
      "30/30 [==============================] - 0s 7ms/step - loss: 0.8803 - accuracy: 0.8688 - val_loss: 1.1075 - val_accuracy: 0.7690\n",
      "Epoch 109/120\n",
      "30/30 [==============================] - 0s 7ms/step - loss: 0.8765 - accuracy: 0.8687 - val_loss: 1.1073 - val_accuracy: 0.7590\n",
      "Epoch 110/120\n",
      "30/30 [==============================] - 0s 9ms/step - loss: 0.8736 - accuracy: 0.8703 - val_loss: 1.1034 - val_accuracy: 0.7670\n",
      "Epoch 111/120\n",
      "30/30 [==============================] - 0s 8ms/step - loss: 0.8694 - accuracy: 0.8705 - val_loss: 1.1008 - val_accuracy: 0.7620\n",
      "Epoch 112/120\n",
      "30/30 [==============================] - 0s 8ms/step - loss: 0.8665 - accuracy: 0.8715 - val_loss: 1.0995 - val_accuracy: 0.7700\n",
      "Epoch 113/120\n",
      "30/30 [==============================] - 0s 8ms/step - loss: 0.8628 - accuracy: 0.8732 - val_loss: 1.0933 - val_accuracy: 0.7710\n",
      "Epoch 114/120\n",
      "30/30 [==============================] - 0s 9ms/step - loss: 0.8590 - accuracy: 0.8755 - val_loss: 1.0911 - val_accuracy: 0.7690\n",
      "Epoch 115/120\n",
      "30/30 [==============================] - 0s 7ms/step - loss: 0.8556 - accuracy: 0.8739 - val_loss: 1.0996 - val_accuracy: 0.7600\n",
      "Epoch 116/120\n",
      "30/30 [==============================] - 0s 8ms/step - loss: 0.8525 - accuracy: 0.8741 - val_loss: 1.0924 - val_accuracy: 0.7620\n",
      "Epoch 117/120\n",
      "30/30 [==============================] - 0s 7ms/step - loss: 0.8491 - accuracy: 0.8761 - val_loss: 1.0908 - val_accuracy: 0.7670\n",
      "Epoch 118/120\n",
      "30/30 [==============================] - 0s 8ms/step - loss: 0.8457 - accuracy: 0.8757 - val_loss: 1.0937 - val_accuracy: 0.7650\n",
      "Epoch 119/120\n",
      "30/30 [==============================] - 0s 8ms/step - loss: 0.8421 - accuracy: 0.8773 - val_loss: 1.0880 - val_accuracy: 0.7650\n",
      "Epoch 120/120\n",
      "30/30 [==============================] - 0s 7ms/step - loss: 0.8390 - accuracy: 0.8795 - val_loss: 1.0836 - val_accuracy: 0.7740\n"
     ]
    }
   ],
   "source": [
    "from keras import regularizers\n",
    "model = Sequential()\n",
    "model.add(Dense(50, activation='relu', input_dim=2000, kernel_regularizer=regularizers.l2(0.005)))\n",
    "model.add(Dense(25, activation='relu', kernel_regularizer=regularizers.l2(0.005)))\n",
    "model.add(Dense(7, activation='softmax'))\n",
    "model.compile(optimizer='SGD', loss='categorical_crossentropy', metrics=['accuracy'])\n",
    "\n",
    "\n",
    "L2_model = model.fit(train_final,\n",
    "                    label_train_final,\n",
    "                    epochs=120,\n",
    "                    batch_size=256,\n",
    "                    validation_data=(val, label_val))\n"
   ]
  },
  {
   "cell_type": "markdown",
   "metadata": {},
   "source": [
    "Now, let's see how regularization has affected our model results.  \n",
    "\n",
    "Run the cell below to get the model's `.history`."
   ]
  },
  {
   "cell_type": "code",
   "execution_count": 52,
   "metadata": {},
   "outputs": [
    {
     "data": {
      "text/plain": [
       "dict_keys(['loss', 'accuracy', 'val_loss', 'val_accuracy'])"
      ]
     },
     "execution_count": 52,
     "metadata": {},
     "output_type": "execute_result"
    }
   ],
   "source": [
    "L2_model_dict = L2_model.history\n",
    "L2_model_dict.keys()"
   ]
  },
  {
   "cell_type": "markdown",
   "metadata": {},
   "source": [
    "Let's look at the training accuracy as well as the validation accuracy for both the L2 and the model without regularization (for 120 epochs).\n",
    "\n",
    "Run the cell below to visualize our training and validation accuracy both with and without L2 regularization, so that we can compare them directly."
   ]
  },
  {
   "cell_type": "code",
   "execution_count": 53,
   "metadata": {},
   "outputs": [
    {
     "data": {
      "image/png": "[encoded data removed]",
      "text/plain": [
       "<Figure size 432x288 with 1 Axes>"
      ]
     },
     "metadata": {
      "needs_background": "light"
     },
     "output_type": "display_data"
    }
   ],
   "source": [
    "plt.clf()\n",
    "\n",
    "acc_values = L2_model_dict['accuracy'] \n",
    "val_acc_values = L2_model_dict['val_accuracy']\n",
    "model_acc = model_val_dict['accuracy']\n",
    "model_val_acc = model_val_dict['val_accuracy']\n",
    "\n",
    "epochs = range(1, len(acc_values) + 1)\n",
    "plt.plot(epochs, acc_values, 'g', label='Training acc L2')\n",
    "plt.plot(epochs, val_acc_values, 'g', label='Validation acc L2')\n",
    "plt.plot(epochs, model_acc, 'r', label='Training acc')\n",
    "plt.plot(epochs, model_val_acc, 'r', label='Validation acc')\n",
    "plt.title('Training & validation accuracy L2 vs regular')\n",
    "plt.xlabel('Epochs')\n",
    "plt.ylabel('Loss')\n",
    "plt.legend()\n",
    "plt.show()"
   ]
  },
  {
   "cell_type": "markdown",
   "metadata": {},
   "source": [
    "The results of L2 regularization are quite disappointing here. We notice the discrepancy between validation and training accuracy seems to have decreased slightly, but the end result is definitely not getting better. "
   ]
  },
  {
   "cell_type": "markdown",
   "metadata": {},
   "source": [
    "## 5.  L1 regularization"
   ]
  },
  {
   "cell_type": "markdown",
   "metadata": {},
   "source": [
    "Let's have a look at L1 regularization. Will this work better?\n",
    "\n",
    "In the cell below: \n",
    "\n",
    "* Recreate the same model we did above, but this time, set the `kernel_regularizer` to `regularizers.l1(0.005)` inside both hidden layers. \n",
    "* Compile and fit the model exactly as we did for our L2 Regularization experiment (`120` epochs) \n",
    "* Store the fitted model that the `.fit` call returns inside a variable called `L1_model`."
   ]
  },
  {
   "cell_type": "code",
   "execution_count": 55,
   "metadata": {},
   "outputs": [
    {
     "name": "stdout",
     "output_type": "stream",
     "text": [
      "Epoch 1/120\n",
      "30/30 [==============================] - 2s 27ms/step - loss: 16.0284 - accuracy: 0.1593 - val_loss: 15.6220 - val_accuracy: 0.1790\n",
      "Epoch 2/120\n",
      "30/30 [==============================] - 0s 11ms/step - loss: 15.2703 - accuracy: 0.1896 - val_loss: 14.8782 - val_accuracy: 0.2100\n",
      "Epoch 3/120\n",
      "30/30 [==============================] - 0s 12ms/step - loss: 14.5355 - accuracy: 0.2117 - val_loss: 14.1558 - val_accuracy: 0.2350\n",
      "Epoch 4/120\n",
      "30/30 [==============================] - 0s 14ms/step - loss: 13.8203 - accuracy: 0.2256 - val_loss: 13.4520 - val_accuracy: 0.2420\n",
      "Epoch 5/120\n",
      "30/30 [==============================] - 0s 13ms/step - loss: 13.1238 - accuracy: 0.2460 - val_loss: 12.7661 - val_accuracy: 0.2610\n",
      "Epoch 6/120\n",
      "30/30 [==============================] - 0s 14ms/step - loss: 12.4449 - accuracy: 0.2707 - val_loss: 12.0982 - val_accuracy: 0.2810\n",
      "Epoch 7/120\n",
      "30/30 [==============================] - 0s 12ms/step - loss: 11.7849 - accuracy: 0.2909 - val_loss: 11.4502 - val_accuracy: 0.2920\n",
      "Epoch 8/120\n",
      "30/30 [==============================] - 0s 13ms/step - loss: 11.1453 - accuracy: 0.3105 - val_loss: 10.8239 - val_accuracy: 0.3070\n",
      "Epoch 9/120\n",
      "30/30 [==============================] - 0s 13ms/step - loss: 10.5269 - accuracy: 0.3256 - val_loss: 10.2183 - val_accuracy: 0.3260\n",
      "Epoch 10/120\n",
      "30/30 [==============================] - 0s 13ms/step - loss: 9.9301 - accuracy: 0.3463 - val_loss: 9.6341 - val_accuracy: 0.3440\n",
      "Epoch 11/120\n",
      "30/30 [==============================] - 0s 12ms/step - loss: 9.3545 - accuracy: 0.3619 - val_loss: 9.0704 - val_accuracy: 0.3620\n",
      "Epoch 12/120\n",
      "30/30 [==============================] - 0s 12ms/step - loss: 8.8000 - accuracy: 0.3829 - val_loss: 8.5284 - val_accuracy: 0.3850\n",
      "Epoch 13/120\n",
      "30/30 [==============================] - 0s 11ms/step - loss: 8.2674 - accuracy: 0.4031 - val_loss: 8.0093 - val_accuracy: 0.4020\n",
      "Epoch 14/120\n",
      "30/30 [==============================] - 0s 12ms/step - loss: 7.7581 - accuracy: 0.4192 - val_loss: 7.5126 - val_accuracy: 0.4120\n",
      "Epoch 15/120\n",
      "30/30 [==============================] - 0s 13ms/step - loss: 7.2714 - accuracy: 0.4312 - val_loss: 7.0391 - val_accuracy: 0.4310\n",
      "Epoch 16/120\n",
      "30/30 [==============================] - 0s 13ms/step - loss: 6.8075 - accuracy: 0.4509 - val_loss: 6.5880 - val_accuracy: 0.4360\n",
      "Epoch 17/120\n",
      "30/30 [==============================] - 0s 13ms/step - loss: 6.3662 - accuracy: 0.4605 - val_loss: 6.1597 - val_accuracy: 0.4520\n",
      "Epoch 18/120\n",
      "30/30 [==============================] - 0s 11ms/step - loss: 5.9473 - accuracy: 0.4739 - val_loss: 5.7535 - val_accuracy: 0.4770\n",
      "Epoch 19/120\n",
      "30/30 [==============================] - 0s 12ms/step - loss: 5.5505 - accuracy: 0.4937 - val_loss: 5.3691 - val_accuracy: 0.4550\n",
      "Epoch 20/120\n",
      "30/30 [==============================] - 0s 13ms/step - loss: 5.1750 - accuracy: 0.4976 - val_loss: 5.0063 - val_accuracy: 0.4930\n",
      "Epoch 21/120\n",
      "30/30 [==============================] - 0s 12ms/step - loss: 4.8225 - accuracy: 0.5167 - val_loss: 4.6686 - val_accuracy: 0.4840\n",
      "Epoch 22/120\n",
      "30/30 [==============================] - 0s 13ms/step - loss: 4.4939 - accuracy: 0.5255 - val_loss: 4.3536 - val_accuracy: 0.5040\n",
      "Epoch 23/120\n",
      "30/30 [==============================] - 0s 13ms/step - loss: 4.1878 - accuracy: 0.5436 - val_loss: 4.0572 - val_accuracy: 0.5370\n",
      "Epoch 24/120\n",
      "30/30 [==============================] - 0s 13ms/step - loss: 3.9039 - accuracy: 0.5631 - val_loss: 3.7855 - val_accuracy: 0.5560\n",
      "Epoch 25/120\n",
      "30/30 [==============================] - 0s 15ms/step - loss: 3.6416 - accuracy: 0.5819 - val_loss: 3.5333 - val_accuracy: 0.5830\n",
      "Epoch 26/120\n",
      "30/30 [==============================] - 0s 13ms/step - loss: 3.4002 - accuracy: 0.6015 - val_loss: 3.3038 - val_accuracy: 0.6040\n",
      "Epoch 27/120\n",
      "30/30 [==============================] - 0s 12ms/step - loss: 3.1812 - accuracy: 0.6123 - val_loss: 3.0973 - val_accuracy: 0.6130\n",
      "Epoch 28/120\n",
      "30/30 [==============================] - 0s 13ms/step - loss: 2.9845 - accuracy: 0.6197 - val_loss: 2.9133 - val_accuracy: 0.5980\n",
      "Epoch 29/120\n",
      "30/30 [==============================] - 0s 12ms/step - loss: 2.8096 - accuracy: 0.6248 - val_loss: 2.7491 - val_accuracy: 0.6100\n",
      "Epoch 30/120\n",
      "30/30 [==============================] - 1s 21ms/step - loss: 2.6560 - accuracy: 0.6259 - val_loss: 2.6066 - val_accuracy: 0.6260\n",
      "Epoch 31/120\n",
      "30/30 [==============================] - 1s 26ms/step - loss: 2.5230 - accuracy: 0.6319 - val_loss: 2.4842 - val_accuracy: 0.6290\n",
      "Epoch 32/120\n",
      "30/30 [==============================] - 0s 12ms/step - loss: 2.4105 - accuracy: 0.6383 - val_loss: 2.3850 - val_accuracy: 0.6290\n",
      "Epoch 33/120\n",
      "30/30 [==============================] - 0s 13ms/step - loss: 2.3180 - accuracy: 0.6407 - val_loss: 2.2993 - val_accuracy: 0.6280\n",
      "Epoch 34/120\n",
      "30/30 [==============================] - 0s 14ms/step - loss: 2.2432 - accuracy: 0.6445 - val_loss: 2.2336 - val_accuracy: 0.6360\n",
      "Epoch 35/120\n",
      "30/30 [==============================] - 0s 14ms/step - loss: 2.1854 - accuracy: 0.6472 - val_loss: 2.1866 - val_accuracy: 0.6370\n",
      "Epoch 36/120\n",
      "30/30 [==============================] - 0s 13ms/step - loss: 2.1433 - accuracy: 0.6491 - val_loss: 2.1488 - val_accuracy: 0.6430\n",
      "Epoch 37/120\n",
      "30/30 [==============================] - 0s 12ms/step - loss: 2.1117 - accuracy: 0.6504 - val_loss: 2.1206 - val_accuracy: 0.6500\n",
      "Epoch 38/120\n",
      "30/30 [==============================] - 0s 14ms/step - loss: 2.0865 - accuracy: 0.6539 - val_loss: 2.0967 - val_accuracy: 0.6530\n",
      "Epoch 39/120\n",
      "30/30 [==============================] - 0s 14ms/step - loss: 2.0642 - accuracy: 0.6557 - val_loss: 2.0761 - val_accuracy: 0.6590\n",
      "Epoch 40/120\n",
      "30/30 [==============================] - 0s 13ms/step - loss: 2.0440 - accuracy: 0.6616 - val_loss: 2.0565 - val_accuracy: 0.6540\n",
      "Epoch 41/120\n",
      "30/30 [==============================] - 0s 13ms/step - loss: 2.0246 - accuracy: 0.6617 - val_loss: 2.0377 - val_accuracy: 0.6580\n",
      "Epoch 42/120\n",
      "30/30 [==============================] - 0s 15ms/step - loss: 2.0067 - accuracy: 0.6663 - val_loss: 2.0199 - val_accuracy: 0.6560\n",
      "Epoch 43/120\n",
      "30/30 [==============================] - 0s 13ms/step - loss: 1.9894 - accuracy: 0.6675 - val_loss: 2.0027 - val_accuracy: 0.6620\n",
      "Epoch 44/120\n",
      "30/30 [==============================] - 0s 14ms/step - loss: 1.9723 - accuracy: 0.6704 - val_loss: 1.9903 - val_accuracy: 0.6640\n",
      "Epoch 45/120\n",
      "30/30 [==============================] - 1s 22ms/step - loss: 1.9562 - accuracy: 0.6723 - val_loss: 1.9711 - val_accuracy: 0.6630\n",
      "Epoch 46/120\n",
      "30/30 [==============================] - 1s 17ms/step - loss: 1.9401 - accuracy: 0.6737 - val_loss: 1.9599 - val_accuracy: 0.6690\n",
      "Epoch 47/120\n",
      "30/30 [==============================] - 0s 11ms/step - loss: 1.9251 - accuracy: 0.6780 - val_loss: 1.9397 - val_accuracy: 0.6650\n",
      "Epoch 48/120\n",
      "30/30 [==============================] - 0s 12ms/step - loss: 1.9095 - accuracy: 0.6763 - val_loss: 1.9261 - val_accuracy: 0.6680\n",
      "Epoch 49/120\n",
      "30/30 [==============================] - 0s 12ms/step - loss: 1.8953 - accuracy: 0.6795 - val_loss: 1.9101 - val_accuracy: 0.6750\n",
      "Epoch 50/120\n",
      "30/30 [==============================] - 0s 13ms/step - loss: 1.8810 - accuracy: 0.6813 - val_loss: 1.8974 - val_accuracy: 0.6810\n",
      "Epoch 51/120\n",
      "30/30 [==============================] - 0s 14ms/step - loss: 1.8669 - accuracy: 0.6811 - val_loss: 1.8853 - val_accuracy: 0.6690\n",
      "Epoch 52/120\n",
      "30/30 [==============================] - 0s 13ms/step - loss: 1.8533 - accuracy: 0.6817 - val_loss: 1.8728 - val_accuracy: 0.6730\n",
      "Epoch 53/120\n",
      "30/30 [==============================] - 0s 14ms/step - loss: 1.8399 - accuracy: 0.6836 - val_loss: 1.8576 - val_accuracy: 0.6730\n",
      "Epoch 54/120\n",
      "30/30 [==============================] - 0s 14ms/step - loss: 1.8269 - accuracy: 0.6837 - val_loss: 1.8437 - val_accuracy: 0.6850\n",
      "Epoch 55/120\n",
      "30/30 [==============================] - 0s 14ms/step - loss: 1.8146 - accuracy: 0.6840 - val_loss: 1.8324 - val_accuracy: 0.6810\n",
      "Epoch 56/120\n",
      "30/30 [==============================] - 0s 15ms/step - loss: 1.8019 - accuracy: 0.6852 - val_loss: 1.8200 - val_accuracy: 0.6810\n",
      "Epoch 57/120\n",
      "30/30 [==============================] - 0s 13ms/step - loss: 1.7900 - accuracy: 0.6860 - val_loss: 1.8091 - val_accuracy: 0.6850\n",
      "Epoch 58/120\n",
      "30/30 [==============================] - 0s 13ms/step - loss: 1.7778 - accuracy: 0.6891 - val_loss: 1.7956 - val_accuracy: 0.6780\n",
      "Epoch 59/120\n",
      "30/30 [==============================] - 0s 12ms/step - loss: 1.7661 - accuracy: 0.6868 - val_loss: 1.7848 - val_accuracy: 0.6830\n",
      "Epoch 60/120\n",
      "30/30 [==============================] - 0s 11ms/step - loss: 1.7545 - accuracy: 0.6892 - val_loss: 1.7786 - val_accuracy: 0.6800\n",
      "Epoch 61/120\n",
      "30/30 [==============================] - 0s 13ms/step - loss: 1.7440 - accuracy: 0.6895 - val_loss: 1.7614 - val_accuracy: 0.6860\n",
      "Epoch 62/120\n",
      "30/30 [==============================] - 0s 13ms/step - loss: 1.7326 - accuracy: 0.6884 - val_loss: 1.7525 - val_accuracy: 0.6790\n",
      "Epoch 63/120\n",
      "30/30 [==============================] - 0s 12ms/step - loss: 1.7221 - accuracy: 0.6921 - val_loss: 1.7401 - val_accuracy: 0.6820\n",
      "Epoch 64/120\n",
      "30/30 [==============================] - 0s 13ms/step - loss: 1.7114 - accuracy: 0.6923 - val_loss: 1.7321 - val_accuracy: 0.6820\n",
      "Epoch 65/120\n",
      "30/30 [==============================] - 0s 13ms/step - loss: 1.7015 - accuracy: 0.6921 - val_loss: 1.7220 - val_accuracy: 0.6880\n",
      "Epoch 66/120\n",
      "30/30 [==============================] - 0s 13ms/step - loss: 1.6910 - accuracy: 0.6931 - val_loss: 1.7157 - val_accuracy: 0.6820\n",
      "Epoch 67/120\n",
      "30/30 [==============================] - 0s 10ms/step - loss: 1.6815 - accuracy: 0.6941 - val_loss: 1.7006 - val_accuracy: 0.6830\n",
      "Epoch 68/120\n",
      "30/30 [==============================] - 0s 13ms/step - loss: 1.6717 - accuracy: 0.6939 - val_loss: 1.6898 - val_accuracy: 0.6850\n",
      "Epoch 69/120\n",
      "30/30 [==============================] - 0s 13ms/step - loss: 1.6621 - accuracy: 0.6956 - val_loss: 1.6828 - val_accuracy: 0.6790\n",
      "Epoch 70/120\n",
      "30/30 [==============================] - 0s 11ms/step - loss: 1.6528 - accuracy: 0.6964 - val_loss: 1.6724 - val_accuracy: 0.6850\n",
      "Epoch 71/120\n",
      "30/30 [==============================] - 0s 12ms/step - loss: 1.6435 - accuracy: 0.6969 - val_loss: 1.6674 - val_accuracy: 0.6800\n",
      "Epoch 72/120\n",
      "30/30 [==============================] - 0s 12ms/step - loss: 1.6347 - accuracy: 0.6976 - val_loss: 1.6557 - val_accuracy: 0.6810\n",
      "Epoch 73/120\n",
      "30/30 [==============================] - 0s 12ms/step - loss: 1.6257 - accuracy: 0.6972 - val_loss: 1.6443 - val_accuracy: 0.6860\n",
      "Epoch 74/120\n",
      "30/30 [==============================] - 0s 12ms/step - loss: 1.6168 - accuracy: 0.6984 - val_loss: 1.6366 - val_accuracy: 0.6880\n",
      "Epoch 75/120\n",
      "30/30 [==============================] - 0s 12ms/step - loss: 1.6087 - accuracy: 0.6969 - val_loss: 1.6299 - val_accuracy: 0.6870\n",
      "Epoch 76/120\n",
      "30/30 [==============================] - 0s 12ms/step - loss: 1.5998 - accuracy: 0.6985 - val_loss: 1.6219 - val_accuracy: 0.6820\n",
      "Epoch 77/120\n",
      "30/30 [==============================] - 0s 13ms/step - loss: 1.5910 - accuracy: 0.7011 - val_loss: 1.6131 - val_accuracy: 0.6870\n",
      "Epoch 78/120\n",
      "30/30 [==============================] - 0s 12ms/step - loss: 1.5831 - accuracy: 0.7001 - val_loss: 1.6118 - val_accuracy: 0.6890\n",
      "Epoch 79/120\n",
      "30/30 [==============================] - 0s 13ms/step - loss: 1.5755 - accuracy: 0.6996 - val_loss: 1.5956 - val_accuracy: 0.6900\n",
      "Epoch 80/120\n",
      "30/30 [==============================] - 0s 12ms/step - loss: 1.5672 - accuracy: 0.6997 - val_loss: 1.5903 - val_accuracy: 0.6880\n",
      "Epoch 81/120\n",
      "30/30 [==============================] - 0s 13ms/step - loss: 1.5593 - accuracy: 0.6999 - val_loss: 1.5838 - val_accuracy: 0.6860\n",
      "Epoch 82/120\n",
      "30/30 [==============================] - 0s 13ms/step - loss: 1.5516 - accuracy: 0.7008 - val_loss: 1.5732 - val_accuracy: 0.6860\n",
      "Epoch 83/120\n",
      "30/30 [==============================] - 0s 13ms/step - loss: 1.5439 - accuracy: 0.7023 - val_loss: 1.5663 - val_accuracy: 0.6920\n",
      "Epoch 84/120\n",
      "30/30 [==============================] - 0s 13ms/step - loss: 1.5365 - accuracy: 0.7025 - val_loss: 1.5600 - val_accuracy: 0.6900\n",
      "Epoch 85/120\n",
      "30/30 [==============================] - 0s 13ms/step - loss: 1.5290 - accuracy: 0.7040 - val_loss: 1.5511 - val_accuracy: 0.6890\n",
      "Epoch 86/120\n",
      "30/30 [==============================] - 0s 13ms/step - loss: 1.5215 - accuracy: 0.7043 - val_loss: 1.5431 - val_accuracy: 0.6900\n",
      "Epoch 87/120\n",
      "30/30 [==============================] - 0s 13ms/step - loss: 1.5144 - accuracy: 0.7047 - val_loss: 1.5387 - val_accuracy: 0.6850\n",
      "Epoch 88/120\n",
      "30/30 [==============================] - 0s 14ms/step - loss: 1.5068 - accuracy: 0.7056 - val_loss: 1.5349 - val_accuracy: 0.6950\n",
      "Epoch 89/120\n",
      "30/30 [==============================] - 0s 13ms/step - loss: 1.4998 - accuracy: 0.7064 - val_loss: 1.5236 - val_accuracy: 0.6930\n",
      "Epoch 90/120\n",
      "30/30 [==============================] - 0s 13ms/step - loss: 1.4927 - accuracy: 0.7068 - val_loss: 1.5206 - val_accuracy: 0.6840\n",
      "Epoch 91/120\n",
      "30/30 [==============================] - 0s 14ms/step - loss: 1.4862 - accuracy: 0.7053 - val_loss: 1.5160 - val_accuracy: 0.6890\n",
      "Epoch 92/120\n",
      "30/30 [==============================] - 0s 12ms/step - loss: 1.4798 - accuracy: 0.7073 - val_loss: 1.5034 - val_accuracy: 0.6980\n",
      "Epoch 93/120\n",
      "30/30 [==============================] - 0s 12ms/step - loss: 1.4728 - accuracy: 0.7081 - val_loss: 1.4994 - val_accuracy: 0.6940\n",
      "Epoch 94/120\n",
      "30/30 [==============================] - 0s 13ms/step - loss: 1.4661 - accuracy: 0.7091 - val_loss: 1.4924 - val_accuracy: 0.6930\n",
      "Epoch 95/120\n",
      "30/30 [==============================] - 0s 12ms/step - loss: 1.4596 - accuracy: 0.7096 - val_loss: 1.4841 - val_accuracy: 0.6950\n",
      "Epoch 96/120\n",
      "30/30 [==============================] - 0s 13ms/step - loss: 1.4527 - accuracy: 0.7113 - val_loss: 1.4818 - val_accuracy: 0.6910\n",
      "Epoch 97/120\n",
      "30/30 [==============================] - 0s 12ms/step - loss: 1.4469 - accuracy: 0.7105 - val_loss: 1.4778 - val_accuracy: 0.6970\n",
      "Epoch 98/120\n",
      "30/30 [==============================] - 0s 12ms/step - loss: 1.4402 - accuracy: 0.7132 - val_loss: 1.4673 - val_accuracy: 0.6920\n",
      "Epoch 99/120\n",
      "30/30 [==============================] - 0s 12ms/step - loss: 1.4342 - accuracy: 0.7127 - val_loss: 1.4614 - val_accuracy: 0.6970\n",
      "Epoch 100/120\n",
      "30/30 [==============================] - 0s 14ms/step - loss: 1.4276 - accuracy: 0.7120 - val_loss: 1.4547 - val_accuracy: 0.6990\n",
      "Epoch 101/120\n",
      "30/30 [==============================] - 0s 12ms/step - loss: 1.4220 - accuracy: 0.7136 - val_loss: 1.4502 - val_accuracy: 0.6930\n",
      "Epoch 102/120\n",
      "30/30 [==============================] - 0s 12ms/step - loss: 1.4157 - accuracy: 0.7124 - val_loss: 1.4464 - val_accuracy: 0.6950\n",
      "Epoch 103/120\n",
      "30/30 [==============================] - 0s 11ms/step - loss: 1.4100 - accuracy: 0.7129 - val_loss: 1.4410 - val_accuracy: 0.6930\n",
      "Epoch 104/120\n",
      "30/30 [==============================] - 0s 12ms/step - loss: 1.4041 - accuracy: 0.7127 - val_loss: 1.4370 - val_accuracy: 0.6970\n",
      "Epoch 105/120\n",
      "30/30 [==============================] - 0s 11ms/step - loss: 1.3982 - accuracy: 0.7177 - val_loss: 1.4287 - val_accuracy: 0.6970\n",
      "Epoch 106/120\n",
      "30/30 [==============================] - 0s 12ms/step - loss: 1.3924 - accuracy: 0.7152 - val_loss: 1.4220 - val_accuracy: 0.6990\n",
      "Epoch 107/120\n",
      "30/30 [==============================] - 0s 13ms/step - loss: 1.3869 - accuracy: 0.7143 - val_loss: 1.4151 - val_accuracy: 0.6990\n",
      "Epoch 108/120\n",
      "30/30 [==============================] - 0s 13ms/step - loss: 1.3813 - accuracy: 0.7167 - val_loss: 1.4088 - val_accuracy: 0.7000\n",
      "Epoch 109/120\n",
      "30/30 [==============================] - 1s 26ms/step - loss: 1.3754 - accuracy: 0.7165 - val_loss: 1.4075 - val_accuracy: 0.6970\n",
      "Epoch 110/120\n",
      "30/30 [==============================] - 0s 11ms/step - loss: 1.3704 - accuracy: 0.7175 - val_loss: 1.3977 - val_accuracy: 0.7000\n",
      "Epoch 111/120\n",
      "30/30 [==============================] - 0s 10ms/step - loss: 1.3648 - accuracy: 0.7183 - val_loss: 1.3966 - val_accuracy: 0.6970\n",
      "Epoch 112/120\n",
      "30/30 [==============================] - 0s 9ms/step - loss: 1.3599 - accuracy: 0.7188 - val_loss: 1.3905 - val_accuracy: 0.6960\n",
      "Epoch 113/120\n",
      "30/30 [==============================] - 0s 10ms/step - loss: 1.3540 - accuracy: 0.7184 - val_loss: 1.3834 - val_accuracy: 0.6990\n",
      "Epoch 114/120\n",
      "30/30 [==============================] - 0s 10ms/step - loss: 1.3488 - accuracy: 0.7200 - val_loss: 1.3805 - val_accuracy: 0.6950\n",
      "Epoch 115/120\n",
      "30/30 [==============================] - 0s 11ms/step - loss: 1.3441 - accuracy: 0.7212 - val_loss: 1.3755 - val_accuracy: 0.6990\n",
      "Epoch 116/120\n",
      "30/30 [==============================] - 0s 9ms/step - loss: 1.3389 - accuracy: 0.7192 - val_loss: 1.3697 - val_accuracy: 0.6980\n",
      "Epoch 117/120\n",
      "30/30 [==============================] - 0s 10ms/step - loss: 1.3338 - accuracy: 0.7211 - val_loss: 1.3660 - val_accuracy: 0.7000\n",
      "Epoch 118/120\n",
      "30/30 [==============================] - 0s 8ms/step - loss: 1.3292 - accuracy: 0.7209 - val_loss: 1.3656 - val_accuracy: 0.6960\n",
      "Epoch 119/120\n",
      "30/30 [==============================] - 0s 9ms/step - loss: 1.3242 - accuracy: 0.7207 - val_loss: 1.3561 - val_accuracy: 0.7010\n",
      "Epoch 120/120\n",
      "30/30 [==============================] - 0s 8ms/step - loss: 1.3192 - accuracy: 0.7223 - val_loss: 1.3557 - val_accuracy: 0.7010\n"
     ]
    }
   ],
   "source": [
    "model = Sequential()\n",
    "model.add(Dense(50, activation='relu', input_dim=2000, kernel_regularizer=regularizers.l1(0.005)))\n",
    "model.add(Dense(25, activation='relu', kernel_regularizer=regularizers.l1(0.005)))\n",
    "model.add(Dense(7, activation='softmax'))\n",
    "model.compile(optimizer='SGD', loss='categorical_crossentropy', metrics=['accuracy'])\n",
    "\n",
    "\n",
    "L1_model = model.fit(train_final,\n",
    "                    label_train_final,\n",
    "                    epochs=120,\n",
    "                    batch_size=256,\n",
    "                    validation_data=(val, label_val))\n"
   ]
  },
  {
   "cell_type": "markdown",
   "metadata": {},
   "source": [
    "Now, run the cell below to get and visualize the model's `.history`."
   ]
  },
  {
   "cell_type": "code",
   "execution_count": 57,
   "metadata": {},
   "outputs": [
    {
     "data": {
      "image/png": "[encoded data removed]",
      "text/plain": [
       "<Figure size 432x288 with 1 Axes>"
      ]
     },
     "metadata": {
      "needs_background": "light"
     },
     "output_type": "display_data"
    }
   ],
   "source": [
    "L1_model_dict = L1_model.history\n",
    "plt.clf()\n",
    "\n",
    "acc_values = L1_model_dict['accuracy'] \n",
    "val_acc_values = L1_model_dict['val_accuracy']\n",
    "\n",
    "epochs = range(1, len(acc_values) + 1)\n",
    "plt.plot(epochs, acc_values, 'g', label='Training acc L1')\n",
    "plt.plot(epochs, val_acc_values, 'g.', label='Validation acc L1')\n",
    "plt.title('Training & validation accuracy with L1 regularization')\n",
    "plt.xlabel('Epochs')\n",
    "plt.ylabel('Loss')\n",
    "plt.legend()\n",
    "plt.show()"
   ]
  },
  {
   "cell_type": "markdown",
   "metadata": {},
   "source": [
    "Notice how The training and validation accuracy don't diverge as much as before! Unfortunately, the validation accuracy doesn't reach rates much higher than 70%. It does seem like we can still improve the model by training much longer.\n",
    "\n",
    "To complete our comparison, let's use `model.evaluate()` again on the appropriate variables to compare results. "
   ]
  },
  {
   "cell_type": "code",
   "execution_count": 59,
   "metadata": {},
   "outputs": [
    {
     "name": "stdout",
     "output_type": "stream",
     "text": [
      "235/235 [==============================] - 1s 2ms/step - loss: 1.3203 - accuracy: 0.7200\n",
      "47/47 [==============================] - 0s 2ms/step - loss: 1.3621 - accuracy: 0.7067\n"
     ]
    }
   ],
   "source": [
    "results_train = model.evaluate(train_final, label_train_final)\n",
    "\n",
    "results_test = model.evaluate(test, label_test)"
   ]
  },
  {
   "cell_type": "code",
   "execution_count": 60,
   "metadata": {},
   "outputs": [
    {
     "data": {
      "text/plain": [
       "[1.320335865020752, 0.7200000286102295]"
      ]
     },
     "execution_count": 60,
     "metadata": {},
     "output_type": "execute_result"
    }
   ],
   "source": [
    "results_train # Expected Output: [1.3186310468037923, 0.72266666663487755]"
   ]
  },
  {
   "cell_type": "code",
   "execution_count": 61,
   "metadata": {},
   "outputs": [
    {
     "data": {
      "text/plain": [
       "[1.3620622158050537, 0.7066666483879089]"
      ]
     },
     "execution_count": 61,
     "metadata": {},
     "output_type": "execute_result"
    }
   ],
   "source": [
    "results_test # Expected Output: [1.3541648308436076, 0.70800000031789145]"
   ]
  },
  {
   "cell_type": "markdown",
   "metadata": {},
   "source": [
    "This is about the best we've seen so far, but we were training for quite a while! Let's see if dropout regularization can do even better and/or be more efficient!"
   ]
  },
  {
   "cell_type": "markdown",
   "metadata": {},
   "source": [
    "## 6. Dropout Regularization\n",
    "\n",
    "Dropout Regularization is accomplished by adding in an additional `Dropout` layer wherever we want to use it, and providing a percentage value for how likely any given neuron is to get \"dropped out\" during this layer. \n",
    "\n",
    "In the cell below:\n",
    "\n",
    "* Import `Dropout` from `keras.layers`\n",
    "* Recreate the same network we have above, but this time without any L1 or L2 regularization\n",
    "* Add a `Dropout` layer between hidden layer 1 and hidden layer 2.  This should have a dropout chance of `0.3`.\n",
    "* Add a `Dropout` layer between hidden layer 2 and the output layer.  This should have a dropout chance of `0.3`.\n",
    "* Compile the model with the exact same hyperparameters as all other models we've built. \n",
    "* Fit the model with the same hyperparameters we've used above.  But this time, train the model for `200` epochs. "
   ]
  },
  {
   "cell_type": "code",
   "execution_count": 71,
   "metadata": {},
   "outputs": [
    {
     "name": "stdout",
     "output_type": "stream",
     "text": [
      "Epoch 1/200\n",
      "30/30 [==============================] - 1s 17ms/step - loss: 1.9544 - accuracy: 0.1488 - val_loss: 1.9415 - val_accuracy: 0.1540\n",
      "Epoch 2/200\n",
      "30/30 [==============================] - 0s 14ms/step - loss: 1.9411 - accuracy: 0.1621 - val_loss: 1.9329 - val_accuracy: 0.1950\n",
      "Epoch 3/200\n",
      "30/30 [==============================] - 0s 11ms/step - loss: 1.9333 - accuracy: 0.1689 - val_loss: 1.9260 - val_accuracy: 0.2100\n",
      "Epoch 4/200\n",
      "30/30 [==============================] - 0s 10ms/step - loss: 1.9244 - accuracy: 0.1827 - val_loss: 1.9191 - val_accuracy: 0.2180\n",
      "Epoch 5/200\n",
      "30/30 [==============================] - 1s 21ms/step - loss: 1.9150 - accuracy: 0.1921 - val_loss: 1.9115 - val_accuracy: 0.2280\n",
      "Epoch 6/200\n",
      "30/30 [==============================] - 0s 15ms/step - loss: 1.9106 - accuracy: 0.1983 - val_loss: 1.9048 - val_accuracy: 0.2200\n",
      "Epoch 7/200\n",
      "30/30 [==============================] - 0s 11ms/step - loss: 1.9020 - accuracy: 0.2139 - val_loss: 1.8967 - val_accuracy: 0.2200\n",
      "Epoch 8/200\n",
      "30/30 [==============================] - 0s 11ms/step - loss: 1.8960 - accuracy: 0.2191 - val_loss: 1.8874 - val_accuracy: 0.2230\n",
      "Epoch 9/200\n",
      "30/30 [==============================] - 0s 11ms/step - loss: 1.8841 - accuracy: 0.2277 - val_loss: 1.8780 - val_accuracy: 0.2260\n",
      "Epoch 10/200\n",
      "30/30 [==============================] - 0s 11ms/step - loss: 1.8738 - accuracy: 0.2356 - val_loss: 1.8662 - val_accuracy: 0.2280\n",
      "Epoch 11/200\n",
      "30/30 [==============================] - 0s 10ms/step - loss: 1.8625 - accuracy: 0.2428 - val_loss: 1.8533 - val_accuracy: 0.2460\n",
      "Epoch 12/200\n",
      "30/30 [==============================] - 0s 12ms/step - loss: 1.8553 - accuracy: 0.2420 - val_loss: 1.8400 - val_accuracy: 0.2570\n",
      "Epoch 13/200\n",
      "30/30 [==============================] - 0s 11ms/step - loss: 1.8394 - accuracy: 0.2627 - val_loss: 1.8249 - val_accuracy: 0.2590\n",
      "Epoch 14/200\n",
      "30/30 [==============================] - 0s 11ms/step - loss: 1.8287 - accuracy: 0.2601 - val_loss: 1.8082 - val_accuracy: 0.2740\n",
      "Epoch 15/200\n",
      "30/30 [==============================] - 0s 10ms/step - loss: 1.8100 - accuracy: 0.2827 - val_loss: 1.7882 - val_accuracy: 0.2960\n",
      "Epoch 16/200\n",
      "30/30 [==============================] - 0s 11ms/step - loss: 1.7957 - accuracy: 0.2936 - val_loss: 1.7682 - val_accuracy: 0.3140\n",
      "Epoch 17/200\n",
      "30/30 [==============================] - 0s 12ms/step - loss: 1.7796 - accuracy: 0.2957 - val_loss: 1.7464 - val_accuracy: 0.3620\n",
      "Epoch 18/200\n",
      "30/30 [==============================] - 1s 24ms/step - loss: 1.7634 - accuracy: 0.3079 - val_loss: 1.7230 - val_accuracy: 0.3890\n",
      "Epoch 19/200\n",
      "30/30 [==============================] - 1s 19ms/step - loss: 1.7462 - accuracy: 0.3211 - val_loss: 1.6983 - val_accuracy: 0.4150\n",
      "Epoch 20/200\n",
      "30/30 [==============================] - 0s 14ms/step - loss: 1.7175 - accuracy: 0.3368 - val_loss: 1.6705 - val_accuracy: 0.4300\n",
      "Epoch 21/200\n",
      "30/30 [==============================] - 0s 12ms/step - loss: 1.6984 - accuracy: 0.3535 - val_loss: 1.6417 - val_accuracy: 0.4600\n",
      "Epoch 22/200\n",
      "30/30 [==============================] - 0s 13ms/step - loss: 1.6765 - accuracy: 0.3643 - val_loss: 1.6142 - val_accuracy: 0.4710\n",
      "Epoch 23/200\n",
      "30/30 [==============================] - 0s 14ms/step - loss: 1.6549 - accuracy: 0.3773 - val_loss: 1.5855 - val_accuracy: 0.4870\n",
      "Epoch 24/200\n",
      "30/30 [==============================] - 0s 14ms/step - loss: 1.6329 - accuracy: 0.3813 - val_loss: 1.5567 - val_accuracy: 0.5040\n",
      "Epoch 25/200\n",
      "30/30 [==============================] - 0s 14ms/step - loss: 1.6177 - accuracy: 0.3969 - val_loss: 1.5293 - val_accuracy: 0.5200\n",
      "Epoch 26/200\n",
      "30/30 [==============================] - 0s 13ms/step - loss: 1.5857 - accuracy: 0.4004 - val_loss: 1.4987 - val_accuracy: 0.5380\n",
      "Epoch 27/200\n",
      "30/30 [==============================] - 0s 13ms/step - loss: 1.5670 - accuracy: 0.4184 - val_loss: 1.4697 - val_accuracy: 0.5600\n",
      "Epoch 28/200\n",
      "30/30 [==============================] - 0s 12ms/step - loss: 1.5417 - accuracy: 0.4231 - val_loss: 1.4407 - val_accuracy: 0.5740\n",
      "Epoch 29/200\n",
      "30/30 [==============================] - 0s 12ms/step - loss: 1.5184 - accuracy: 0.4317 - val_loss: 1.4116 - val_accuracy: 0.5890\n",
      "Epoch 30/200\n",
      "30/30 [==============================] - 0s 13ms/step - loss: 1.4986 - accuracy: 0.4411 - val_loss: 1.3854 - val_accuracy: 0.5950\n",
      "Epoch 31/200\n",
      "30/30 [==============================] - 0s 13ms/step - loss: 1.4767 - accuracy: 0.4492 - val_loss: 1.3575 - val_accuracy: 0.6070\n",
      "Epoch 32/200\n",
      "30/30 [==============================] - 0s 13ms/step - loss: 1.4439 - accuracy: 0.4625 - val_loss: 1.3279 - val_accuracy: 0.6150\n",
      "Epoch 33/200\n",
      "30/30 [==============================] - 0s 12ms/step - loss: 1.4283 - accuracy: 0.4649 - val_loss: 1.2999 - val_accuracy: 0.6260\n",
      "Epoch 34/200\n",
      "30/30 [==============================] - 0s 12ms/step - loss: 1.4154 - accuracy: 0.4815 - val_loss: 1.2767 - val_accuracy: 0.6340\n",
      "Epoch 35/200\n",
      "30/30 [==============================] - 0s 13ms/step - loss: 1.3889 - accuracy: 0.4945 - val_loss: 1.2515 - val_accuracy: 0.6380\n",
      "Epoch 36/200\n",
      "30/30 [==============================] - 0s 15ms/step - loss: 1.3636 - accuracy: 0.5055 - val_loss: 1.2268 - val_accuracy: 0.6420\n",
      "Epoch 37/200\n",
      "30/30 [==============================] - 0s 13ms/step - loss: 1.3382 - accuracy: 0.5077 - val_loss: 1.2029 - val_accuracy: 0.6510\n",
      "Epoch 38/200\n",
      "30/30 [==============================] - 0s 13ms/step - loss: 1.3212 - accuracy: 0.5183 - val_loss: 1.1762 - val_accuracy: 0.6570\n",
      "Epoch 39/200\n",
      "30/30 [==============================] - 0s 13ms/step - loss: 1.3056 - accuracy: 0.5208 - val_loss: 1.1564 - val_accuracy: 0.6540\n",
      "Epoch 40/200\n",
      "30/30 [==============================] - 0s 15ms/step - loss: 1.2874 - accuracy: 0.5300 - val_loss: 1.1353 - val_accuracy: 0.6610\n",
      "Epoch 41/200\n",
      "30/30 [==============================] - 0s 14ms/step - loss: 1.2745 - accuracy: 0.5331 - val_loss: 1.1156 - val_accuracy: 0.6660\n",
      "Epoch 42/200\n",
      "30/30 [==============================] - 1s 19ms/step - loss: 1.2539 - accuracy: 0.5425 - val_loss: 1.0955 - val_accuracy: 0.6660\n",
      "Epoch 43/200\n",
      "30/30 [==============================] - 1s 27ms/step - loss: 1.2271 - accuracy: 0.5517 - val_loss: 1.0757 - val_accuracy: 0.6720\n",
      "Epoch 44/200\n",
      "30/30 [==============================] - 0s 8ms/step - loss: 1.2092 - accuracy: 0.5615 - val_loss: 1.0578 - val_accuracy: 0.6750\n",
      "Epoch 45/200\n",
      "30/30 [==============================] - 0s 9ms/step - loss: 1.1931 - accuracy: 0.5627 - val_loss: 1.0395 - val_accuracy: 0.6790\n",
      "Epoch 46/200\n",
      "30/30 [==============================] - 0s 10ms/step - loss: 1.1817 - accuracy: 0.5707 - val_loss: 1.0237 - val_accuracy: 0.6910\n",
      "Epoch 47/200\n",
      "30/30 [==============================] - 0s 10ms/step - loss: 1.1578 - accuracy: 0.5769 - val_loss: 1.0060 - val_accuracy: 0.6860\n",
      "Epoch 48/200\n",
      "30/30 [==============================] - 0s 8ms/step - loss: 1.1543 - accuracy: 0.5751 - val_loss: 0.9919 - val_accuracy: 0.6900\n",
      "Epoch 49/200\n",
      "30/30 [==============================] - 0s 16ms/step - loss: 1.1437 - accuracy: 0.5749 - val_loss: 0.9789 - val_accuracy: 0.6870\n",
      "Epoch 50/200\n",
      "30/30 [==============================] - 0s 11ms/step - loss: 1.1385 - accuracy: 0.5783 - val_loss: 0.9660 - val_accuracy: 0.6890\n",
      "Epoch 51/200\n",
      "30/30 [==============================] - 0s 12ms/step - loss: 1.0996 - accuracy: 0.6013 - val_loss: 0.9502 - val_accuracy: 0.6950\n",
      "Epoch 52/200\n",
      "30/30 [==============================] - 0s 10ms/step - loss: 1.0989 - accuracy: 0.5975 - val_loss: 0.9389 - val_accuracy: 0.6930\n",
      "Epoch 53/200\n",
      "30/30 [==============================] - 0s 7ms/step - loss: 1.0849 - accuracy: 0.6011 - val_loss: 0.9265 - val_accuracy: 0.7040\n",
      "Epoch 54/200\n",
      "30/30 [==============================] - 0s 8ms/step - loss: 1.0762 - accuracy: 0.6073 - val_loss: 0.9155 - val_accuracy: 0.7020\n",
      "Epoch 55/200\n",
      "30/30 [==============================] - 0s 8ms/step - loss: 1.0611 - accuracy: 0.6067 - val_loss: 0.9035 - val_accuracy: 0.7020\n",
      "Epoch 56/200\n",
      "30/30 [==============================] - 0s 8ms/step - loss: 1.0600 - accuracy: 0.6087 - val_loss: 0.8955 - val_accuracy: 0.7030\n",
      "Epoch 57/200\n",
      "30/30 [==============================] - 0s 7ms/step - loss: 1.0294 - accuracy: 0.6213 - val_loss: 0.8832 - val_accuracy: 0.7020\n",
      "Epoch 58/200\n",
      "30/30 [==============================] - 0s 11ms/step - loss: 1.0409 - accuracy: 0.6240 - val_loss: 0.8759 - val_accuracy: 0.7070\n",
      "Epoch 59/200\n",
      "30/30 [==============================] - 0s 14ms/step - loss: 1.0184 - accuracy: 0.6251 - val_loss: 0.8648 - val_accuracy: 0.7140\n",
      "Epoch 60/200\n",
      "30/30 [==============================] - 0s 10ms/step - loss: 1.0065 - accuracy: 0.6296 - val_loss: 0.8536 - val_accuracy: 0.7170\n",
      "Epoch 61/200\n",
      "30/30 [==============================] - 0s 8ms/step - loss: 1.0022 - accuracy: 0.6287 - val_loss: 0.8473 - val_accuracy: 0.7170\n",
      "Epoch 62/200\n",
      "30/30 [==============================] - 0s 9ms/step - loss: 0.9851 - accuracy: 0.6420 - val_loss: 0.8387 - val_accuracy: 0.7150\n",
      "Epoch 63/200\n",
      "30/30 [==============================] - 0s 7ms/step - loss: 0.9841 - accuracy: 0.6344 - val_loss: 0.8312 - val_accuracy: 0.7170\n",
      "Epoch 64/200\n",
      "30/30 [==============================] - 0s 7ms/step - loss: 0.9681 - accuracy: 0.6401 - val_loss: 0.8263 - val_accuracy: 0.7180\n",
      "Epoch 65/200\n",
      "30/30 [==============================] - 0s 8ms/step - loss: 0.9637 - accuracy: 0.6449 - val_loss: 0.8196 - val_accuracy: 0.7180\n",
      "Epoch 66/200\n",
      "30/30 [==============================] - 0s 12ms/step - loss: 0.9621 - accuracy: 0.6456 - val_loss: 0.8148 - val_accuracy: 0.7180\n",
      "Epoch 67/200\n",
      "30/30 [==============================] - 1s 21ms/step - loss: 0.9522 - accuracy: 0.6479 - val_loss: 0.8071 - val_accuracy: 0.7220\n",
      "Epoch 68/200\n",
      "30/30 [==============================] - 0s 7ms/step - loss: 0.9368 - accuracy: 0.6496 - val_loss: 0.8017 - val_accuracy: 0.7200\n",
      "Epoch 69/200\n",
      "30/30 [==============================] - 0s 8ms/step - loss: 0.9225 - accuracy: 0.6629 - val_loss: 0.7937 - val_accuracy: 0.7230\n",
      "Epoch 70/200\n",
      "30/30 [==============================] - 0s 7ms/step - loss: 0.9248 - accuracy: 0.6576 - val_loss: 0.7878 - val_accuracy: 0.7200\n",
      "Epoch 71/200\n",
      "30/30 [==============================] - 0s 8ms/step - loss: 0.9204 - accuracy: 0.6565 - val_loss: 0.7824 - val_accuracy: 0.7230\n",
      "Epoch 72/200\n",
      "30/30 [==============================] - 0s 8ms/step - loss: 0.9084 - accuracy: 0.6599 - val_loss: 0.7772 - val_accuracy: 0.7240\n",
      "Epoch 73/200\n",
      "30/30 [==============================] - 0s 7ms/step - loss: 0.8948 - accuracy: 0.6641 - val_loss: 0.7728 - val_accuracy: 0.7240\n",
      "Epoch 74/200\n",
      "30/30 [==============================] - 0s 8ms/step - loss: 0.8926 - accuracy: 0.6669 - val_loss: 0.7686 - val_accuracy: 0.7220\n",
      "Epoch 75/200\n",
      "30/30 [==============================] - 0s 7ms/step - loss: 0.8819 - accuracy: 0.6688 - val_loss: 0.7645 - val_accuracy: 0.7270\n",
      "Epoch 76/200\n",
      "30/30 [==============================] - 0s 8ms/step - loss: 0.8840 - accuracy: 0.6753 - val_loss: 0.7598 - val_accuracy: 0.7260\n",
      "Epoch 77/200\n",
      "30/30 [==============================] - 0s 7ms/step - loss: 0.8723 - accuracy: 0.6687 - val_loss: 0.7551 - val_accuracy: 0.7280\n",
      "Epoch 78/200\n",
      "30/30 [==============================] - 0s 7ms/step - loss: 0.8640 - accuracy: 0.6819 - val_loss: 0.7524 - val_accuracy: 0.7270\n",
      "Epoch 79/200\n",
      "30/30 [==============================] - 0s 8ms/step - loss: 0.8638 - accuracy: 0.6805 - val_loss: 0.7488 - val_accuracy: 0.7260\n",
      "Epoch 80/200\n",
      "30/30 [==============================] - 0s 7ms/step - loss: 0.8548 - accuracy: 0.6799 - val_loss: 0.7463 - val_accuracy: 0.7240\n",
      "Epoch 81/200\n",
      "30/30 [==============================] - 1s 23ms/step - loss: 0.8530 - accuracy: 0.6815 - val_loss: 0.7426 - val_accuracy: 0.7270\n",
      "Epoch 82/200\n",
      "30/30 [==============================] - 0s 14ms/step - loss: 0.8534 - accuracy: 0.6775 - val_loss: 0.7416 - val_accuracy: 0.7290\n",
      "Epoch 83/200\n",
      "30/30 [==============================] - 1s 29ms/step - loss: 0.8482 - accuracy: 0.6813 - val_loss: 0.7369 - val_accuracy: 0.7320\n",
      "Epoch 84/200\n",
      "30/30 [==============================] - 0s 12ms/step - loss: 0.8432 - accuracy: 0.6859 - val_loss: 0.7346 - val_accuracy: 0.7270\n",
      "Epoch 85/200\n",
      "30/30 [==============================] - 0s 9ms/step - loss: 0.8255 - accuracy: 0.6924 - val_loss: 0.7290 - val_accuracy: 0.7310\n",
      "Epoch 86/200\n",
      "30/30 [==============================] - 0s 8ms/step - loss: 0.8235 - accuracy: 0.6895 - val_loss: 0.7258 - val_accuracy: 0.7330\n",
      "Epoch 87/200\n",
      "30/30 [==============================] - 0s 9ms/step - loss: 0.8060 - accuracy: 0.7041 - val_loss: 0.7222 - val_accuracy: 0.7320\n",
      "Epoch 88/200\n",
      "30/30 [==============================] - 1s 36ms/step - loss: 0.8203 - accuracy: 0.6935 - val_loss: 0.7199 - val_accuracy: 0.7320\n",
      "Epoch 89/200\n",
      "30/30 [==============================] - 1s 32ms/step - loss: 0.8043 - accuracy: 0.7040 - val_loss: 0.7171 - val_accuracy: 0.7340\n",
      "Epoch 90/200\n",
      "30/30 [==============================] - 1s 40ms/step - loss: 0.8106 - accuracy: 0.6965 - val_loss: 0.7161 - val_accuracy: 0.7330\n",
      "Epoch 91/200\n",
      "30/30 [==============================] - 1s 29ms/step - loss: 0.8004 - accuracy: 0.6995 - val_loss: 0.7137 - val_accuracy: 0.7340\n",
      "Epoch 92/200\n",
      "30/30 [==============================] - 1s 31ms/step - loss: 0.7959 - accuracy: 0.7011 - val_loss: 0.7109 - val_accuracy: 0.7340\n",
      "Epoch 93/200\n",
      "30/30 [==============================] - 1s 26ms/step - loss: 0.7752 - accuracy: 0.7084 - val_loss: 0.7097 - val_accuracy: 0.7320\n",
      "Epoch 94/200\n",
      "30/30 [==============================] - 0s 8ms/step - loss: 0.7790 - accuracy: 0.7091 - val_loss: 0.7069 - val_accuracy: 0.7360\n",
      "Epoch 95/200\n",
      "30/30 [==============================] - 0s 11ms/step - loss: 0.7867 - accuracy: 0.7065 - val_loss: 0.7046 - val_accuracy: 0.7370\n",
      "Epoch 96/200\n",
      "30/30 [==============================] - 1s 23ms/step - loss: 0.7763 - accuracy: 0.7051 - val_loss: 0.7036 - val_accuracy: 0.7390\n",
      "Epoch 97/200\n",
      "30/30 [==============================] - 0s 8ms/step - loss: 0.7729 - accuracy: 0.7179 - val_loss: 0.7009 - val_accuracy: 0.7380\n",
      "Epoch 98/200\n",
      "30/30 [==============================] - 0s 11ms/step - loss: 0.7649 - accuracy: 0.7148 - val_loss: 0.6990 - val_accuracy: 0.7370\n",
      "Epoch 99/200\n",
      "30/30 [==============================] - 0s 12ms/step - loss: 0.7655 - accuracy: 0.7151 - val_loss: 0.6972 - val_accuracy: 0.7390\n",
      "Epoch 100/200\n",
      "30/30 [==============================] - 0s 12ms/step - loss: 0.7595 - accuracy: 0.7139 - val_loss: 0.6944 - val_accuracy: 0.7420\n",
      "Epoch 101/200\n",
      "30/30 [==============================] - 0s 12ms/step - loss: 0.7441 - accuracy: 0.7227 - val_loss: 0.6934 - val_accuracy: 0.7400\n",
      "Epoch 102/200\n",
      "30/30 [==============================] - 0s 11ms/step - loss: 0.7556 - accuracy: 0.7207 - val_loss: 0.6916 - val_accuracy: 0.7420\n",
      "Epoch 103/200\n",
      "30/30 [==============================] - 0s 12ms/step - loss: 0.7543 - accuracy: 0.7155 - val_loss: 0.6907 - val_accuracy: 0.7400\n",
      "Epoch 104/200\n",
      "30/30 [==============================] - 0s 12ms/step - loss: 0.7302 - accuracy: 0.7257 - val_loss: 0.6890 - val_accuracy: 0.7420\n",
      "Epoch 105/200\n",
      "30/30 [==============================] - 0s 9ms/step - loss: 0.7505 - accuracy: 0.7193 - val_loss: 0.6883 - val_accuracy: 0.7380\n",
      "Epoch 106/200\n",
      "30/30 [==============================] - 0s 10ms/step - loss: 0.7361 - accuracy: 0.7263 - val_loss: 0.6863 - val_accuracy: 0.7410\n",
      "Epoch 107/200\n",
      "30/30 [==============================] - 0s 9ms/step - loss: 0.7212 - accuracy: 0.7216 - val_loss: 0.6848 - val_accuracy: 0.7420\n",
      "Epoch 108/200\n",
      "30/30 [==============================] - 0s 8ms/step - loss: 0.7386 - accuracy: 0.7179 - val_loss: 0.6834 - val_accuracy: 0.7400\n",
      "Epoch 109/200\n",
      "30/30 [==============================] - 0s 14ms/step - loss: 0.7182 - accuracy: 0.7327 - val_loss: 0.6821 - val_accuracy: 0.7400\n",
      "Epoch 110/200\n",
      "30/30 [==============================] - 1s 37ms/step - loss: 0.7198 - accuracy: 0.7265 - val_loss: 0.6808 - val_accuracy: 0.7440\n",
      "Epoch 111/200\n",
      "30/30 [==============================] - 1s 37ms/step - loss: 0.7161 - accuracy: 0.7288 - val_loss: 0.6800 - val_accuracy: 0.7450\n",
      "Epoch 112/200\n",
      "30/30 [==============================] - 1s 32ms/step - loss: 0.7120 - accuracy: 0.7333 - val_loss: 0.6787 - val_accuracy: 0.7440\n",
      "Epoch 113/200\n",
      "30/30 [==============================] - 1s 27ms/step - loss: 0.7222 - accuracy: 0.7317 - val_loss: 0.6774 - val_accuracy: 0.7420\n",
      "Epoch 114/200\n",
      "30/30 [==============================] - 1s 35ms/step - loss: 0.7058 - accuracy: 0.7317 - val_loss: 0.6760 - val_accuracy: 0.7430\n",
      "Epoch 115/200\n",
      "30/30 [==============================] - 1s 25ms/step - loss: 0.7145 - accuracy: 0.7279 - val_loss: 0.6759 - val_accuracy: 0.7450\n",
      "Epoch 116/200\n",
      "30/30 [==============================] - 1s 24ms/step - loss: 0.7020 - accuracy: 0.7321 - val_loss: 0.6748 - val_accuracy: 0.7420\n",
      "Epoch 117/200\n",
      "30/30 [==============================] - 0s 11ms/step - loss: 0.6876 - accuracy: 0.7440 - val_loss: 0.6737 - val_accuracy: 0.7410\n",
      "Epoch 118/200\n",
      "30/30 [==============================] - 0s 10ms/step - loss: 0.7011 - accuracy: 0.7357 - val_loss: 0.6726 - val_accuracy: 0.7410\n",
      "Epoch 119/200\n",
      "30/30 [==============================] - 0s 12ms/step - loss: 0.6977 - accuracy: 0.7387 - val_loss: 0.6724 - val_accuracy: 0.7420\n",
      "Epoch 120/200\n",
      "30/30 [==============================] - 0s 10ms/step - loss: 0.6960 - accuracy: 0.7339 - val_loss: 0.6710 - val_accuracy: 0.7410\n",
      "Epoch 121/200\n",
      "30/30 [==============================] - 0s 9ms/step - loss: 0.6887 - accuracy: 0.7379 - val_loss: 0.6696 - val_accuracy: 0.7400\n",
      "Epoch 122/200\n",
      "30/30 [==============================] - 0s 9ms/step - loss: 0.6840 - accuracy: 0.7383 - val_loss: 0.6698 - val_accuracy: 0.7430\n",
      "Epoch 123/200\n",
      "30/30 [==============================] - 0s 10ms/step - loss: 0.6823 - accuracy: 0.7459 - val_loss: 0.6683 - val_accuracy: 0.7430\n",
      "Epoch 124/200\n",
      "30/30 [==============================] - 0s 11ms/step - loss: 0.6784 - accuracy: 0.7409 - val_loss: 0.6677 - val_accuracy: 0.7420\n",
      "Epoch 125/200\n",
      "30/30 [==============================] - 0s 9ms/step - loss: 0.6759 - accuracy: 0.7439 - val_loss: 0.6678 - val_accuracy: 0.7440\n",
      "Epoch 126/200\n",
      "30/30 [==============================] - 0s 8ms/step - loss: 0.6729 - accuracy: 0.7477 - val_loss: 0.6656 - val_accuracy: 0.7420\n",
      "Epoch 127/200\n",
      "30/30 [==============================] - 0s 9ms/step - loss: 0.6755 - accuracy: 0.7431 - val_loss: 0.6658 - val_accuracy: 0.7430\n",
      "Epoch 128/200\n",
      "30/30 [==============================] - 0s 11ms/step - loss: 0.6693 - accuracy: 0.7513 - val_loss: 0.6651 - val_accuracy: 0.7420\n",
      "Epoch 129/200\n",
      "30/30 [==============================] - 0s 11ms/step - loss: 0.6735 - accuracy: 0.7472 - val_loss: 0.6640 - val_accuracy: 0.7430\n",
      "Epoch 130/200\n",
      "30/30 [==============================] - 0s 9ms/step - loss: 0.6572 - accuracy: 0.7435 - val_loss: 0.6625 - val_accuracy: 0.7450\n",
      "Epoch 131/200\n",
      "30/30 [==============================] - 0s 10ms/step - loss: 0.6589 - accuracy: 0.7517 - val_loss: 0.6626 - val_accuracy: 0.7380\n",
      "Epoch 132/200\n",
      "30/30 [==============================] - 0s 9ms/step - loss: 0.6587 - accuracy: 0.7517 - val_loss: 0.6617 - val_accuracy: 0.7410\n",
      "Epoch 133/200\n",
      "30/30 [==============================] - 0s 9ms/step - loss: 0.6444 - accuracy: 0.7603 - val_loss: 0.6623 - val_accuracy: 0.7490\n",
      "Epoch 134/200\n",
      "30/30 [==============================] - 0s 8ms/step - loss: 0.6572 - accuracy: 0.7520 - val_loss: 0.6618 - val_accuracy: 0.7390\n",
      "Epoch 135/200\n",
      "30/30 [==============================] - 0s 9ms/step - loss: 0.6419 - accuracy: 0.7540 - val_loss: 0.6607 - val_accuracy: 0.7440\n",
      "Epoch 136/200\n",
      "30/30 [==============================] - 0s 11ms/step - loss: 0.6509 - accuracy: 0.7484 - val_loss: 0.6602 - val_accuracy: 0.7420\n",
      "Epoch 137/200\n",
      "30/30 [==============================] - 0s 10ms/step - loss: 0.6535 - accuracy: 0.7479 - val_loss: 0.6585 - val_accuracy: 0.7440\n",
      "Epoch 138/200\n",
      "30/30 [==============================] - 0s 9ms/step - loss: 0.6361 - accuracy: 0.7609 - val_loss: 0.6576 - val_accuracy: 0.7430\n",
      "Epoch 139/200\n",
      "30/30 [==============================] - 0s 9ms/step - loss: 0.6426 - accuracy: 0.7547 - val_loss: 0.6590 - val_accuracy: 0.7440\n",
      "Epoch 140/200\n",
      "30/30 [==============================] - 0s 8ms/step - loss: 0.6390 - accuracy: 0.7552 - val_loss: 0.6584 - val_accuracy: 0.7420\n",
      "Epoch 141/200\n",
      "30/30 [==============================] - 0s 10ms/step - loss: 0.6254 - accuracy: 0.7551 - val_loss: 0.6578 - val_accuracy: 0.7410\n",
      "Epoch 142/200\n",
      "30/30 [==============================] - 0s 11ms/step - loss: 0.6384 - accuracy: 0.7533 - val_loss: 0.6564 - val_accuracy: 0.7430\n",
      "Epoch 143/200\n",
      "30/30 [==============================] - 0s 11ms/step - loss: 0.6285 - accuracy: 0.7611 - val_loss: 0.6552 - val_accuracy: 0.7400\n",
      "Epoch 144/200\n",
      "30/30 [==============================] - 0s 11ms/step - loss: 0.6223 - accuracy: 0.7599 - val_loss: 0.6565 - val_accuracy: 0.7410\n",
      "Epoch 145/200\n",
      "30/30 [==============================] - 0s 16ms/step - loss: 0.6271 - accuracy: 0.7592 - val_loss: 0.6552 - val_accuracy: 0.7400\n",
      "Epoch 146/200\n",
      "30/30 [==============================] - 0s 10ms/step - loss: 0.6235 - accuracy: 0.7599 - val_loss: 0.6557 - val_accuracy: 0.7440\n",
      "Epoch 147/200\n",
      "30/30 [==============================] - 0s 13ms/step - loss: 0.6252 - accuracy: 0.7617 - val_loss: 0.6542 - val_accuracy: 0.7420\n",
      "Epoch 148/200\n",
      "30/30 [==============================] - 0s 10ms/step - loss: 0.6134 - accuracy: 0.7659 - val_loss: 0.6557 - val_accuracy: 0.7420\n",
      "Epoch 149/200\n",
      "30/30 [==============================] - 0s 9ms/step - loss: 0.6203 - accuracy: 0.7683 - val_loss: 0.6537 - val_accuracy: 0.7470\n",
      "Epoch 150/200\n",
      "30/30 [==============================] - 0s 9ms/step - loss: 0.6090 - accuracy: 0.7667 - val_loss: 0.6527 - val_accuracy: 0.7440\n",
      "Epoch 151/200\n",
      "30/30 [==============================] - 0s 9ms/step - loss: 0.6090 - accuracy: 0.7699 - val_loss: 0.6539 - val_accuracy: 0.7440\n",
      "Epoch 152/200\n",
      "30/30 [==============================] - 0s 9ms/step - loss: 0.6110 - accuracy: 0.7669 - val_loss: 0.6533 - val_accuracy: 0.7410\n",
      "Epoch 153/200\n",
      "30/30 [==============================] - 0s 10ms/step - loss: 0.6006 - accuracy: 0.7704 - val_loss: 0.6527 - val_accuracy: 0.7410\n",
      "Epoch 154/200\n",
      "30/30 [==============================] - 0s 11ms/step - loss: 0.6090 - accuracy: 0.7695 - val_loss: 0.6524 - val_accuracy: 0.7430\n",
      "Epoch 155/200\n",
      "30/30 [==============================] - 0s 10ms/step - loss: 0.5967 - accuracy: 0.7701 - val_loss: 0.6520 - val_accuracy: 0.7390\n",
      "Epoch 156/200\n",
      "30/30 [==============================] - 0s 10ms/step - loss: 0.6022 - accuracy: 0.7677 - val_loss: 0.6516 - val_accuracy: 0.7470\n",
      "Epoch 157/200\n",
      "30/30 [==============================] - 0s 13ms/step - loss: 0.6060 - accuracy: 0.7680 - val_loss: 0.6513 - val_accuracy: 0.7470\n",
      "Epoch 158/200\n",
      "30/30 [==============================] - 0s 10ms/step - loss: 0.6007 - accuracy: 0.7696 - val_loss: 0.6524 - val_accuracy: 0.7420\n",
      "Epoch 159/200\n",
      "30/30 [==============================] - 0s 9ms/step - loss: 0.6009 - accuracy: 0.7700 - val_loss: 0.6512 - val_accuracy: 0.7450\n",
      "Epoch 160/200\n",
      "30/30 [==============================] - 0s 9ms/step - loss: 0.6002 - accuracy: 0.7661 - val_loss: 0.6532 - val_accuracy: 0.7450\n",
      "Epoch 161/200\n",
      "30/30 [==============================] - 0s 10ms/step - loss: 0.5919 - accuracy: 0.7720 - val_loss: 0.6517 - val_accuracy: 0.7450\n",
      "Epoch 162/200\n",
      "30/30 [==============================] - 0s 10ms/step - loss: 0.5896 - accuracy: 0.7753 - val_loss: 0.6496 - val_accuracy: 0.7420\n",
      "Epoch 163/200\n",
      "30/30 [==============================] - 0s 8ms/step - loss: 0.5846 - accuracy: 0.7759 - val_loss: 0.6501 - val_accuracy: 0.7410\n",
      "Epoch 164/200\n",
      "30/30 [==============================] - 0s 10ms/step - loss: 0.5939 - accuracy: 0.7669 - val_loss: 0.6513 - val_accuracy: 0.7450\n",
      "Epoch 165/200\n",
      "30/30 [==============================] - 0s 9ms/step - loss: 0.5847 - accuracy: 0.7688 - val_loss: 0.6522 - val_accuracy: 0.7460\n",
      "Epoch 166/200\n",
      "30/30 [==============================] - 0s 11ms/step - loss: 0.5765 - accuracy: 0.7787 - val_loss: 0.6498 - val_accuracy: 0.7470\n",
      "Epoch 167/200\n",
      "30/30 [==============================] - 0s 10ms/step - loss: 0.5806 - accuracy: 0.7749 - val_loss: 0.6501 - val_accuracy: 0.7500\n",
      "Epoch 168/200\n",
      "30/30 [==============================] - 0s 8ms/step - loss: 0.5831 - accuracy: 0.7797 - val_loss: 0.6484 - val_accuracy: 0.7470\n",
      "Epoch 169/200\n",
      "30/30 [==============================] - 0s 8ms/step - loss: 0.5753 - accuracy: 0.7791 - val_loss: 0.6490 - val_accuracy: 0.7450\n",
      "Epoch 170/200\n",
      "30/30 [==============================] - 0s 10ms/step - loss: 0.5686 - accuracy: 0.7796 - val_loss: 0.6501 - val_accuracy: 0.7440\n",
      "Epoch 171/200\n",
      "30/30 [==============================] - 0s 10ms/step - loss: 0.5735 - accuracy: 0.7781 - val_loss: 0.6486 - val_accuracy: 0.7490\n",
      "Epoch 172/200\n",
      "30/30 [==============================] - 0s 10ms/step - loss: 0.5733 - accuracy: 0.7801 - val_loss: 0.6488 - val_accuracy: 0.7470\n",
      "Epoch 173/200\n",
      "30/30 [==============================] - 0s 9ms/step - loss: 0.5687 - accuracy: 0.7799 - val_loss: 0.6491 - val_accuracy: 0.7450\n",
      "Epoch 174/200\n",
      "30/30 [==============================] - 0s 10ms/step - loss: 0.5718 - accuracy: 0.7773 - val_loss: 0.6487 - val_accuracy: 0.7480\n",
      "Epoch 175/200\n",
      "30/30 [==============================] - 0s 10ms/step - loss: 0.5683 - accuracy: 0.7833 - val_loss: 0.6477 - val_accuracy: 0.7470\n",
      "Epoch 176/200\n",
      "30/30 [==============================] - 0s 11ms/step - loss: 0.5606 - accuracy: 0.7872 - val_loss: 0.6479 - val_accuracy: 0.7470\n",
      "Epoch 177/200\n",
      "30/30 [==============================] - 0s 9ms/step - loss: 0.5642 - accuracy: 0.7773 - val_loss: 0.6479 - val_accuracy: 0.7490\n",
      "Epoch 178/200\n",
      "30/30 [==============================] - 0s 11ms/step - loss: 0.5611 - accuracy: 0.7879 - val_loss: 0.6474 - val_accuracy: 0.7470\n",
      "Epoch 179/200\n",
      "30/30 [==============================] - 0s 10ms/step - loss: 0.5510 - accuracy: 0.7884 - val_loss: 0.6479 - val_accuracy: 0.7420\n",
      "Epoch 180/200\n",
      "30/30 [==============================] - 0s 10ms/step - loss: 0.5598 - accuracy: 0.7808 - val_loss: 0.6475 - val_accuracy: 0.7450\n",
      "Epoch 181/200\n",
      "30/30 [==============================] - 0s 11ms/step - loss: 0.5586 - accuracy: 0.7784 - val_loss: 0.6499 - val_accuracy: 0.7440\n",
      "Epoch 182/200\n",
      "30/30 [==============================] - 0s 9ms/step - loss: 0.5555 - accuracy: 0.7808 - val_loss: 0.6465 - val_accuracy: 0.7450\n",
      "Epoch 183/200\n",
      "30/30 [==============================] - 0s 12ms/step - loss: 0.5532 - accuracy: 0.7839 - val_loss: 0.6464 - val_accuracy: 0.7450\n",
      "Epoch 184/200\n",
      "30/30 [==============================] - 0s 10ms/step - loss: 0.5519 - accuracy: 0.7879 - val_loss: 0.6459 - val_accuracy: 0.7480\n",
      "Epoch 185/200\n",
      "30/30 [==============================] - 0s 9ms/step - loss: 0.5496 - accuracy: 0.7811 - val_loss: 0.6470 - val_accuracy: 0.7430\n",
      "Epoch 186/200\n",
      "30/30 [==============================] - 0s 12ms/step - loss: 0.5431 - accuracy: 0.7851 - val_loss: 0.6475 - val_accuracy: 0.7410\n",
      "Epoch 187/200\n",
      "30/30 [==============================] - 0s 12ms/step - loss: 0.5511 - accuracy: 0.7863 - val_loss: 0.6455 - val_accuracy: 0.7510\n",
      "Epoch 188/200\n",
      "30/30 [==============================] - 0s 8ms/step - loss: 0.5452 - accuracy: 0.7845 - val_loss: 0.6452 - val_accuracy: 0.7450\n",
      "Epoch 189/200\n",
      "30/30 [==============================] - 0s 10ms/step - loss: 0.5421 - accuracy: 0.7879 - val_loss: 0.6469 - val_accuracy: 0.7420\n",
      "Epoch 190/200\n",
      "30/30 [==============================] - 0s 9ms/step - loss: 0.5370 - accuracy: 0.7876 - val_loss: 0.6466 - val_accuracy: 0.7440\n",
      "Epoch 191/200\n",
      "30/30 [==============================] - 0s 11ms/step - loss: 0.5394 - accuracy: 0.7856 - val_loss: 0.6474 - val_accuracy: 0.7430\n",
      "Epoch 192/200\n",
      "30/30 [==============================] - 0s 12ms/step - loss: 0.5352 - accuracy: 0.7893 - val_loss: 0.6469 - val_accuracy: 0.7480\n",
      "Epoch 193/200\n",
      "30/30 [==============================] - 0s 13ms/step - loss: 0.5369 - accuracy: 0.7933 - val_loss: 0.6464 - val_accuracy: 0.7430\n",
      "Epoch 194/200\n",
      "30/30 [==============================] - 0s 11ms/step - loss: 0.5334 - accuracy: 0.7905 - val_loss: 0.6462 - val_accuracy: 0.7480\n",
      "Epoch 195/200\n",
      "30/30 [==============================] - 0s 11ms/step - loss: 0.5229 - accuracy: 0.7933 - val_loss: 0.6460 - val_accuracy: 0.7440\n",
      "Epoch 196/200\n",
      "30/30 [==============================] - 1s 19ms/step - loss: 0.5265 - accuracy: 0.7968 - val_loss: 0.6463 - val_accuracy: 0.7450\n",
      "Epoch 197/200\n",
      "30/30 [==============================] - 0s 13ms/step - loss: 0.5277 - accuracy: 0.7933 - val_loss: 0.6480 - val_accuracy: 0.7440\n",
      "Epoch 198/200\n",
      "30/30 [==============================] - 0s 12ms/step - loss: 0.5330 - accuracy: 0.7908 - val_loss: 0.6463 - val_accuracy: 0.7470\n",
      "Epoch 199/200\n",
      "30/30 [==============================] - 0s 10ms/step - loss: 0.5164 - accuracy: 0.8008 - val_loss: 0.6460 - val_accuracy: 0.7510\n",
      "Epoch 200/200\n",
      "30/30 [==============================] - 0s 9ms/step - loss: 0.5161 - accuracy: 0.7996 - val_loss: 0.6474 - val_accuracy: 0.7520\n"
     ]
    }
   ],
   "source": [
    "from keras.layers import Dropout\n",
    "\n",
    "model = Sequential()\n",
    "model.add(Dense(50, activation='relu', input_dim=2000))\n",
    "model.add(Dropout(0.3))\n",
    "model.add(Dense(25, activation='relu'))\n",
    "model.add(Dropout(0.3))\n",
    "model.add(Dense(7, activation='softmax'))\n",
    "model.compile(optimizer='SGD', loss='categorical_crossentropy', metrics=['accuracy'])\n",
    "\n",
    "\n",
    "dropout_model = model.fit(train_final,\n",
    "                    label_train_final,\n",
    "                    epochs=200,\n",
    "                    batch_size=256,\n",
    "                    validation_data=(val, label_val))"
   ]
  },
  {
   "cell_type": "markdown",
   "metadata": {},
   "source": [
    "Now, let's check the results from `model.evaluate` to see how this change has affected our training. "
   ]
  },
  {
   "cell_type": "code",
   "execution_count": 72,
   "metadata": {
    "scrolled": true
   },
   "outputs": [
    {
     "name": "stdout",
     "output_type": "stream",
     "text": [
      "235/235 [==============================] - 0s 2ms/step - loss: 0.3729 - accuracy: 0.8573\n",
      "47/47 [==============================] - 0s 3ms/step - loss: 0.6143 - accuracy: 0.7573\n"
     ]
    }
   ],
   "source": [
    "results_train = model.evaluate(train_final, label_train_final)\n",
    "results_test = model.evaluate(test, label_test)"
   ]
  },
  {
   "cell_type": "code",
   "execution_count": 73,
   "metadata": {},
   "outputs": [
    {
     "data": {
      "text/plain": [
       "[0.3729124963283539, 0.8573333621025085]"
      ]
     },
     "execution_count": 73,
     "metadata": {},
     "output_type": "execute_result"
    }
   ],
   "source": [
    "results_train # Expected Results: [0.36925017188787462, 0.88026666666666664]"
   ]
  },
  {
   "cell_type": "code",
   "execution_count": 74,
   "metadata": {},
   "outputs": [
    {
     "data": {
      "text/plain": [
       "[0.614325225353241, 0.7573333382606506]"
      ]
     },
     "execution_count": 74,
     "metadata": {},
     "output_type": "execute_result"
    }
   ],
   "source": [
    "results_test # Expected Results: [0.69210424280166627, 0.74333333365122478]"
   ]
  },
  {
   "cell_type": "code",
   "execution_count": null,
   "metadata": {},
   "outputs": [],
   "source": []
  },
  {
   "cell_type": "markdown",
   "metadata": {},
   "source": [
    "You can see here that the validation performance has improved again! However, the variance did become higher again, compared to L1-regularization."
   ]
  },
  {
   "cell_type": "markdown",
   "metadata": {},
   "source": [
    "## 7.  More Training Data?"
   ]
  },
  {
   "cell_type": "markdown",
   "metadata": {},
   "source": [
    "Another solution to high variance is to just get more data. We actually *have* more data, but took a subset of 10,000 units before. Let's now quadruple our data set, and see what happens. Note that we are really just lucky here, and getting more data isn't always possible, but this is a useful exercise in order to understand the power of big data sets.\n",
    "\n",
    "Run the cell below to preprocess our entire dataset, instead of just working with a subset of the data.  "
   ]
  },
  {
   "cell_type": "code",
   "execution_count": 75,
   "metadata": {},
   "outputs": [],
   "source": [
    "df = pd.read_csv('Bank_complaints.csv')\n",
    "random.seed(123)\n",
    "df = df.sample(40000)\n",
    "df.index = range(40000)\n",
    "product = df[\"Product\"]\n",
    "complaints = df[\"Consumer complaint narrative\"]\n",
    "\n",
    "#one-hot encoding of the complaints\n",
    "tokenizer = Tokenizer(num_words=2000)\n",
    "tokenizer.fit_on_texts(complaints)\n",
    "sequences = tokenizer.texts_to_sequences(complaints)\n",
    "one_hot_results= tokenizer.texts_to_matrix(complaints, mode='binary')\n",
    "word_index = tokenizer.word_index\n",
    "np.shape(one_hot_results)\n",
    "\n",
    "#one-hot encoding of products\n",
    "le = preprocessing.LabelEncoder()\n",
    "le.fit(product)\n",
    "list(le.classes_)\n",
    "product_cat = le.transform(product) \n",
    "product_onehot = to_categorical(product_cat)\n",
    "\n",
    "# train test split\n",
    "test_index = random.sample(range(1,40000), 4000)\n",
    "test = one_hot_results[test_index]\n",
    "train = np.delete(one_hot_results, test_index, 0)\n",
    "label_test = product_onehot[test_index]\n",
    "label_train = np.delete(product_onehot, test_index, 0)\n",
    "\n",
    "#Validation set\n",
    "random.seed(123)\n",
    "val = train[:3000]\n",
    "train_final = train[3000:]\n",
    "label_val = label_train[:3000]\n",
    "label_train_final = label_train[3000:]"
   ]
  },
  {
   "cell_type": "markdown",
   "metadata": {},
   "source": [
    "Now, build the first model that we built, without any regularization or dropout layers included. \n",
    "\n",
    "Train this model for 120 epochs.  All other hyperparameters should stay the same.  Store the fitted model inside of `moredata_model`.  "
   ]
  },
  {
   "cell_type": "code",
   "execution_count": 76,
   "metadata": {},
   "outputs": [
    {
     "name": "stdout",
     "output_type": "stream",
     "text": [
      "Epoch 1/120\n",
      "129/129 [==============================] - 2s 8ms/step - loss: 1.9364 - accuracy: 0.1979 - val_loss: 1.9046 - val_accuracy: 0.2627\n",
      "Epoch 2/120\n",
      "129/129 [==============================] - 1s 5ms/step - loss: 1.8541 - accuracy: 0.2932 - val_loss: 1.7930 - val_accuracy: 0.3393\n",
      "Epoch 3/120\n",
      "129/129 [==============================] - 1s 6ms/step - loss: 1.7108 - accuracy: 0.3906 - val_loss: 1.6196 - val_accuracy: 0.4590\n",
      "Epoch 4/120\n",
      "129/129 [==============================] - 1s 5ms/step - loss: 1.5092 - accuracy: 0.5052 - val_loss: 1.4065 - val_accuracy: 0.5437\n",
      "Epoch 5/120\n",
      "129/129 [==============================] - 1s 5ms/step - loss: 1.2995 - accuracy: 0.5886 - val_loss: 1.2142 - val_accuracy: 0.6053\n",
      "Epoch 6/120\n",
      "129/129 [==============================] - 1s 5ms/step - loss: 1.1243 - accuracy: 0.6408 - val_loss: 1.0664 - val_accuracy: 0.6493\n",
      "Epoch 7/120\n",
      "129/129 [==============================] - 1s 4ms/step - loss: 0.9952 - accuracy: 0.6703 - val_loss: 0.9606 - val_accuracy: 0.6760\n",
      "Epoch 8/120\n",
      "129/129 [==============================] - 1s 4ms/step - loss: 0.9039 - accuracy: 0.6946 - val_loss: 0.8872 - val_accuracy: 0.6900\n",
      "Epoch 9/120\n",
      "129/129 [==============================] - 1s 5ms/step - loss: 0.8380 - accuracy: 0.7111 - val_loss: 0.8325 - val_accuracy: 0.7050\n",
      "Epoch 10/120\n",
      "129/129 [==============================] - 1s 5ms/step - loss: 0.7887 - accuracy: 0.7238 - val_loss: 0.7920 - val_accuracy: 0.7203\n",
      "Epoch 11/120\n",
      "129/129 [==============================] - 1s 5ms/step - loss: 0.7502 - accuracy: 0.7321 - val_loss: 0.7611 - val_accuracy: 0.7240\n",
      "Epoch 12/120\n",
      "129/129 [==============================] - 1s 5ms/step - loss: 0.7197 - accuracy: 0.7397 - val_loss: 0.7348 - val_accuracy: 0.7330\n",
      "Epoch 13/120\n",
      "129/129 [==============================] - 1s 5ms/step - loss: 0.6939 - accuracy: 0.7477 - val_loss: 0.7139 - val_accuracy: 0.7390\n",
      "Epoch 14/120\n",
      "129/129 [==============================] - 1s 5ms/step - loss: 0.6722 - accuracy: 0.7543 - val_loss: 0.6958 - val_accuracy: 0.7520\n",
      "Epoch 15/120\n",
      "129/129 [==============================] - 1s 6ms/step - loss: 0.6534 - accuracy: 0.7601 - val_loss: 0.6801 - val_accuracy: 0.7520\n",
      "Epoch 16/120\n",
      "129/129 [==============================] - 1s 4ms/step - loss: 0.6371 - accuracy: 0.7665 - val_loss: 0.6665 - val_accuracy: 0.7623\n",
      "Epoch 17/120\n",
      "129/129 [==============================] - 1s 4ms/step - loss: 0.6224 - accuracy: 0.7718 - val_loss: 0.6552 - val_accuracy: 0.7657\n",
      "Epoch 18/120\n",
      "129/129 [==============================] - 2s 13ms/step - loss: 0.6094 - accuracy: 0.7753 - val_loss: 0.6450 - val_accuracy: 0.7667\n",
      "Epoch 19/120\n",
      "129/129 [==============================] - 2s 12ms/step - loss: 0.5973 - accuracy: 0.7813 - val_loss: 0.6358 - val_accuracy: 0.7703\n",
      "Epoch 20/120\n",
      "129/129 [==============================] - 2s 12ms/step - loss: 0.5866 - accuracy: 0.7855 - val_loss: 0.6273 - val_accuracy: 0.7737\n",
      "Epoch 21/120\n",
      "129/129 [==============================] - 1s 11ms/step - loss: 0.5769 - accuracy: 0.7886 - val_loss: 0.6189 - val_accuracy: 0.7803\n",
      "Epoch 22/120\n",
      "129/129 [==============================] - 1s 9ms/step - loss: 0.5677 - accuracy: 0.7929 - val_loss: 0.6128 - val_accuracy: 0.7760\n",
      "Epoch 23/120\n",
      "129/129 [==============================] - 1s 9ms/step - loss: 0.5589 - accuracy: 0.7962 - val_loss: 0.6061 - val_accuracy: 0.7830\n",
      "Epoch 24/120\n",
      "129/129 [==============================] - 1s 8ms/step - loss: 0.5508 - accuracy: 0.7991 - val_loss: 0.5990 - val_accuracy: 0.7860\n",
      "Epoch 25/120\n",
      "129/129 [==============================] - 1s 9ms/step - loss: 0.5435 - accuracy: 0.8028 - val_loss: 0.5950 - val_accuracy: 0.7843\n",
      "Epoch 26/120\n",
      "129/129 [==============================] - 1s 8ms/step - loss: 0.5361 - accuracy: 0.8060 - val_loss: 0.5912 - val_accuracy: 0.7880\n",
      "Epoch 27/120\n",
      "129/129 [==============================] - 1s 8ms/step - loss: 0.5296 - accuracy: 0.8092 - val_loss: 0.5852 - val_accuracy: 0.7923\n",
      "Epoch 28/120\n",
      "129/129 [==============================] - 1s 8ms/step - loss: 0.5231 - accuracy: 0.8111 - val_loss: 0.5850 - val_accuracy: 0.7870\n",
      "Epoch 29/120\n",
      "129/129 [==============================] - 1s 9ms/step - loss: 0.5171 - accuracy: 0.8141 - val_loss: 0.5773 - val_accuracy: 0.7960\n",
      "Epoch 30/120\n",
      "129/129 [==============================] - 1s 9ms/step - loss: 0.5114 - accuracy: 0.8160 - val_loss: 0.5739 - val_accuracy: 0.7953\n",
      "Epoch 31/120\n",
      "129/129 [==============================] - 1s 8ms/step - loss: 0.5060 - accuracy: 0.8178 - val_loss: 0.5706 - val_accuracy: 0.7980\n",
      "Epoch 32/120\n",
      "129/129 [==============================] - 1s 8ms/step - loss: 0.5007 - accuracy: 0.8199 - val_loss: 0.5683 - val_accuracy: 0.7983\n",
      "Epoch 33/120\n",
      "129/129 [==============================] - 2s 14ms/step - loss: 0.4959 - accuracy: 0.8215 - val_loss: 0.5648 - val_accuracy: 0.8007\n",
      "Epoch 34/120\n",
      "129/129 [==============================] - 1s 11ms/step - loss: 0.4908 - accuracy: 0.8229 - val_loss: 0.5616 - val_accuracy: 0.8030\n",
      "Epoch 35/120\n",
      "129/129 [==============================] - 1s 9ms/step - loss: 0.4862 - accuracy: 0.8258 - val_loss: 0.5587 - val_accuracy: 0.8037\n",
      "Epoch 36/120\n",
      "129/129 [==============================] - 1s 10ms/step - loss: 0.4818 - accuracy: 0.8280 - val_loss: 0.5576 - val_accuracy: 0.8043\n",
      "Epoch 37/120\n",
      "129/129 [==============================] - 1s 10ms/step - loss: 0.4777 - accuracy: 0.8292 - val_loss: 0.5556 - val_accuracy: 0.8060\n",
      "Epoch 38/120\n",
      "129/129 [==============================] - 1s 10ms/step - loss: 0.4732 - accuracy: 0.8304 - val_loss: 0.5556 - val_accuracy: 0.8040\n",
      "Epoch 39/120\n",
      "129/129 [==============================] - 1s 9ms/step - loss: 0.4693 - accuracy: 0.8323 - val_loss: 0.5511 - val_accuracy: 0.8083\n",
      "Epoch 40/120\n",
      "129/129 [==============================] - 1s 10ms/step - loss: 0.4655 - accuracy: 0.8326 - val_loss: 0.5485 - val_accuracy: 0.8077\n",
      "Epoch 41/120\n",
      "129/129 [==============================] - 1s 10ms/step - loss: 0.4614 - accuracy: 0.8343 - val_loss: 0.5475 - val_accuracy: 0.8133\n",
      "Epoch 42/120\n",
      "129/129 [==============================] - 2s 12ms/step - loss: 0.4579 - accuracy: 0.8355 - val_loss: 0.5461 - val_accuracy: 0.8103\n",
      "Epoch 43/120\n",
      "129/129 [==============================] - 1s 10ms/step - loss: 0.4544 - accuracy: 0.8380 - val_loss: 0.5455 - val_accuracy: 0.8103\n",
      "Epoch 44/120\n",
      "129/129 [==============================] - 1s 10ms/step - loss: 0.4509 - accuracy: 0.8386 - val_loss: 0.5437 - val_accuracy: 0.8110\n",
      "Epoch 45/120\n",
      "129/129 [==============================] - 1s 10ms/step - loss: 0.4475 - accuracy: 0.8394 - val_loss: 0.5432 - val_accuracy: 0.8107\n",
      "Epoch 46/120\n",
      "129/129 [==============================] - 1s 10ms/step - loss: 0.4443 - accuracy: 0.8415 - val_loss: 0.5415 - val_accuracy: 0.8137\n",
      "Epoch 47/120\n",
      "129/129 [==============================] - 1s 10ms/step - loss: 0.4409 - accuracy: 0.8420 - val_loss: 0.5417 - val_accuracy: 0.8100\n",
      "Epoch 48/120\n",
      "129/129 [==============================] - 1s 10ms/step - loss: 0.4382 - accuracy: 0.8433 - val_loss: 0.5397 - val_accuracy: 0.8170\n",
      "Epoch 49/120\n",
      "129/129 [==============================] - 1s 11ms/step - loss: 0.4350 - accuracy: 0.8448 - val_loss: 0.5383 - val_accuracy: 0.8170\n",
      "Epoch 50/120\n",
      "129/129 [==============================] - 1s 10ms/step - loss: 0.4319 - accuracy: 0.8465 - val_loss: 0.5393 - val_accuracy: 0.8173\n",
      "Epoch 51/120\n",
      "129/129 [==============================] - 1s 10ms/step - loss: 0.4292 - accuracy: 0.8464 - val_loss: 0.5376 - val_accuracy: 0.8150\n",
      "Epoch 52/120\n",
      "129/129 [==============================] - 1s 10ms/step - loss: 0.4262 - accuracy: 0.8488 - val_loss: 0.5392 - val_accuracy: 0.8163\n",
      "Epoch 53/120\n",
      "129/129 [==============================] - 1s 11ms/step - loss: 0.4233 - accuracy: 0.8495 - val_loss: 0.5372 - val_accuracy: 0.8170\n",
      "Epoch 54/120\n",
      "129/129 [==============================] - 3s 22ms/step - loss: 0.4211 - accuracy: 0.8498 - val_loss: 0.5332 - val_accuracy: 0.8197\n",
      "Epoch 55/120\n",
      "129/129 [==============================] - 2s 19ms/step - loss: 0.4184 - accuracy: 0.8517 - val_loss: 0.5366 - val_accuracy: 0.8180\n",
      "Epoch 56/120\n",
      "129/129 [==============================] - 1s 10ms/step - loss: 0.4156 - accuracy: 0.8518 - val_loss: 0.5327 - val_accuracy: 0.8177\n",
      "Epoch 57/120\n",
      "129/129 [==============================] - 1s 11ms/step - loss: 0.4130 - accuracy: 0.8536 - val_loss: 0.5312 - val_accuracy: 0.8213\n",
      "Epoch 58/120\n",
      "129/129 [==============================] - 1s 10ms/step - loss: 0.4110 - accuracy: 0.8541 - val_loss: 0.5320 - val_accuracy: 0.8197\n",
      "Epoch 59/120\n",
      "129/129 [==============================] - 1s 10ms/step - loss: 0.4082 - accuracy: 0.8550 - val_loss: 0.5318 - val_accuracy: 0.8210\n",
      "Epoch 60/120\n",
      "129/129 [==============================] - 1s 10ms/step - loss: 0.4061 - accuracy: 0.8557 - val_loss: 0.5315 - val_accuracy: 0.8200\n",
      "Epoch 61/120\n",
      "129/129 [==============================] - 1s 10ms/step - loss: 0.4037 - accuracy: 0.8570 - val_loss: 0.5354 - val_accuracy: 0.8183\n",
      "Epoch 62/120\n",
      "129/129 [==============================] - 2s 12ms/step - loss: 0.4016 - accuracy: 0.8575 - val_loss: 0.5306 - val_accuracy: 0.8200\n",
      "Epoch 63/120\n",
      "129/129 [==============================] - 1s 11ms/step - loss: 0.3993 - accuracy: 0.8584 - val_loss: 0.5354 - val_accuracy: 0.8183\n",
      "Epoch 64/120\n",
      "129/129 [==============================] - 2s 12ms/step - loss: 0.3972 - accuracy: 0.8593 - val_loss: 0.5320 - val_accuracy: 0.8200\n",
      "Epoch 65/120\n",
      "129/129 [==============================] - 2s 13ms/step - loss: 0.3950 - accuracy: 0.8605 - val_loss: 0.5318 - val_accuracy: 0.8197\n",
      "Epoch 66/120\n",
      "129/129 [==============================] - 1s 11ms/step - loss: 0.3930 - accuracy: 0.8605 - val_loss: 0.5306 - val_accuracy: 0.8213\n",
      "Epoch 67/120\n",
      "129/129 [==============================] - 1s 11ms/step - loss: 0.3907 - accuracy: 0.8621 - val_loss: 0.5299 - val_accuracy: 0.8183\n",
      "Epoch 68/120\n",
      "129/129 [==============================] - 2s 12ms/step - loss: 0.3887 - accuracy: 0.8627 - val_loss: 0.5313 - val_accuracy: 0.8230\n",
      "Epoch 69/120\n",
      "129/129 [==============================] - 1s 11ms/step - loss: 0.3868 - accuracy: 0.8634 - val_loss: 0.5370 - val_accuracy: 0.8190\n",
      "Epoch 70/120\n",
      "129/129 [==============================] - 1s 11ms/step - loss: 0.3849 - accuracy: 0.8637 - val_loss: 0.5298 - val_accuracy: 0.8207\n",
      "Epoch 71/120\n",
      "129/129 [==============================] - 1s 11ms/step - loss: 0.3831 - accuracy: 0.8642 - val_loss: 0.5330 - val_accuracy: 0.8237\n",
      "Epoch 72/120\n",
      "129/129 [==============================] - 1s 11ms/step - loss: 0.3809 - accuracy: 0.8655 - val_loss: 0.5332 - val_accuracy: 0.8230\n",
      "Epoch 73/120\n",
      "129/129 [==============================] - 2s 12ms/step - loss: 0.3794 - accuracy: 0.8662 - val_loss: 0.5323 - val_accuracy: 0.8230\n",
      "Epoch 74/120\n",
      "129/129 [==============================] - 1s 11ms/step - loss: 0.3772 - accuracy: 0.8664 - val_loss: 0.5330 - val_accuracy: 0.8213\n",
      "Epoch 75/120\n",
      "129/129 [==============================] - 1s 11ms/step - loss: 0.3756 - accuracy: 0.8672 - val_loss: 0.5347 - val_accuracy: 0.8210\n",
      "Epoch 76/120\n",
      "129/129 [==============================] - 1s 11ms/step - loss: 0.3736 - accuracy: 0.8681 - val_loss: 0.5336 - val_accuracy: 0.8223\n",
      "Epoch 77/120\n",
      "129/129 [==============================] - 1s 11ms/step - loss: 0.3719 - accuracy: 0.8688 - val_loss: 0.5348 - val_accuracy: 0.8253\n",
      "Epoch 78/120\n",
      "129/129 [==============================] - 1s 10ms/step - loss: 0.3703 - accuracy: 0.8698 - val_loss: 0.5346 - val_accuracy: 0.8247\n",
      "Epoch 79/120\n",
      "129/129 [==============================] - 1s 10ms/step - loss: 0.3684 - accuracy: 0.8702 - val_loss: 0.5353 - val_accuracy: 0.8203\n",
      "Epoch 80/120\n",
      "129/129 [==============================] - 1s 11ms/step - loss: 0.3670 - accuracy: 0.8705 - val_loss: 0.5355 - val_accuracy: 0.8227\n",
      "Epoch 81/120\n",
      "129/129 [==============================] - 1s 11ms/step - loss: 0.3654 - accuracy: 0.8712 - val_loss: 0.5317 - val_accuracy: 0.8223\n",
      "Epoch 82/120\n",
      "129/129 [==============================] - 1s 11ms/step - loss: 0.3635 - accuracy: 0.8727 - val_loss: 0.5340 - val_accuracy: 0.8237\n",
      "Epoch 83/120\n",
      "129/129 [==============================] - 2s 15ms/step - loss: 0.3619 - accuracy: 0.8727 - val_loss: 0.5331 - val_accuracy: 0.8217\n",
      "Epoch 84/120\n",
      "129/129 [==============================] - 1s 11ms/step - loss: 0.3601 - accuracy: 0.8734 - val_loss: 0.5354 - val_accuracy: 0.8223\n",
      "Epoch 85/120\n",
      "129/129 [==============================] - 1s 11ms/step - loss: 0.3588 - accuracy: 0.8742 - val_loss: 0.5367 - val_accuracy: 0.8220\n",
      "Epoch 86/120\n",
      "129/129 [==============================] - 1s 12ms/step - loss: 0.3571 - accuracy: 0.8742 - val_loss: 0.5359 - val_accuracy: 0.8193\n",
      "Epoch 87/120\n",
      "129/129 [==============================] - 1s 11ms/step - loss: 0.3557 - accuracy: 0.8750 - val_loss: 0.5361 - val_accuracy: 0.8240\n",
      "Epoch 88/120\n",
      "129/129 [==============================] - 2s 15ms/step - loss: 0.3542 - accuracy: 0.8755 - val_loss: 0.5386 - val_accuracy: 0.8207\n",
      "Epoch 89/120\n",
      "129/129 [==============================] - 1s 11ms/step - loss: 0.3524 - accuracy: 0.8767 - val_loss: 0.5397 - val_accuracy: 0.8230\n",
      "Epoch 90/120\n",
      "129/129 [==============================] - 1s 11ms/step - loss: 0.3511 - accuracy: 0.8768 - val_loss: 0.5416 - val_accuracy: 0.8237\n",
      "Epoch 91/120\n",
      "129/129 [==============================] - 1s 11ms/step - loss: 0.3496 - accuracy: 0.8782 - val_loss: 0.5396 - val_accuracy: 0.8213\n",
      "Epoch 92/120\n",
      "129/129 [==============================] - 1s 11ms/step - loss: 0.3481 - accuracy: 0.8783 - val_loss: 0.5416 - val_accuracy: 0.8210\n",
      "Epoch 93/120\n",
      "129/129 [==============================] - 2s 12ms/step - loss: 0.3464 - accuracy: 0.8789 - val_loss: 0.5395 - val_accuracy: 0.8217\n",
      "Epoch 94/120\n",
      "129/129 [==============================] - 1s 12ms/step - loss: 0.3453 - accuracy: 0.8785 - val_loss: 0.5411 - val_accuracy: 0.8170\n",
      "Epoch 95/120\n",
      "129/129 [==============================] - 1s 11ms/step - loss: 0.3437 - accuracy: 0.8797 - val_loss: 0.5490 - val_accuracy: 0.8200\n",
      "Epoch 96/120\n",
      "129/129 [==============================] - 2s 13ms/step - loss: 0.3425 - accuracy: 0.8808 - val_loss: 0.5419 - val_accuracy: 0.8197\n",
      "Epoch 97/120\n",
      "129/129 [==============================] - 1s 10ms/step - loss: 0.3409 - accuracy: 0.8808 - val_loss: 0.5418 - val_accuracy: 0.8217\n",
      "Epoch 98/120\n",
      "129/129 [==============================] - 1s 10ms/step - loss: 0.3397 - accuracy: 0.8808 - val_loss: 0.5428 - val_accuracy: 0.8193\n",
      "Epoch 99/120\n",
      "129/129 [==============================] - 1s 10ms/step - loss: 0.3382 - accuracy: 0.8819 - val_loss: 0.5482 - val_accuracy: 0.8230\n",
      "Epoch 100/120\n",
      "129/129 [==============================] - 1s 10ms/step - loss: 0.3371 - accuracy: 0.8814 - val_loss: 0.5454 - val_accuracy: 0.8207\n",
      "Epoch 101/120\n",
      "129/129 [==============================] - 1s 10ms/step - loss: 0.3357 - accuracy: 0.8830 - val_loss: 0.5480 - val_accuracy: 0.8200\n",
      "Epoch 102/120\n",
      "129/129 [==============================] - 1s 10ms/step - loss: 0.3343 - accuracy: 0.8835 - val_loss: 0.5480 - val_accuracy: 0.8183\n",
      "Epoch 103/120\n",
      "129/129 [==============================] - 1s 10ms/step - loss: 0.3332 - accuracy: 0.8836 - val_loss: 0.5496 - val_accuracy: 0.8213\n",
      "Epoch 104/120\n",
      "129/129 [==============================] - 1s 11ms/step - loss: 0.3316 - accuracy: 0.8840 - val_loss: 0.5484 - val_accuracy: 0.8187\n",
      "Epoch 105/120\n",
      "129/129 [==============================] - 1s 10ms/step - loss: 0.3305 - accuracy: 0.8841 - val_loss: 0.5490 - val_accuracy: 0.8190\n",
      "Epoch 106/120\n",
      "129/129 [==============================] - 1s 10ms/step - loss: 0.3293 - accuracy: 0.8860 - val_loss: 0.5518 - val_accuracy: 0.8207\n",
      "Epoch 107/120\n",
      "129/129 [==============================] - 1s 11ms/step - loss: 0.3275 - accuracy: 0.8854 - val_loss: 0.5493 - val_accuracy: 0.8217\n",
      "Epoch 108/120\n",
      "129/129 [==============================] - 1s 11ms/step - loss: 0.3263 - accuracy: 0.8865 - val_loss: 0.5505 - val_accuracy: 0.8183\n",
      "Epoch 109/120\n",
      "129/129 [==============================] - 2s 12ms/step - loss: 0.3254 - accuracy: 0.8872 - val_loss: 0.5543 - val_accuracy: 0.8187\n",
      "Epoch 110/120\n",
      "129/129 [==============================] - 1s 11ms/step - loss: 0.3241 - accuracy: 0.8868 - val_loss: 0.5530 - val_accuracy: 0.8183\n",
      "Epoch 111/120\n",
      "129/129 [==============================] - 1s 11ms/step - loss: 0.3230 - accuracy: 0.8884 - val_loss: 0.5575 - val_accuracy: 0.8207\n",
      "Epoch 112/120\n",
      "129/129 [==============================] - 2s 13ms/step - loss: 0.3220 - accuracy: 0.8885 - val_loss: 0.5561 - val_accuracy: 0.8190\n",
      "Epoch 113/120\n",
      "129/129 [==============================] - 2s 12ms/step - loss: 0.3206 - accuracy: 0.8879 - val_loss: 0.5567 - val_accuracy: 0.8187\n",
      "Epoch 114/120\n",
      "129/129 [==============================] - 1s 12ms/step - loss: 0.3192 - accuracy: 0.8891 - val_loss: 0.5587 - val_accuracy: 0.8160\n",
      "Epoch 115/120\n",
      "129/129 [==============================] - 1s 11ms/step - loss: 0.3183 - accuracy: 0.8891 - val_loss: 0.5573 - val_accuracy: 0.8190\n",
      "Epoch 116/120\n",
      "129/129 [==============================] - 2s 13ms/step - loss: 0.3167 - accuracy: 0.8900 - val_loss: 0.5588 - val_accuracy: 0.8180\n",
      "Epoch 117/120\n",
      "129/129 [==============================] - 2s 12ms/step - loss: 0.3158 - accuracy: 0.8900 - val_loss: 0.5589 - val_accuracy: 0.8187\n",
      "Epoch 118/120\n",
      "129/129 [==============================] - 2s 12ms/step - loss: 0.3146 - accuracy: 0.8900 - val_loss: 0.5607 - val_accuracy: 0.8193\n",
      "Epoch 119/120\n",
      "129/129 [==============================] - 2s 14ms/step - loss: 0.3135 - accuracy: 0.8896 - val_loss: 0.5598 - val_accuracy: 0.8203\n",
      "Epoch 120/120\n",
      "129/129 [==============================] - 1s 10ms/step - loss: 0.3124 - accuracy: 0.8910 - val_loss: 0.5627 - val_accuracy: 0.8180\n"
     ]
    }
   ],
   "source": [
    "model = Sequential()\n",
    "model.add(Dense(50, activation='relu', input_dim=2000))\n",
    "model.add(Dense(25, activation='relu'))\n",
    "model.add(Dense(7, activation='softmax'))\n",
    "model.compile(optimizer='SGD', loss='categorical_crossentropy', metrics=['accuracy'])\n",
    "\n",
    "\n",
    "moredata_model = model.fit(train_final,\n",
    "                    label_train_final,\n",
    "                    epochs=120,\n",
    "                    batch_size=256,\n",
    "                    validation_data=(val, label_val))"
   ]
  },
  {
   "cell_type": "markdown",
   "metadata": {},
   "source": [
    "Now, finally, let's check the results returned from `model.evaluate()` to see how this model stacks up with the other techniques we've used.  "
   ]
  },
  {
   "cell_type": "code",
   "execution_count": 77,
   "metadata": {},
   "outputs": [
    {
     "name": "stdout",
     "output_type": "stream",
     "text": [
      "1032/1032 [==============================] - 3s 2ms/step - loss: 0.3095 - accuracy: 0.8934\n",
      "125/125 [==============================] - 0s 2ms/step - loss: 0.5614 - accuracy: 0.8045\n"
     ]
    }
   ],
   "source": [
    "results_train = model.evaluate(train_final, label_train_final)\n",
    "results_test = model.evaluate(test, label_test)"
   ]
  },
  {
   "cell_type": "code",
   "execution_count": 78,
   "metadata": {},
   "outputs": [
    {
     "data": {
      "text/plain": [
       "[0.3095322549343109, 0.8933939337730408]"
      ]
     },
     "execution_count": 78,
     "metadata": {},
     "output_type": "execute_result"
    }
   ],
   "source": [
    "results_train # Expected Output:  [0.31160746300942971, 0.89160606060606062]"
   ]
  },
  {
   "cell_type": "code",
   "execution_count": 79,
   "metadata": {},
   "outputs": [
    {
     "data": {
      "text/plain": [
       "[0.5613914728164673, 0.8044999837875366]"
      ]
     },
     "execution_count": 79,
     "metadata": {},
     "output_type": "execute_result"
    }
   ],
   "source": [
    "results_test # Expected Output: [0.56076071488857271, 0.8145]"
   ]
  },
  {
   "cell_type": "markdown",
   "metadata": {},
   "source": [
    "With the same amount of epochs, we were able to get a fairly similar validation accuracy of 89.1%. Our test set accuracy went up from ~75% to a staggering 81.45% though, without any other regularization technique. You can still consider early stopping, L1, L2 and dropout here. It's clear that having more data has a strong impact on model performance!"
   ]
  },
  {
   "cell_type": "markdown",
   "metadata": {},
   "source": [
    "## Sources"
   ]
  },
  {
   "cell_type": "markdown",
   "metadata": {},
   "source": [
    "https://github.com/susanli2016/Machine-Learning-with-Python/blob/master/Consumer_complaints.ipynb"
   ]
  },
  {
   "cell_type": "markdown",
   "metadata": {},
   "source": [
    "https://catalog.data.gov/dataset/consumer-complaint-database"
   ]
  },
  {
   "cell_type": "markdown",
   "metadata": {},
   "source": [
    "## Further reading"
   ]
  },
  {
   "cell_type": "markdown",
   "metadata": {},
   "source": [
    "https://machinelearningmastery.com/dropout-regularization-deep-learning-models-keras/"
   ]
  }
 ],
 "metadata": {
  "kernelspec": {
   "display_name": "Python 3 (ipykernel)",
   "language": "python",
   "name": "python3"
  },
  "language_info": {
   "codemirror_mode": {
    "name": "ipython",
    "version": 3
   },
   "file_extension": ".py",
   "mimetype": "text/x-python",
   "name": "python",
   "nbconvert_exporter": "python",
   "pygments_lexer": "ipython3",
   "version": "3.9.12"
  }
 },
 "nbformat": 4,
 "nbformat_minor": 4
}
